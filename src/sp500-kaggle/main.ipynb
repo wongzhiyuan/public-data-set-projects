{
 "cells": [
  {
   "cell_type": "code",
   "execution_count": 20,
   "metadata": {},
   "outputs": [],
   "source": [
    "import pandas as pd \n",
    "import plotly.express as px \n",
    "import plotly.graph_objects as go\n",
    "from sklearn.preprocessing import StandardScaler"
   ]
  },
  {
   "attachments": {},
   "cell_type": "markdown",
   "metadata": {},
   "source": [
    "# Nothing much we can do about this dataset unfortunately \n",
    "\n",
    "Maybe can make some plots lmao so i guess this is plotting exercise :-)\n",
    "Training plotly rather than matplotlib since plt looks like shit"
   ]
  },
  {
   "cell_type": "code",
   "execution_count": 7,
   "metadata": {},
   "outputs": [],
   "source": [
    "df = pd.read_csv('/Users/wongzhiyuan/Downloads/constituents-financials_csv.csv')"
   ]
  },
  {
   "cell_type": "code",
   "execution_count": 15,
   "metadata": {},
   "outputs": [
    {
     "data": {
      "text/html": [
       "<div>\n",
       "<style scoped>\n",
       "    .dataframe tbody tr th:only-of-type {\n",
       "        vertical-align: middle;\n",
       "    }\n",
       "\n",
       "    .dataframe tbody tr th {\n",
       "        vertical-align: top;\n",
       "    }\n",
       "\n",
       "    .dataframe thead th {\n",
       "        text-align: right;\n",
       "    }\n",
       "</style>\n",
       "<table border=\"1\" class=\"dataframe\">\n",
       "  <thead>\n",
       "    <tr style=\"text-align: right;\">\n",
       "      <th></th>\n",
       "      <th>Symbol</th>\n",
       "      <th>Name</th>\n",
       "      <th>Sector</th>\n",
       "      <th>Price</th>\n",
       "      <th>Price/Earnings</th>\n",
       "      <th>Dividend Yield</th>\n",
       "      <th>Earnings/Share</th>\n",
       "      <th>52 Week Low</th>\n",
       "      <th>52 Week High</th>\n",
       "      <th>Market Cap</th>\n",
       "      <th>EBITDA</th>\n",
       "      <th>Price/Sales</th>\n",
       "      <th>Price/Book</th>\n",
       "      <th>SEC Filings</th>\n",
       "    </tr>\n",
       "  </thead>\n",
       "  <tbody>\n",
       "    <tr>\n",
       "      <th>0</th>\n",
       "      <td>MMM</td>\n",
       "      <td>3M Company</td>\n",
       "      <td>Industrials</td>\n",
       "      <td>222.89</td>\n",
       "      <td>24.31</td>\n",
       "      <td>2.332862</td>\n",
       "      <td>7.92</td>\n",
       "      <td>259.77</td>\n",
       "      <td>175.490</td>\n",
       "      <td>138721055226</td>\n",
       "      <td>9.048000e+09</td>\n",
       "      <td>4.390271</td>\n",
       "      <td>11.34</td>\n",
       "      <td>http://www.sec.gov/cgi-bin/browse-edgar?action...</td>\n",
       "    </tr>\n",
       "    <tr>\n",
       "      <th>1</th>\n",
       "      <td>AOS</td>\n",
       "      <td>A.O. Smith Corp</td>\n",
       "      <td>Industrials</td>\n",
       "      <td>60.24</td>\n",
       "      <td>27.76</td>\n",
       "      <td>1.147959</td>\n",
       "      <td>1.70</td>\n",
       "      <td>68.39</td>\n",
       "      <td>48.925</td>\n",
       "      <td>10783419933</td>\n",
       "      <td>6.010000e+08</td>\n",
       "      <td>3.575483</td>\n",
       "      <td>6.35</td>\n",
       "      <td>http://www.sec.gov/cgi-bin/browse-edgar?action...</td>\n",
       "    </tr>\n",
       "    <tr>\n",
       "      <th>2</th>\n",
       "      <td>ABT</td>\n",
       "      <td>Abbott Laboratories</td>\n",
       "      <td>Health Care</td>\n",
       "      <td>56.27</td>\n",
       "      <td>22.51</td>\n",
       "      <td>1.908982</td>\n",
       "      <td>0.26</td>\n",
       "      <td>64.60</td>\n",
       "      <td>42.280</td>\n",
       "      <td>102121042306</td>\n",
       "      <td>5.744000e+09</td>\n",
       "      <td>3.740480</td>\n",
       "      <td>3.19</td>\n",
       "      <td>http://www.sec.gov/cgi-bin/browse-edgar?action...</td>\n",
       "    </tr>\n",
       "    <tr>\n",
       "      <th>3</th>\n",
       "      <td>ABBV</td>\n",
       "      <td>AbbVie Inc.</td>\n",
       "      <td>Health Care</td>\n",
       "      <td>108.48</td>\n",
       "      <td>19.41</td>\n",
       "      <td>2.499560</td>\n",
       "      <td>3.29</td>\n",
       "      <td>125.86</td>\n",
       "      <td>60.050</td>\n",
       "      <td>181386347059</td>\n",
       "      <td>1.031000e+10</td>\n",
       "      <td>6.291571</td>\n",
       "      <td>26.14</td>\n",
       "      <td>http://www.sec.gov/cgi-bin/browse-edgar?action...</td>\n",
       "    </tr>\n",
       "    <tr>\n",
       "      <th>4</th>\n",
       "      <td>ACN</td>\n",
       "      <td>Accenture plc</td>\n",
       "      <td>Information Technology</td>\n",
       "      <td>150.51</td>\n",
       "      <td>25.47</td>\n",
       "      <td>1.714470</td>\n",
       "      <td>5.44</td>\n",
       "      <td>162.60</td>\n",
       "      <td>114.820</td>\n",
       "      <td>98765855553</td>\n",
       "      <td>5.643228e+09</td>\n",
       "      <td>2.604117</td>\n",
       "      <td>10.62</td>\n",
       "      <td>http://www.sec.gov/cgi-bin/browse-edgar?action...</td>\n",
       "    </tr>\n",
       "  </tbody>\n",
       "</table>\n",
       "</div>"
      ],
      "text/plain": [
       "  Symbol                 Name                  Sector   Price  Price/Earnings  \\\n",
       "0    MMM           3M Company             Industrials  222.89           24.31   \n",
       "1    AOS      A.O. Smith Corp             Industrials   60.24           27.76   \n",
       "2    ABT  Abbott Laboratories             Health Care   56.27           22.51   \n",
       "3   ABBV          AbbVie Inc.             Health Care  108.48           19.41   \n",
       "4    ACN        Accenture plc  Information Technology  150.51           25.47   \n",
       "\n",
       "   Dividend Yield  Earnings/Share  52 Week Low  52 Week High    Market Cap  \\\n",
       "0        2.332862            7.92       259.77       175.490  138721055226   \n",
       "1        1.147959            1.70        68.39        48.925   10783419933   \n",
       "2        1.908982            0.26        64.60        42.280  102121042306   \n",
       "3        2.499560            3.29       125.86        60.050  181386347059   \n",
       "4        1.714470            5.44       162.60       114.820   98765855553   \n",
       "\n",
       "         EBITDA  Price/Sales  Price/Book  \\\n",
       "0  9.048000e+09     4.390271       11.34   \n",
       "1  6.010000e+08     3.575483        6.35   \n",
       "2  5.744000e+09     3.740480        3.19   \n",
       "3  1.031000e+10     6.291571       26.14   \n",
       "4  5.643228e+09     2.604117       10.62   \n",
       "\n",
       "                                         SEC Filings  \n",
       "0  http://www.sec.gov/cgi-bin/browse-edgar?action...  \n",
       "1  http://www.sec.gov/cgi-bin/browse-edgar?action...  \n",
       "2  http://www.sec.gov/cgi-bin/browse-edgar?action...  \n",
       "3  http://www.sec.gov/cgi-bin/browse-edgar?action...  \n",
       "4  http://www.sec.gov/cgi-bin/browse-edgar?action...  "
      ]
     },
     "execution_count": 15,
     "metadata": {},
     "output_type": "execute_result"
    }
   ],
   "source": [
    "df.head()"
   ]
  },
  {
   "attachments": {},
   "cell_type": "markdown",
   "metadata": {},
   "source": [
    "# Looks like some prices are very high!"
   ]
  },
  {
   "cell_type": "code",
   "execution_count": 14,
   "metadata": {},
   "outputs": [
    {
     "data": {
      "application/vnd.plotly.v1+json": {
       "config": {
        "plotlyServerURL": "https://plot.ly"
       },
       "data": [
        {
         "hovertemplate": "Symbol=%{x}<br>Price=%{y}<extra></extra>",
         "legendgroup": "",
         "line": {
          "color": "#636efa",
          "dash": "solid"
         },
         "marker": {
          "symbol": "circle"
         },
         "mode": "lines",
         "name": "",
         "orientation": "v",
         "showlegend": false,
         "type": "scatter",
         "x": [
          "MMM",
          "AOS",
          "ABT",
          "ABBV",
          "ACN",
          "ATVI",
          "AYI",
          "ADBE",
          "AAP",
          "AMD",
          "AES",
          "AET",
          "AMG",
          "AFL",
          "A",
          "APD",
          "AKAM",
          "ALK",
          "ALB",
          "ARE",
          "ALXN",
          "ALGN",
          "ALLE",
          "AGN",
          "ADS",
          "LNT",
          "ALL",
          "GOOGL",
          "GOOG",
          "MO",
          "AMZN",
          "AEE",
          "AAL",
          "AEP",
          "AXP",
          "AIG",
          "AMT",
          "AWK",
          "AMP",
          "ABC",
          "AME",
          "AMGN",
          "APH",
          "APC",
          "ADI",
          "ANDV",
          "ANSS",
          "ANTM",
          "AON",
          "APA",
          "AIV",
          "AAPL",
          "AMAT",
          "APTV",
          "ADM",
          "ARNC",
          "AJG",
          "AIZ",
          "T",
          "ADSK",
          "ADP",
          "AZO",
          "AVB",
          "AVY",
          "BHGE",
          "BLL",
          "BAC",
          "BAX",
          "BBT",
          "BDX",
          "BRK.B",
          "BBY",
          "BIIB",
          "BLK",
          "HRB",
          "BA",
          "BWA",
          "BXP",
          "BSX",
          "BHF",
          "BMY",
          "AVGO",
          "BF.B",
          "CHRW",
          "CA",
          "COG",
          "CDNS",
          "CPB",
          "COF",
          "CAH",
          "KMX",
          "CCL",
          "CAT",
          "CBOE",
          "CBG",
          "CBS",
          "CELG",
          "CNC",
          "CNP",
          "CTL",
          "CERN",
          "CF",
          "SCHW",
          "CHTR",
          "CHK",
          "CVX",
          "CMG",
          "CB",
          "CHD",
          "CI",
          "XEC",
          "CINF",
          "CTAS",
          "CSCO",
          "C",
          "CFG",
          "CTXS",
          "CME",
          "CMS",
          "KO",
          "CTSH",
          "CL",
          "CMCSA",
          "CMA",
          "CAG",
          "CXO",
          "COP",
          "ED",
          "STZ",
          "GLW",
          "COST",
          "COTY",
          "CCI",
          "CSRA",
          "CSX",
          "CMI",
          "CVS",
          "DHI",
          "DHR",
          "DRI",
          "DVA",
          "DE",
          "DAL",
          "XRAY",
          "DVN",
          "DLR",
          "DFS",
          "DISCA",
          "DISCK",
          "DISH",
          "DG",
          "DLTR",
          "D",
          "DOV",
          "DWDP",
          "DPS",
          "DTE",
          "DUK",
          "DRE",
          "DXC",
          "ETFC",
          "EMN",
          "ETN",
          "EBAY",
          "ECL",
          "EIX",
          "EW",
          "EA",
          "EMR",
          "ETR",
          "EVHC",
          "EOG",
          "EQT",
          "EFX",
          "EQIX",
          "EQR",
          "ESS",
          "EL",
          "RE",
          "ES",
          "EXC",
          "EXPE",
          "EXPD",
          "ESRX",
          "EXR",
          "XOM",
          "FFIV",
          "FB",
          "FAST",
          "FRT",
          "FDX",
          "FIS",
          "FITB",
          "FE",
          "FISV",
          "FLIR",
          "FLS",
          "FLR",
          "FMC",
          "FL",
          "F",
          "FTV",
          "FBHS",
          "BEN",
          "FCX",
          "GPS",
          "GRMN",
          "IT",
          "GD",
          "GE",
          "GGP",
          "GIS",
          "GM",
          "GPC",
          "GILD",
          "GPN",
          "GS",
          "GT",
          "GWW",
          "HAL",
          "HBI",
          "HOG",
          "HRS",
          "HIG",
          "HAS",
          "HCA",
          "HCP",
          "HP",
          "HSIC",
          "HES",
          "HPE",
          "HLT",
          "HOLX",
          "HD",
          "HON",
          "HRL",
          "HST",
          "HPQ",
          "HUM",
          "HBAN",
          "HII",
          "IDXX",
          "INFO",
          "ITW",
          "ILMN",
          "INCY",
          "IR",
          "INTC",
          "ICE",
          "IBM",
          "IP",
          "IPG",
          "IFF",
          "INTU",
          "ISRG",
          "IVZ",
          "IQV",
          "IRM",
          "JBHT",
          "JEC",
          "SJM",
          "JNJ",
          "JCI",
          "JPM",
          "JNPR",
          "KSU",
          "K",
          "KEY",
          "KMB",
          "KIM",
          "KMI",
          "KLAC",
          "KSS",
          "KHC",
          "KR",
          "LB",
          "LLL",
          "LH",
          "LRCX",
          "LEG",
          "LEN",
          "LUK",
          "LLY",
          "LNC",
          "LKQ",
          "LMT",
          "L",
          "LOW",
          "LYB",
          "MTB",
          "MAC",
          "M",
          "MRO",
          "MPC",
          "MAR",
          "MMC",
          "MLM",
          "MAS",
          "MA",
          "MAT",
          "MKC",
          "MCD",
          "MCK",
          "MDT",
          "MRK",
          "MET",
          "MTD",
          "MGM",
          "KORS",
          "MCHP",
          "MU",
          "MSFT",
          "MAA",
          "MHK",
          "TAP",
          "MDLZ",
          "MON",
          "MNST",
          "MCO",
          "MS",
          "MSI",
          "MYL",
          "NDAQ",
          "NOV",
          "NAVI",
          "NTAP",
          "NFLX",
          "NWL",
          "NFX",
          "NEM",
          "NWSA",
          "NWS",
          "NEE",
          "NLSN",
          "NKE",
          "NI",
          "NBL",
          "JWN",
          "NSC",
          "NTRS",
          "NOC",
          "NCLH",
          "NRG",
          "NUE",
          "NVDA",
          "ORLY",
          "OXY",
          "OMC",
          "OKE",
          "ORCL",
          "PCAR",
          "PKG",
          "PH",
          "PDCO",
          "PAYX",
          "PYPL",
          "PNR",
          "PBCT",
          "PEP",
          "PKI",
          "PRGO",
          "PFE",
          "PCG",
          "PM",
          "PSX",
          "PNW",
          "PXD",
          "PNC",
          "RL",
          "PPG",
          "PPL",
          "PX",
          "PCLN",
          "PFG",
          "PG",
          "PGR",
          "PLD",
          "PRU",
          "PEG",
          "PSA",
          "PHM",
          "PVH",
          "QRVO",
          "QCOM",
          "PWR",
          "DGX",
          "RRC",
          "RJF",
          "RTN",
          "O",
          "RHT",
          "REG",
          "REGN",
          "RF",
          "RSG",
          "RMD",
          "RHI",
          "ROK",
          "COL",
          "ROP",
          "ROST",
          "RCL",
          "SPGI",
          "CRM",
          "SBAC",
          "SCG",
          "SLB",
          "SNI",
          "STX",
          "SEE",
          "SRE",
          "SHW",
          "SIG",
          "SPG",
          "SWKS",
          "SLG",
          "SNA",
          "SO",
          "LUV",
          "SWK",
          "SBUX",
          "STT",
          "SRCL",
          "SYK",
          "STI",
          "SYMC",
          "SYF",
          "SNPS",
          "SYY",
          "TROW",
          "TPR",
          "TGT",
          "TEL",
          "FTI",
          "TXN",
          "TXT",
          "BK",
          "CLX",
          "COO",
          "HSY",
          "MOS",
          "TRV",
          "DIS",
          "TMO",
          "TIF",
          "TWX",
          "TJX",
          "TMK",
          "TSS",
          "TSCO",
          "TDG",
          "TRIP",
          "FOXA",
          "FOX",
          "TSN",
          "USB",
          "UDR",
          "ULTA",
          "UAA",
          "UA",
          "UNP",
          "UAL",
          "UNH",
          "UPS",
          "URI",
          "UTX",
          "UHS",
          "UNM",
          "VFC",
          "VLO",
          "VAR",
          "VTR",
          "VRSN",
          "VRSK",
          "VZ",
          "VRTX",
          "VIAB",
          "V",
          "VNO",
          "VMC",
          "WMT",
          "WBA",
          "WM",
          "WAT",
          "WEC",
          "WFC",
          "HCN",
          "WDC",
          "WU",
          "WRK",
          "WY",
          "WHR",
          "WMB",
          "WLTW",
          "WYN",
          "WYNN",
          "XEL",
          "XRX",
          "XLNX",
          "XL",
          "XYL",
          "YUM",
          "ZBH",
          "ZION",
          "ZTS"
         ],
         "xaxis": "x",
         "y": [
          222.89,
          60.24,
          56.27,
          108.48,
          150.51,
          65.83,
          145.41,
          185.16,
          109.63,
          11.22,
          10.06,
          178,
          179.11,
          83.25,
          65.05,
          152.8,
          62.49,
          64.04,
          105.18,
          114.58,
          108.47,
          220.71,
          77.32,
          164.2,
          240.6,
          37.14,
          90.06,
          1007.71,
          1001.52,
          64.05,
          1350.5,
          52.59,
          48.6,
          63.38,
          88.34,
          58.28,
          133.57,
          76.06,
          152.5,
          91.55,
          72.05,
          173.12,
          84.44,
          56.2,
          82.68,
          96.9,
          148.84,
          230.57,
          136.05,
          37.73,
          38.21,
          155.15,
          45.75,
          89.27,
          41.35,
          24.45,
          64.4,
          85.16,
          35.57,
          104.81,
          108.25,
          718.57,
          154.94,
          110.77,
          27.5,
          38.44,
          29.74,
          62.56,
          51.07,
          211.44,
          191.42,
          68.79,
          311.79,
          509.38,
          25.19,
          329.66,
          51.94,
          112.09,
          25.2,
          55.44,
          62.69,
          229.57,
          63.33,
          90.47,
          32.66,
          23.01,
          36.82,
          44.83,
          91.8,
          66.63,
          64.34,
          66.76,
          145.99,
          111.15,
          41.92,
          51.8,
          91.02,
          100.36,
          25.85,
          16.2,
          61.22,
          37.46,
          48.9,
          348.65,
          2.82,
          112.3,
          266.01,
          140.39,
          47.38,
          189.27,
          100.19,
          70.34,
          149.32,
          38.77,
          71.87,
          42.19,
          84.53,
          153.04,
          41.77,
          43.1,
          75.16,
          68.95,
          38.19,
          89.18,
          35.49,
          140.09,
          53.24,
          74.73,
          208.73,
          28.45,
          178.61,
          19.96,
          103.81,
          30.85,
          50.47,
          165.73,
          70.55,
          44.55,
          92.16,
          91.33,
          71.91,
          153.66,
          51.23,
          56.85,
          34.94,
          98.96,
          72.4,
          22.87,
          21.58,
          43.77,
          95.1,
          101.58,
          73.31,
          96.2,
          68.21,
          116.93,
          98.49,
          74.32,
          24.52,
          91.92,
          48.48,
          93.57,
          79.41,
          41.02,
          127.76,
          58.07,
          123.78,
          116.54,
          66.4,
          72.02,
          35.34,
          101.04,
          46.25,
          114,
          409.98,
          55.26,
          218.28,
          131.46,
          241.06,
          56.11,
          35.98,
          123.03,
          60.36,
          73.35,
          77.56,
          76.07,
          137.25,
          171.58,
          52.15,
          108.11,
          239.27,
          92.74,
          31.1,
          30.64,
          133.05,
          46.46,
          40.82,
          55.31,
          80.87,
          45.88,
          10.43,
          69.14,
          62.44,
          38,
          17.16,
          31.17,
          61.13,
          114.26,
          206.05,
          14.45,
          21.62,
          53.99,
          40.75,
          96.31,
          78.22,
          100.59,
          246.35,
          30.75,
          258.6,
          47.41,
          19.57,
          47.54,
          149.84,
          53.34,
          96.48,
          95.97,
          22.64,
          64.87,
          70.85,
          43,
          15.04,
          78.66,
          38.8,
          181.22,
          146.02,
          32.21,
          18.75,
          19.92,
          262.37,
          15.1,
          225.37,
          169.28,
          43.73,
          156.15,
          209.54,
          83.92,
          87.6,
          42.75,
          67,
          147.59,
          56.05,
          21.34,
          138,
          152.75,
          381.87,
          31.92,
          95.23,
          32.07,
          114.81,
          62.82,
          118.37,
          126.36,
          36.55,
          107.88,
          24.66,
          103.53,
          65.98,
          20.08,
          111.69,
          14.01,
          16.8,
          98.54,
          60.34,
          71.58,
          27.57,
          47.77,
          198.79,
          165.46,
          162.23,
          43.99,
          59.11,
          23.86,
          74.21,
          73.86,
          38.86,
          334.3,
          46.05,
          95.01,
          105.79,
          178.35,
          58.36,
          24,
          15.68,
          62.79,
          133.88,
          79.31,
          208.42,
          40.7,
          160.62,
          16,
          101.36,
          158.97,
          150.23,
          78.38,
          54.73,
          44.28,
          601,
          33.5,
          60.03,
          79.9,
          40,
          85.01,
          85.39,
          256.57,
          74.51,
          42.68,
          119.08,
          61.99,
          152.14,
          51.79,
          98.74,
          39.25,
          75.21,
          32.64,
          13.38,
          55.85,
          250.1,
          27.91,
          26.38,
          36.61,
          15.65,
          15.85,
          145.29,
          33.9,
          62.49,
          22.51,
          25.43,
          47.23,
          136.89,
          96.2,
          324.01,
          56.01,
          24,
          60.38,
          217.52,
          252.22,
          68.47,
          75.91,
          54.4,
          46.84,
          66.98,
          111.95,
          174.51,
          32.88,
          61.86,
          72.32,
          66.67,
          18.56,
          110.15,
          72.06,
          84.44,
          33.63,
          38.24,
          100.39,
          92.44,
          74.34,
          169.16,
          149.38,
          101.32,
          110.3,
          29.52,
          144.07,
          1806.06,
          60.38,
          80.22,
          51.07,
          58.33,
          103.38,
          46.73,
          180.49,
          28.67,
          142.68,
          76.85,
          62.42,
          33.51,
          96.42,
          12.82,
          86.06,
          198.74,
          47.56,
          124.65,
          55.58,
          322.62,
          17.9,
          62.72,
          89.26,
          52.26,
          178.73,
          133.31,
          259.4,
          75.06,
          122.45,
          173.31,
          104.03,
          159.85,
          35.6,
          67.4,
          86.46,
          47.44,
          42.62,
          103.36,
          387.65,
          49.38,
          152.18,
          99.04,
          90.61,
          156.72,
          43.4,
          55.63,
          152.86,
          53.77,
          98.54,
          70.55,
          148.01,
          65.8,
          25.59,
          34.98,
          82.62,
          57,
          101.99,
          48.85,
          71.11,
          95.27,
          29.1,
          97.66,
          55.54,
          53.29,
          127.76,
          223.17,
          97.65,
          24.13,
          135.01,
          101.35,
          198.73,
          99.62,
          93.02,
          74.36,
          80.52,
          81.17,
          65.94,
          283,
          40.05,
          34.56,
          34.09,
          73.92,
          52.65,
          32.92,
          209.09,
          13.14,
          11.95,
          124.86,
          63.37,
          216.46,
          109.28,
          161.99,
          127.48,
          114.87,
          47.87,
          78.75,
          86.77,
          112.82,
          50.92,
          105.62,
          92.28,
          49.04,
          151.6,
          32.71,
          113.86,
          66.18,
          121.47,
          100.02,
          68.22,
          79.12,
          191.79,
          59.5,
          55.4,
          54.67,
          80.09,
          18.81,
          60.93,
          33.6,
          164.95,
          28.56,
          152.36,
          113.56,
          169.28,
          42.44,
          29.8,
          62.82,
          41.26,
          70.24,
          76.3,
          115.53,
          50.71,
          71.51
         ],
         "yaxis": "y"
        }
       ],
       "layout": {
        "legend": {
         "tracegroupgap": 0
        },
        "margin": {
         "t": 60
        },
        "template": {
         "data": {
          "bar": [
           {
            "error_x": {
             "color": "#2a3f5f"
            },
            "error_y": {
             "color": "#2a3f5f"
            },
            "marker": {
             "line": {
              "color": "#E5ECF6",
              "width": 0.5
             },
             "pattern": {
              "fillmode": "overlay",
              "size": 10,
              "solidity": 0.2
             }
            },
            "type": "bar"
           }
          ],
          "barpolar": [
           {
            "marker": {
             "line": {
              "color": "#E5ECF6",
              "width": 0.5
             },
             "pattern": {
              "fillmode": "overlay",
              "size": 10,
              "solidity": 0.2
             }
            },
            "type": "barpolar"
           }
          ],
          "carpet": [
           {
            "aaxis": {
             "endlinecolor": "#2a3f5f",
             "gridcolor": "white",
             "linecolor": "white",
             "minorgridcolor": "white",
             "startlinecolor": "#2a3f5f"
            },
            "baxis": {
             "endlinecolor": "#2a3f5f",
             "gridcolor": "white",
             "linecolor": "white",
             "minorgridcolor": "white",
             "startlinecolor": "#2a3f5f"
            },
            "type": "carpet"
           }
          ],
          "choropleth": [
           {
            "colorbar": {
             "outlinewidth": 0,
             "ticks": ""
            },
            "type": "choropleth"
           }
          ],
          "contour": [
           {
            "colorbar": {
             "outlinewidth": 0,
             "ticks": ""
            },
            "colorscale": [
             [
              0,
              "#0d0887"
             ],
             [
              0.1111111111111111,
              "#46039f"
             ],
             [
              0.2222222222222222,
              "#7201a8"
             ],
             [
              0.3333333333333333,
              "#9c179e"
             ],
             [
              0.4444444444444444,
              "#bd3786"
             ],
             [
              0.5555555555555556,
              "#d8576b"
             ],
             [
              0.6666666666666666,
              "#ed7953"
             ],
             [
              0.7777777777777778,
              "#fb9f3a"
             ],
             [
              0.8888888888888888,
              "#fdca26"
             ],
             [
              1,
              "#f0f921"
             ]
            ],
            "type": "contour"
           }
          ],
          "contourcarpet": [
           {
            "colorbar": {
             "outlinewidth": 0,
             "ticks": ""
            },
            "type": "contourcarpet"
           }
          ],
          "heatmap": [
           {
            "colorbar": {
             "outlinewidth": 0,
             "ticks": ""
            },
            "colorscale": [
             [
              0,
              "#0d0887"
             ],
             [
              0.1111111111111111,
              "#46039f"
             ],
             [
              0.2222222222222222,
              "#7201a8"
             ],
             [
              0.3333333333333333,
              "#9c179e"
             ],
             [
              0.4444444444444444,
              "#bd3786"
             ],
             [
              0.5555555555555556,
              "#d8576b"
             ],
             [
              0.6666666666666666,
              "#ed7953"
             ],
             [
              0.7777777777777778,
              "#fb9f3a"
             ],
             [
              0.8888888888888888,
              "#fdca26"
             ],
             [
              1,
              "#f0f921"
             ]
            ],
            "type": "heatmap"
           }
          ],
          "heatmapgl": [
           {
            "colorbar": {
             "outlinewidth": 0,
             "ticks": ""
            },
            "colorscale": [
             [
              0,
              "#0d0887"
             ],
             [
              0.1111111111111111,
              "#46039f"
             ],
             [
              0.2222222222222222,
              "#7201a8"
             ],
             [
              0.3333333333333333,
              "#9c179e"
             ],
             [
              0.4444444444444444,
              "#bd3786"
             ],
             [
              0.5555555555555556,
              "#d8576b"
             ],
             [
              0.6666666666666666,
              "#ed7953"
             ],
             [
              0.7777777777777778,
              "#fb9f3a"
             ],
             [
              0.8888888888888888,
              "#fdca26"
             ],
             [
              1,
              "#f0f921"
             ]
            ],
            "type": "heatmapgl"
           }
          ],
          "histogram": [
           {
            "marker": {
             "pattern": {
              "fillmode": "overlay",
              "size": 10,
              "solidity": 0.2
             }
            },
            "type": "histogram"
           }
          ],
          "histogram2d": [
           {
            "colorbar": {
             "outlinewidth": 0,
             "ticks": ""
            },
            "colorscale": [
             [
              0,
              "#0d0887"
             ],
             [
              0.1111111111111111,
              "#46039f"
             ],
             [
              0.2222222222222222,
              "#7201a8"
             ],
             [
              0.3333333333333333,
              "#9c179e"
             ],
             [
              0.4444444444444444,
              "#bd3786"
             ],
             [
              0.5555555555555556,
              "#d8576b"
             ],
             [
              0.6666666666666666,
              "#ed7953"
             ],
             [
              0.7777777777777778,
              "#fb9f3a"
             ],
             [
              0.8888888888888888,
              "#fdca26"
             ],
             [
              1,
              "#f0f921"
             ]
            ],
            "type": "histogram2d"
           }
          ],
          "histogram2dcontour": [
           {
            "colorbar": {
             "outlinewidth": 0,
             "ticks": ""
            },
            "colorscale": [
             [
              0,
              "#0d0887"
             ],
             [
              0.1111111111111111,
              "#46039f"
             ],
             [
              0.2222222222222222,
              "#7201a8"
             ],
             [
              0.3333333333333333,
              "#9c179e"
             ],
             [
              0.4444444444444444,
              "#bd3786"
             ],
             [
              0.5555555555555556,
              "#d8576b"
             ],
             [
              0.6666666666666666,
              "#ed7953"
             ],
             [
              0.7777777777777778,
              "#fb9f3a"
             ],
             [
              0.8888888888888888,
              "#fdca26"
             ],
             [
              1,
              "#f0f921"
             ]
            ],
            "type": "histogram2dcontour"
           }
          ],
          "mesh3d": [
           {
            "colorbar": {
             "outlinewidth": 0,
             "ticks": ""
            },
            "type": "mesh3d"
           }
          ],
          "parcoords": [
           {
            "line": {
             "colorbar": {
              "outlinewidth": 0,
              "ticks": ""
             }
            },
            "type": "parcoords"
           }
          ],
          "pie": [
           {
            "automargin": true,
            "type": "pie"
           }
          ],
          "scatter": [
           {
            "fillpattern": {
             "fillmode": "overlay",
             "size": 10,
             "solidity": 0.2
            },
            "type": "scatter"
           }
          ],
          "scatter3d": [
           {
            "line": {
             "colorbar": {
              "outlinewidth": 0,
              "ticks": ""
             }
            },
            "marker": {
             "colorbar": {
              "outlinewidth": 0,
              "ticks": ""
             }
            },
            "type": "scatter3d"
           }
          ],
          "scattercarpet": [
           {
            "marker": {
             "colorbar": {
              "outlinewidth": 0,
              "ticks": ""
             }
            },
            "type": "scattercarpet"
           }
          ],
          "scattergeo": [
           {
            "marker": {
             "colorbar": {
              "outlinewidth": 0,
              "ticks": ""
             }
            },
            "type": "scattergeo"
           }
          ],
          "scattergl": [
           {
            "marker": {
             "colorbar": {
              "outlinewidth": 0,
              "ticks": ""
             }
            },
            "type": "scattergl"
           }
          ],
          "scattermapbox": [
           {
            "marker": {
             "colorbar": {
              "outlinewidth": 0,
              "ticks": ""
             }
            },
            "type": "scattermapbox"
           }
          ],
          "scatterpolar": [
           {
            "marker": {
             "colorbar": {
              "outlinewidth": 0,
              "ticks": ""
             }
            },
            "type": "scatterpolar"
           }
          ],
          "scatterpolargl": [
           {
            "marker": {
             "colorbar": {
              "outlinewidth": 0,
              "ticks": ""
             }
            },
            "type": "scatterpolargl"
           }
          ],
          "scatterternary": [
           {
            "marker": {
             "colorbar": {
              "outlinewidth": 0,
              "ticks": ""
             }
            },
            "type": "scatterternary"
           }
          ],
          "surface": [
           {
            "colorbar": {
             "outlinewidth": 0,
             "ticks": ""
            },
            "colorscale": [
             [
              0,
              "#0d0887"
             ],
             [
              0.1111111111111111,
              "#46039f"
             ],
             [
              0.2222222222222222,
              "#7201a8"
             ],
             [
              0.3333333333333333,
              "#9c179e"
             ],
             [
              0.4444444444444444,
              "#bd3786"
             ],
             [
              0.5555555555555556,
              "#d8576b"
             ],
             [
              0.6666666666666666,
              "#ed7953"
             ],
             [
              0.7777777777777778,
              "#fb9f3a"
             ],
             [
              0.8888888888888888,
              "#fdca26"
             ],
             [
              1,
              "#f0f921"
             ]
            ],
            "type": "surface"
           }
          ],
          "table": [
           {
            "cells": {
             "fill": {
              "color": "#EBF0F8"
             },
             "line": {
              "color": "white"
             }
            },
            "header": {
             "fill": {
              "color": "#C8D4E3"
             },
             "line": {
              "color": "white"
             }
            },
            "type": "table"
           }
          ]
         },
         "layout": {
          "annotationdefaults": {
           "arrowcolor": "#2a3f5f",
           "arrowhead": 0,
           "arrowwidth": 1
          },
          "autotypenumbers": "strict",
          "coloraxis": {
           "colorbar": {
            "outlinewidth": 0,
            "ticks": ""
           }
          },
          "colorscale": {
           "diverging": [
            [
             0,
             "#8e0152"
            ],
            [
             0.1,
             "#c51b7d"
            ],
            [
             0.2,
             "#de77ae"
            ],
            [
             0.3,
             "#f1b6da"
            ],
            [
             0.4,
             "#fde0ef"
            ],
            [
             0.5,
             "#f7f7f7"
            ],
            [
             0.6,
             "#e6f5d0"
            ],
            [
             0.7,
             "#b8e186"
            ],
            [
             0.8,
             "#7fbc41"
            ],
            [
             0.9,
             "#4d9221"
            ],
            [
             1,
             "#276419"
            ]
           ],
           "sequential": [
            [
             0,
             "#0d0887"
            ],
            [
             0.1111111111111111,
             "#46039f"
            ],
            [
             0.2222222222222222,
             "#7201a8"
            ],
            [
             0.3333333333333333,
             "#9c179e"
            ],
            [
             0.4444444444444444,
             "#bd3786"
            ],
            [
             0.5555555555555556,
             "#d8576b"
            ],
            [
             0.6666666666666666,
             "#ed7953"
            ],
            [
             0.7777777777777778,
             "#fb9f3a"
            ],
            [
             0.8888888888888888,
             "#fdca26"
            ],
            [
             1,
             "#f0f921"
            ]
           ],
           "sequentialminus": [
            [
             0,
             "#0d0887"
            ],
            [
             0.1111111111111111,
             "#46039f"
            ],
            [
             0.2222222222222222,
             "#7201a8"
            ],
            [
             0.3333333333333333,
             "#9c179e"
            ],
            [
             0.4444444444444444,
             "#bd3786"
            ],
            [
             0.5555555555555556,
             "#d8576b"
            ],
            [
             0.6666666666666666,
             "#ed7953"
            ],
            [
             0.7777777777777778,
             "#fb9f3a"
            ],
            [
             0.8888888888888888,
             "#fdca26"
            ],
            [
             1,
             "#f0f921"
            ]
           ]
          },
          "colorway": [
           "#636efa",
           "#EF553B",
           "#00cc96",
           "#ab63fa",
           "#FFA15A",
           "#19d3f3",
           "#FF6692",
           "#B6E880",
           "#FF97FF",
           "#FECB52"
          ],
          "font": {
           "color": "#2a3f5f"
          },
          "geo": {
           "bgcolor": "white",
           "lakecolor": "white",
           "landcolor": "#E5ECF6",
           "showlakes": true,
           "showland": true,
           "subunitcolor": "white"
          },
          "hoverlabel": {
           "align": "left"
          },
          "hovermode": "closest",
          "mapbox": {
           "style": "light"
          },
          "paper_bgcolor": "white",
          "plot_bgcolor": "#E5ECF6",
          "polar": {
           "angularaxis": {
            "gridcolor": "white",
            "linecolor": "white",
            "ticks": ""
           },
           "bgcolor": "#E5ECF6",
           "radialaxis": {
            "gridcolor": "white",
            "linecolor": "white",
            "ticks": ""
           }
          },
          "scene": {
           "xaxis": {
            "backgroundcolor": "#E5ECF6",
            "gridcolor": "white",
            "gridwidth": 2,
            "linecolor": "white",
            "showbackground": true,
            "ticks": "",
            "zerolinecolor": "white"
           },
           "yaxis": {
            "backgroundcolor": "#E5ECF6",
            "gridcolor": "white",
            "gridwidth": 2,
            "linecolor": "white",
            "showbackground": true,
            "ticks": "",
            "zerolinecolor": "white"
           },
           "zaxis": {
            "backgroundcolor": "#E5ECF6",
            "gridcolor": "white",
            "gridwidth": 2,
            "linecolor": "white",
            "showbackground": true,
            "ticks": "",
            "zerolinecolor": "white"
           }
          },
          "shapedefaults": {
           "line": {
            "color": "#2a3f5f"
           }
          },
          "ternary": {
           "aaxis": {
            "gridcolor": "white",
            "linecolor": "white",
            "ticks": ""
           },
           "baxis": {
            "gridcolor": "white",
            "linecolor": "white",
            "ticks": ""
           },
           "bgcolor": "#E5ECF6",
           "caxis": {
            "gridcolor": "white",
            "linecolor": "white",
            "ticks": ""
           }
          },
          "title": {
           "x": 0.05
          },
          "xaxis": {
           "automargin": true,
           "gridcolor": "white",
           "linecolor": "white",
           "ticks": "",
           "title": {
            "standoff": 15
           },
           "zerolinecolor": "white",
           "zerolinewidth": 2
          },
          "yaxis": {
           "automargin": true,
           "gridcolor": "white",
           "linecolor": "white",
           "ticks": "",
           "title": {
            "standoff": 15
           },
           "zerolinecolor": "white",
           "zerolinewidth": 2
          }
         }
        },
        "xaxis": {
         "anchor": "y",
         "domain": [
          0,
          1
         ],
         "title": {
          "text": "Symbol"
         }
        },
        "yaxis": {
         "anchor": "x",
         "domain": [
          0,
          1
         ],
         "title": {
          "text": "Price"
         }
        }
       }
      }
     },
     "metadata": {},
     "output_type": "display_data"
    }
   ],
   "source": [
    "fig = px.line(df, x = 'Symbol', y = 'Price')\n",
    "fig.show()"
   ]
  },
  {
   "cell_type": "code",
   "execution_count": 17,
   "metadata": {},
   "outputs": [
    {
     "data": {
      "application/vnd.plotly.v1+json": {
       "config": {
        "plotlyServerURL": "https://plot.ly"
       },
       "data": [
        {
         "hovertemplate": "Symbol=%{x}<br>Dividend Yield=%{y}<extra></extra>",
         "legendgroup": "",
         "line": {
          "color": "#636efa",
          "dash": "solid"
         },
         "marker": {
          "symbol": "circle"
         },
         "mode": "lines",
         "name": "",
         "orientation": "v",
         "showlegend": false,
         "type": "scatter",
         "x": [
          "MMM",
          "AOS",
          "ABT",
          "ABBV",
          "ACN",
          "ATVI",
          "AYI",
          "ADBE",
          "AAP",
          "AMD",
          "AES",
          "AET",
          "AMG",
          "AFL",
          "A",
          "APD",
          "AKAM",
          "ALK",
          "ALB",
          "ARE",
          "ALXN",
          "ALGN",
          "ALLE",
          "AGN",
          "ADS",
          "LNT",
          "ALL",
          "GOOGL",
          "GOOG",
          "MO",
          "AMZN",
          "AEE",
          "AAL",
          "AEP",
          "AXP",
          "AIG",
          "AMT",
          "AWK",
          "AMP",
          "ABC",
          "AME",
          "AMGN",
          "APH",
          "APC",
          "ADI",
          "ANDV",
          "ANSS",
          "ANTM",
          "AON",
          "APA",
          "AIV",
          "AAPL",
          "AMAT",
          "APTV",
          "ADM",
          "ARNC",
          "AJG",
          "AIZ",
          "T",
          "ADSK",
          "ADP",
          "AZO",
          "AVB",
          "AVY",
          "BHGE",
          "BLL",
          "BAC",
          "BAX",
          "BBT",
          "BDX",
          "BRK.B",
          "BBY",
          "BIIB",
          "BLK",
          "HRB",
          "BA",
          "BWA",
          "BXP",
          "BSX",
          "BHF",
          "BMY",
          "AVGO",
          "BF.B",
          "CHRW",
          "CA",
          "COG",
          "CDNS",
          "CPB",
          "COF",
          "CAH",
          "KMX",
          "CCL",
          "CAT",
          "CBOE",
          "CBG",
          "CBS",
          "CELG",
          "CNC",
          "CNP",
          "CTL",
          "CERN",
          "CF",
          "SCHW",
          "CHTR",
          "CHK",
          "CVX",
          "CMG",
          "CB",
          "CHD",
          "CI",
          "XEC",
          "CINF",
          "CTAS",
          "CSCO",
          "C",
          "CFG",
          "CTXS",
          "CME",
          "CMS",
          "KO",
          "CTSH",
          "CL",
          "CMCSA",
          "CMA",
          "CAG",
          "CXO",
          "COP",
          "ED",
          "STZ",
          "GLW",
          "COST",
          "COTY",
          "CCI",
          "CSRA",
          "CSX",
          "CMI",
          "CVS",
          "DHI",
          "DHR",
          "DRI",
          "DVA",
          "DE",
          "DAL",
          "XRAY",
          "DVN",
          "DLR",
          "DFS",
          "DISCA",
          "DISCK",
          "DISH",
          "DG",
          "DLTR",
          "D",
          "DOV",
          "DWDP",
          "DPS",
          "DTE",
          "DUK",
          "DRE",
          "DXC",
          "ETFC",
          "EMN",
          "ETN",
          "EBAY",
          "ECL",
          "EIX",
          "EW",
          "EA",
          "EMR",
          "ETR",
          "EVHC",
          "EOG",
          "EQT",
          "EFX",
          "EQIX",
          "EQR",
          "ESS",
          "EL",
          "RE",
          "ES",
          "EXC",
          "EXPE",
          "EXPD",
          "ESRX",
          "EXR",
          "XOM",
          "FFIV",
          "FB",
          "FAST",
          "FRT",
          "FDX",
          "FIS",
          "FITB",
          "FE",
          "FISV",
          "FLIR",
          "FLS",
          "FLR",
          "FMC",
          "FL",
          "F",
          "FTV",
          "FBHS",
          "BEN",
          "FCX",
          "GPS",
          "GRMN",
          "IT",
          "GD",
          "GE",
          "GGP",
          "GIS",
          "GM",
          "GPC",
          "GILD",
          "GPN",
          "GS",
          "GT",
          "GWW",
          "HAL",
          "HBI",
          "HOG",
          "HRS",
          "HIG",
          "HAS",
          "HCA",
          "HCP",
          "HP",
          "HSIC",
          "HES",
          "HPE",
          "HLT",
          "HOLX",
          "HD",
          "HON",
          "HRL",
          "HST",
          "HPQ",
          "HUM",
          "HBAN",
          "HII",
          "IDXX",
          "INFO",
          "ITW",
          "ILMN",
          "INCY",
          "IR",
          "INTC",
          "ICE",
          "IBM",
          "IP",
          "IPG",
          "IFF",
          "INTU",
          "ISRG",
          "IVZ",
          "IQV",
          "IRM",
          "JBHT",
          "JEC",
          "SJM",
          "JNJ",
          "JCI",
          "JPM",
          "JNPR",
          "KSU",
          "K",
          "KEY",
          "KMB",
          "KIM",
          "KMI",
          "KLAC",
          "KSS",
          "KHC",
          "KR",
          "LB",
          "LLL",
          "LH",
          "LRCX",
          "LEG",
          "LEN",
          "LUK",
          "LLY",
          "LNC",
          "LKQ",
          "LMT",
          "L",
          "LOW",
          "LYB",
          "MTB",
          "MAC",
          "M",
          "MRO",
          "MPC",
          "MAR",
          "MMC",
          "MLM",
          "MAS",
          "MA",
          "MAT",
          "MKC",
          "MCD",
          "MCK",
          "MDT",
          "MRK",
          "MET",
          "MTD",
          "MGM",
          "KORS",
          "MCHP",
          "MU",
          "MSFT",
          "MAA",
          "MHK",
          "TAP",
          "MDLZ",
          "MON",
          "MNST",
          "MCO",
          "MS",
          "MSI",
          "MYL",
          "NDAQ",
          "NOV",
          "NAVI",
          "NTAP",
          "NFLX",
          "NWL",
          "NFX",
          "NEM",
          "NWSA",
          "NWS",
          "NEE",
          "NLSN",
          "NKE",
          "NI",
          "NBL",
          "JWN",
          "NSC",
          "NTRS",
          "NOC",
          "NCLH",
          "NRG",
          "NUE",
          "NVDA",
          "ORLY",
          "OXY",
          "OMC",
          "OKE",
          "ORCL",
          "PCAR",
          "PKG",
          "PH",
          "PDCO",
          "PAYX",
          "PYPL",
          "PNR",
          "PBCT",
          "PEP",
          "PKI",
          "PRGO",
          "PFE",
          "PCG",
          "PM",
          "PSX",
          "PNW",
          "PXD",
          "PNC",
          "RL",
          "PPG",
          "PPL",
          "PX",
          "PCLN",
          "PFG",
          "PG",
          "PGR",
          "PLD",
          "PRU",
          "PEG",
          "PSA",
          "PHM",
          "PVH",
          "QRVO",
          "QCOM",
          "PWR",
          "DGX",
          "RRC",
          "RJF",
          "RTN",
          "O",
          "RHT",
          "REG",
          "REGN",
          "RF",
          "RSG",
          "RMD",
          "RHI",
          "ROK",
          "COL",
          "ROP",
          "ROST",
          "RCL",
          "SPGI",
          "CRM",
          "SBAC",
          "SCG",
          "SLB",
          "SNI",
          "STX",
          "SEE",
          "SRE",
          "SHW",
          "SIG",
          "SPG",
          "SWKS",
          "SLG",
          "SNA",
          "SO",
          "LUV",
          "SWK",
          "SBUX",
          "STT",
          "SRCL",
          "SYK",
          "STI",
          "SYMC",
          "SYF",
          "SNPS",
          "SYY",
          "TROW",
          "TPR",
          "TGT",
          "TEL",
          "FTI",
          "TXN",
          "TXT",
          "BK",
          "CLX",
          "COO",
          "HSY",
          "MOS",
          "TRV",
          "DIS",
          "TMO",
          "TIF",
          "TWX",
          "TJX",
          "TMK",
          "TSS",
          "TSCO",
          "TDG",
          "TRIP",
          "FOXA",
          "FOX",
          "TSN",
          "USB",
          "UDR",
          "ULTA",
          "UAA",
          "UA",
          "UNP",
          "UAL",
          "UNH",
          "UPS",
          "URI",
          "UTX",
          "UHS",
          "UNM",
          "VFC",
          "VLO",
          "VAR",
          "VTR",
          "VRSN",
          "VRSK",
          "VZ",
          "VRTX",
          "VIAB",
          "V",
          "VNO",
          "VMC",
          "WMT",
          "WBA",
          "WM",
          "WAT",
          "WEC",
          "WFC",
          "HCN",
          "WDC",
          "WU",
          "WRK",
          "WY",
          "WHR",
          "WMB",
          "WLTW",
          "WYN",
          "WYNN",
          "XEL",
          "XRX",
          "XLNX",
          "XL",
          "XYL",
          "YUM",
          "ZBH",
          "ZION",
          "ZTS"
         ],
         "xaxis": "x",
         "y": [
          2.3328617,
          1.1479592,
          1.9089824,
          2.4995599,
          1.7144699,
          0.43190324,
          0.35118526,
          0,
          0.21832074,
          0,
          4.961832,
          1.101989,
          0.6387395,
          2.4299066,
          0.8756979,
          2.7811136,
          0,
          1.9928383,
          1.2004126,
          3.0262272,
          0,
          0,
          0.8004002,
          1.643289,
          0.9240122,
          3.5733333,
          1.5278208,
          0,
          0,
          3.9526875,
          0,
          3.4404964,
          0.7782101,
          3.8479443,
          1.4955667,
          2.1167521,
          2,
          2.129297,
          2.0735743,
          1.6132456,
          0.75512403,
          2.9751508,
          0.8608971,
          1.7029973,
          2.108963,
          2.3454583,
          0,
          1.2581781,
          1.0245464,
          2.528445,
          3.876562,
          1.5795412,
          0.8215239,
          0.9392678,
          3.1761081,
          0.9561753,
          2.4807138,
          2.5313594,
          5.4156513,
          0,
          2.2190912,
          0,
          3.7149355,
          1.5682175,
          2.4991322,
          1.0170354,
          1.536,
          0.97635394,
          2.4526198,
          1.3518385,
          0,
          1.9085041,
          0,
          2.1643558,
          3.7296038,
          1.9648397,
          1.2363636,
          2.7744062,
          0,
          0,
          2.5546863,
          2.9488583,
          1.1216964,
          1.987685,
          3,
          1.0269576,
          0,
          3.125,
          1.6306564,
          2.8394227,
          0,
          2.6041667,
          2.0215108,
          0.9426963,
          0,
          1.3473054,
          0,
          0,
          4.2109256,
          12.661196,
          0,
          3.0395136,
          0.76878726,
          0,
          0,
          3.885853,
          0,
          1.9251627,
          1.8366054,
          0.020466639,
          0.30214334,
          2.918904,
          1.0344827,
          2.8755577,
          1.7068943,
          1.9625335,
          0,
          3.6828613,
          3.3918407,
          3.3213644,
          1.0454783,
          2.2801766,
          1.8929017,
          1.2823253,
          2.3683476,
          0,
          2.049254,
          3.8001595,
          0.9712818,
          2.0791416,
          1.0917627,
          2.860412,
          3.862069,
          1.275917,
          1.5102888,
          2.5008683,
          2.6899798,
          1.0801469,
          0.5879265,
          2.6503997,
          0,
          1.4866204,
          2.2655525,
          0.60034305,
          0.6528836,
          3.5710857,
          1.8269607,
          0,
          0,
          0,
          1.0625255,
          0,
          4.5281997,
          1.8815053,
          2.1529746,
          1.9661016,
          3.5559585,
          4.7849464,
          3.1533308,
          0.7493755,
          0,
          2.2630835,
          2.9404557,
          0,
          1.2319711,
          4.0542803,
          0,
          0,
          2.813225,
          4.892126,
          0,
          0.63339007,
          0.2518363,
          1.3265306,
          1.8775817,
          3.5437918,
          3.2138102,
          1.1283498,
          2.1078234,
          3.3397784,
          3.8174274,
          0.92785895,
          1.3520038,
          0,
          3.879632,
          4.0031195,
          0,
          0,
          2.7798648,
          3.5925992,
          0.7963368,
          1.322724,
          1.9789734,
          4.673807,
          0,
          1.2396694,
          1.8291216,
          1.4726508,
          0.785995,
          2.5827951,
          6.7843866,
          0.39057052,
          1.2618296,
          2.332657,
          1.1198208,
          2.8203557,
          3.2339885,
          0,
          1.5631542,
          3.147541,
          4.005462,
          3.5864594,
          3.5857513,
          2.7198548,
          2.754954,
          0.037622273,
          1.1668612,
          1.6731402,
          1.9700643,
          1.4489837,
          2.7322404,
          3.0218647,
          1.4922442,
          1.7901897,
          2.2304833,
          1.4227642,
          6.330197,
          4.1499925,
          0,
          2.2670596,
          1.9280206,
          0.7315289,
          0,
          1.8610487,
          1.9710299,
          2.2907758,
          4.1131105,
          2.6270628,
          0.6040015,
          2.8132992,
          1.2264713,
          0,
          0,
          1.9089574,
          0,
          0,
          1.9739007,
          2.6548672,
          5.4298644,
          3.8999026,
          3.206751,
          3.3802817,
          1.9341276,
          0.96720195,
          0,
          3.466826,
          0,
          7.08258,
          0.8139042,
          0.9089532,
          2.6036885,
          2.5566885,
          2.7659574,
          1.9845841,
          1.5754234,
          1.3445379,
          3.363962,
          1.9876952,
          3.5599859,
          7.7134986,
          2.891845,
          2.2988505,
          3.4965036,
          3.3990483,
          1.7301039,
          4.886988,
          1.4444605,
          0,
          1.1652974,
          3.1454785,
          0.26268265,
          1.5993602,
          2.9327424,
          1.6813145,
          0,
          2.315954,
          4.5131636,
          1.6413131,
          3.264714,
          1.6218846,
          4.9177604,
          6.098546,
          1.2247398,
          2.8268552,
          0.9452879,
          1.8257059,
          0.8042038,
          0.98383695,
          0.5926628,
          0,
          2.0261056,
          2.437994,
          0.8898776,
          2.2618315,
          3.435934,
          3.4587116,
          0,
          1.2687428,
          0,
          1.7512966,
          0,
          1.8747908,
          4.19652,
          0,
          2.1533613,
          1.9977299,
          1.7938709,
          0,
          1.114065,
          1.8331805,
          2.0266979,
          0,
          1.9671283,
          0.5873715,
          4.5584044,
          1.3881658,
          0,
          3.1228786,
          0,
          0.8101539,
          1.24533,
          1.2269939,
          2.6537917,
          3.6208732,
          1.2189548,
          3.3780859,
          1.4771049,
          3.0020285,
          2.018503,
          1.6678249,
          1.3030859,
          0,
          1.4195584,
          2.415766,
          0.26223776,
          0,
          4.4081864,
          3.1838684,
          5.4436197,
          1.5551463,
          1.455816,
          2.1514556,
          1.4401833,
          3.0723782,
          3.0892801,
          0,
          2.03933,
          3.59375,
          2.8370044,
          0.3695394,
          0.73126143,
          3.8879359,
          0,
          4.328479,
          2.928564,
          3.698776,
          0.1816118,
          1.9354838,
          1.8570102,
          1.5771489,
          5.2196894,
          2.1998534,
          0,
          3.1914895,
          3.3704789,
          2.1061797,
          2.931379,
          2.6985698,
          3.60587,
          4.316159,
          1.2036108,
          0.100529455,
          0,
          3.5055351,
          0,
          1.9884669,
          0.6097561,
          1.0982976,
          1.5612764,
          5.372036,
          0,
          3.6850338,
          0,
          1.8987342,
          2.1362228,
          1.5120423,
          1.7075773,
          1.7692552,
          0.9748892,
          0.61985797,
          0.82061803,
          1.8674136,
          1.0947506,
          0,
          0,
          6.6830335,
          2.8673835,
          1.3761468,
          5.085772,
          1.4427412,
          3.1607263,
          0.8426688,
          2.4730754,
          5.0368075,
          1.2629502,
          3.4998922,
          1.968433,
          5.3530226,
          0.863707,
          1.5775635,
          2.203452,
          1.6228749,
          0,
          1.2234008,
          2.3185046,
          1.1286682,
          1.6,
          0,
          2.4644873,
          2.140443,
          0,
          3.3856654,
          1.6062645,
          1.7060367,
          2.4318495,
          0.1381454,
          1.7347307,
          2.6286967,
          0.026033757,
          2.6494346,
          0.3960396,
          2.0261714,
          1.6036655,
          0.3276319,
          1.9402406,
          1.6927768,
          1.64042,
          0.7204611,
          0.6091133,
          1.6030874,
          0,
          0,
          0.9983361,
          1.0084034,
          1.6353229,
          2.189781,
          3.668639,
          0,
          0,
          0,
          2.062655,
          0,
          1.3284917,
          2.9666696,
          0,
          2.1216943,
          0.34153005,
          1.8189007,
          2.2865665,
          3.5618877,
          0,
          5.965641,
          0,
          0,
          4.626544,
          0,
          2.622091,
          0.70204765,
          3.744428,
          0.7797879,
          1.983471,
          2.2368238,
          2.0800195,
          0,
          3.691948,
          2.7111576,
          6.1538463,
          2.389201,
          3.5915854,
          2.6699784,
          3.7079954,
          2.5652986,
          4,
          1.347058,
          1.9541779,
          1.1279043,
          3.3914273,
          3.207184,
          2.0904882,
          2.0952382,
          1.1700794,
          1.7970798,
          0.7948336,
          1.480933,
          0.68237203
         ],
         "yaxis": "y"
        }
       ],
       "layout": {
        "legend": {
         "tracegroupgap": 0
        },
        "margin": {
         "t": 60
        },
        "template": {
         "data": {
          "bar": [
           {
            "error_x": {
             "color": "#2a3f5f"
            },
            "error_y": {
             "color": "#2a3f5f"
            },
            "marker": {
             "line": {
              "color": "#E5ECF6",
              "width": 0.5
             },
             "pattern": {
              "fillmode": "overlay",
              "size": 10,
              "solidity": 0.2
             }
            },
            "type": "bar"
           }
          ],
          "barpolar": [
           {
            "marker": {
             "line": {
              "color": "#E5ECF6",
              "width": 0.5
             },
             "pattern": {
              "fillmode": "overlay",
              "size": 10,
              "solidity": 0.2
             }
            },
            "type": "barpolar"
           }
          ],
          "carpet": [
           {
            "aaxis": {
             "endlinecolor": "#2a3f5f",
             "gridcolor": "white",
             "linecolor": "white",
             "minorgridcolor": "white",
             "startlinecolor": "#2a3f5f"
            },
            "baxis": {
             "endlinecolor": "#2a3f5f",
             "gridcolor": "white",
             "linecolor": "white",
             "minorgridcolor": "white",
             "startlinecolor": "#2a3f5f"
            },
            "type": "carpet"
           }
          ],
          "choropleth": [
           {
            "colorbar": {
             "outlinewidth": 0,
             "ticks": ""
            },
            "type": "choropleth"
           }
          ],
          "contour": [
           {
            "colorbar": {
             "outlinewidth": 0,
             "ticks": ""
            },
            "colorscale": [
             [
              0,
              "#0d0887"
             ],
             [
              0.1111111111111111,
              "#46039f"
             ],
             [
              0.2222222222222222,
              "#7201a8"
             ],
             [
              0.3333333333333333,
              "#9c179e"
             ],
             [
              0.4444444444444444,
              "#bd3786"
             ],
             [
              0.5555555555555556,
              "#d8576b"
             ],
             [
              0.6666666666666666,
              "#ed7953"
             ],
             [
              0.7777777777777778,
              "#fb9f3a"
             ],
             [
              0.8888888888888888,
              "#fdca26"
             ],
             [
              1,
              "#f0f921"
             ]
            ],
            "type": "contour"
           }
          ],
          "contourcarpet": [
           {
            "colorbar": {
             "outlinewidth": 0,
             "ticks": ""
            },
            "type": "contourcarpet"
           }
          ],
          "heatmap": [
           {
            "colorbar": {
             "outlinewidth": 0,
             "ticks": ""
            },
            "colorscale": [
             [
              0,
              "#0d0887"
             ],
             [
              0.1111111111111111,
              "#46039f"
             ],
             [
              0.2222222222222222,
              "#7201a8"
             ],
             [
              0.3333333333333333,
              "#9c179e"
             ],
             [
              0.4444444444444444,
              "#bd3786"
             ],
             [
              0.5555555555555556,
              "#d8576b"
             ],
             [
              0.6666666666666666,
              "#ed7953"
             ],
             [
              0.7777777777777778,
              "#fb9f3a"
             ],
             [
              0.8888888888888888,
              "#fdca26"
             ],
             [
              1,
              "#f0f921"
             ]
            ],
            "type": "heatmap"
           }
          ],
          "heatmapgl": [
           {
            "colorbar": {
             "outlinewidth": 0,
             "ticks": ""
            },
            "colorscale": [
             [
              0,
              "#0d0887"
             ],
             [
              0.1111111111111111,
              "#46039f"
             ],
             [
              0.2222222222222222,
              "#7201a8"
             ],
             [
              0.3333333333333333,
              "#9c179e"
             ],
             [
              0.4444444444444444,
              "#bd3786"
             ],
             [
              0.5555555555555556,
              "#d8576b"
             ],
             [
              0.6666666666666666,
              "#ed7953"
             ],
             [
              0.7777777777777778,
              "#fb9f3a"
             ],
             [
              0.8888888888888888,
              "#fdca26"
             ],
             [
              1,
              "#f0f921"
             ]
            ],
            "type": "heatmapgl"
           }
          ],
          "histogram": [
           {
            "marker": {
             "pattern": {
              "fillmode": "overlay",
              "size": 10,
              "solidity": 0.2
             }
            },
            "type": "histogram"
           }
          ],
          "histogram2d": [
           {
            "colorbar": {
             "outlinewidth": 0,
             "ticks": ""
            },
            "colorscale": [
             [
              0,
              "#0d0887"
             ],
             [
              0.1111111111111111,
              "#46039f"
             ],
             [
              0.2222222222222222,
              "#7201a8"
             ],
             [
              0.3333333333333333,
              "#9c179e"
             ],
             [
              0.4444444444444444,
              "#bd3786"
             ],
             [
              0.5555555555555556,
              "#d8576b"
             ],
             [
              0.6666666666666666,
              "#ed7953"
             ],
             [
              0.7777777777777778,
              "#fb9f3a"
             ],
             [
              0.8888888888888888,
              "#fdca26"
             ],
             [
              1,
              "#f0f921"
             ]
            ],
            "type": "histogram2d"
           }
          ],
          "histogram2dcontour": [
           {
            "colorbar": {
             "outlinewidth": 0,
             "ticks": ""
            },
            "colorscale": [
             [
              0,
              "#0d0887"
             ],
             [
              0.1111111111111111,
              "#46039f"
             ],
             [
              0.2222222222222222,
              "#7201a8"
             ],
             [
              0.3333333333333333,
              "#9c179e"
             ],
             [
              0.4444444444444444,
              "#bd3786"
             ],
             [
              0.5555555555555556,
              "#d8576b"
             ],
             [
              0.6666666666666666,
              "#ed7953"
             ],
             [
              0.7777777777777778,
              "#fb9f3a"
             ],
             [
              0.8888888888888888,
              "#fdca26"
             ],
             [
              1,
              "#f0f921"
             ]
            ],
            "type": "histogram2dcontour"
           }
          ],
          "mesh3d": [
           {
            "colorbar": {
             "outlinewidth": 0,
             "ticks": ""
            },
            "type": "mesh3d"
           }
          ],
          "parcoords": [
           {
            "line": {
             "colorbar": {
              "outlinewidth": 0,
              "ticks": ""
             }
            },
            "type": "parcoords"
           }
          ],
          "pie": [
           {
            "automargin": true,
            "type": "pie"
           }
          ],
          "scatter": [
           {
            "fillpattern": {
             "fillmode": "overlay",
             "size": 10,
             "solidity": 0.2
            },
            "type": "scatter"
           }
          ],
          "scatter3d": [
           {
            "line": {
             "colorbar": {
              "outlinewidth": 0,
              "ticks": ""
             }
            },
            "marker": {
             "colorbar": {
              "outlinewidth": 0,
              "ticks": ""
             }
            },
            "type": "scatter3d"
           }
          ],
          "scattercarpet": [
           {
            "marker": {
             "colorbar": {
              "outlinewidth": 0,
              "ticks": ""
             }
            },
            "type": "scattercarpet"
           }
          ],
          "scattergeo": [
           {
            "marker": {
             "colorbar": {
              "outlinewidth": 0,
              "ticks": ""
             }
            },
            "type": "scattergeo"
           }
          ],
          "scattergl": [
           {
            "marker": {
             "colorbar": {
              "outlinewidth": 0,
              "ticks": ""
             }
            },
            "type": "scattergl"
           }
          ],
          "scattermapbox": [
           {
            "marker": {
             "colorbar": {
              "outlinewidth": 0,
              "ticks": ""
             }
            },
            "type": "scattermapbox"
           }
          ],
          "scatterpolar": [
           {
            "marker": {
             "colorbar": {
              "outlinewidth": 0,
              "ticks": ""
             }
            },
            "type": "scatterpolar"
           }
          ],
          "scatterpolargl": [
           {
            "marker": {
             "colorbar": {
              "outlinewidth": 0,
              "ticks": ""
             }
            },
            "type": "scatterpolargl"
           }
          ],
          "scatterternary": [
           {
            "marker": {
             "colorbar": {
              "outlinewidth": 0,
              "ticks": ""
             }
            },
            "type": "scatterternary"
           }
          ],
          "surface": [
           {
            "colorbar": {
             "outlinewidth": 0,
             "ticks": ""
            },
            "colorscale": [
             [
              0,
              "#0d0887"
             ],
             [
              0.1111111111111111,
              "#46039f"
             ],
             [
              0.2222222222222222,
              "#7201a8"
             ],
             [
              0.3333333333333333,
              "#9c179e"
             ],
             [
              0.4444444444444444,
              "#bd3786"
             ],
             [
              0.5555555555555556,
              "#d8576b"
             ],
             [
              0.6666666666666666,
              "#ed7953"
             ],
             [
              0.7777777777777778,
              "#fb9f3a"
             ],
             [
              0.8888888888888888,
              "#fdca26"
             ],
             [
              1,
              "#f0f921"
             ]
            ],
            "type": "surface"
           }
          ],
          "table": [
           {
            "cells": {
             "fill": {
              "color": "#EBF0F8"
             },
             "line": {
              "color": "white"
             }
            },
            "header": {
             "fill": {
              "color": "#C8D4E3"
             },
             "line": {
              "color": "white"
             }
            },
            "type": "table"
           }
          ]
         },
         "layout": {
          "annotationdefaults": {
           "arrowcolor": "#2a3f5f",
           "arrowhead": 0,
           "arrowwidth": 1
          },
          "autotypenumbers": "strict",
          "coloraxis": {
           "colorbar": {
            "outlinewidth": 0,
            "ticks": ""
           }
          },
          "colorscale": {
           "diverging": [
            [
             0,
             "#8e0152"
            ],
            [
             0.1,
             "#c51b7d"
            ],
            [
             0.2,
             "#de77ae"
            ],
            [
             0.3,
             "#f1b6da"
            ],
            [
             0.4,
             "#fde0ef"
            ],
            [
             0.5,
             "#f7f7f7"
            ],
            [
             0.6,
             "#e6f5d0"
            ],
            [
             0.7,
             "#b8e186"
            ],
            [
             0.8,
             "#7fbc41"
            ],
            [
             0.9,
             "#4d9221"
            ],
            [
             1,
             "#276419"
            ]
           ],
           "sequential": [
            [
             0,
             "#0d0887"
            ],
            [
             0.1111111111111111,
             "#46039f"
            ],
            [
             0.2222222222222222,
             "#7201a8"
            ],
            [
             0.3333333333333333,
             "#9c179e"
            ],
            [
             0.4444444444444444,
             "#bd3786"
            ],
            [
             0.5555555555555556,
             "#d8576b"
            ],
            [
             0.6666666666666666,
             "#ed7953"
            ],
            [
             0.7777777777777778,
             "#fb9f3a"
            ],
            [
             0.8888888888888888,
             "#fdca26"
            ],
            [
             1,
             "#f0f921"
            ]
           ],
           "sequentialminus": [
            [
             0,
             "#0d0887"
            ],
            [
             0.1111111111111111,
             "#46039f"
            ],
            [
             0.2222222222222222,
             "#7201a8"
            ],
            [
             0.3333333333333333,
             "#9c179e"
            ],
            [
             0.4444444444444444,
             "#bd3786"
            ],
            [
             0.5555555555555556,
             "#d8576b"
            ],
            [
             0.6666666666666666,
             "#ed7953"
            ],
            [
             0.7777777777777778,
             "#fb9f3a"
            ],
            [
             0.8888888888888888,
             "#fdca26"
            ],
            [
             1,
             "#f0f921"
            ]
           ]
          },
          "colorway": [
           "#636efa",
           "#EF553B",
           "#00cc96",
           "#ab63fa",
           "#FFA15A",
           "#19d3f3",
           "#FF6692",
           "#B6E880",
           "#FF97FF",
           "#FECB52"
          ],
          "font": {
           "color": "#2a3f5f"
          },
          "geo": {
           "bgcolor": "white",
           "lakecolor": "white",
           "landcolor": "#E5ECF6",
           "showlakes": true,
           "showland": true,
           "subunitcolor": "white"
          },
          "hoverlabel": {
           "align": "left"
          },
          "hovermode": "closest",
          "mapbox": {
           "style": "light"
          },
          "paper_bgcolor": "white",
          "plot_bgcolor": "#E5ECF6",
          "polar": {
           "angularaxis": {
            "gridcolor": "white",
            "linecolor": "white",
            "ticks": ""
           },
           "bgcolor": "#E5ECF6",
           "radialaxis": {
            "gridcolor": "white",
            "linecolor": "white",
            "ticks": ""
           }
          },
          "scene": {
           "xaxis": {
            "backgroundcolor": "#E5ECF6",
            "gridcolor": "white",
            "gridwidth": 2,
            "linecolor": "white",
            "showbackground": true,
            "ticks": "",
            "zerolinecolor": "white"
           },
           "yaxis": {
            "backgroundcolor": "#E5ECF6",
            "gridcolor": "white",
            "gridwidth": 2,
            "linecolor": "white",
            "showbackground": true,
            "ticks": "",
            "zerolinecolor": "white"
           },
           "zaxis": {
            "backgroundcolor": "#E5ECF6",
            "gridcolor": "white",
            "gridwidth": 2,
            "linecolor": "white",
            "showbackground": true,
            "ticks": "",
            "zerolinecolor": "white"
           }
          },
          "shapedefaults": {
           "line": {
            "color": "#2a3f5f"
           }
          },
          "ternary": {
           "aaxis": {
            "gridcolor": "white",
            "linecolor": "white",
            "ticks": ""
           },
           "baxis": {
            "gridcolor": "white",
            "linecolor": "white",
            "ticks": ""
           },
           "bgcolor": "#E5ECF6",
           "caxis": {
            "gridcolor": "white",
            "linecolor": "white",
            "ticks": ""
           }
          },
          "title": {
           "x": 0.05
          },
          "xaxis": {
           "automargin": true,
           "gridcolor": "white",
           "linecolor": "white",
           "ticks": "",
           "title": {
            "standoff": 15
           },
           "zerolinecolor": "white",
           "zerolinewidth": 2
          },
          "yaxis": {
           "automargin": true,
           "gridcolor": "white",
           "linecolor": "white",
           "ticks": "",
           "title": {
            "standoff": 15
           },
           "zerolinecolor": "white",
           "zerolinewidth": 2
          }
         }
        },
        "xaxis": {
         "anchor": "y",
         "domain": [
          0,
          1
         ],
         "title": {
          "text": "Symbol"
         }
        },
        "yaxis": {
         "anchor": "x",
         "domain": [
          0,
          1
         ],
         "title": {
          "text": "Dividend Yield"
         }
        }
       }
      }
     },
     "metadata": {},
     "output_type": "display_data"
    }
   ],
   "source": [
    "fig = px.line(df, x = 'Symbol', y = 'Dividend Yield')\n",
    "fig.show()"
   ]
  },
  {
   "attachments": {},
   "cell_type": "markdown",
   "metadata": {},
   "source": [
    "# Putting them together"
   ]
  },
  {
   "cell_type": "code",
   "execution_count": 26,
   "metadata": {},
   "outputs": [
    {
     "data": {
      "application/vnd.plotly.v1+json": {
       "config": {
        "plotlyServerURL": "https://plot.ly"
       },
       "data": [
        {
         "hovertemplate": "Symbol=%{x}<br>Price=%{y}<extra></extra>",
         "legendgroup": "",
         "line": {
          "color": "#636efa",
          "dash": "solid"
         },
         "marker": {
          "symbol": "circle"
         },
         "mode": "lines",
         "name": "",
         "orientation": "v",
         "showlegend": false,
         "type": "scatter",
         "x": [
          "MMM",
          "AOS",
          "ABT",
          "ABBV",
          "ACN",
          "ATVI",
          "AYI",
          "ADBE",
          "AAP",
          "AMD",
          "AES",
          "AET",
          "AMG",
          "AFL",
          "A",
          "APD",
          "AKAM",
          "ALK",
          "ALB",
          "ARE",
          "ALXN",
          "ALGN",
          "ALLE",
          "AGN",
          "ADS",
          "LNT",
          "ALL",
          "GOOGL",
          "GOOG",
          "MO",
          "AMZN",
          "AEE",
          "AAL",
          "AEP",
          "AXP",
          "AIG",
          "AMT",
          "AWK",
          "AMP",
          "ABC",
          "AME",
          "AMGN",
          "APH",
          "APC",
          "ADI",
          "ANDV",
          "ANSS",
          "ANTM",
          "AON",
          "APA",
          "AIV",
          "AAPL",
          "AMAT",
          "APTV",
          "ADM",
          "ARNC",
          "AJG",
          "AIZ",
          "T",
          "ADSK",
          "ADP",
          "AZO",
          "AVB",
          "AVY",
          "BHGE",
          "BLL",
          "BAC",
          "BAX",
          "BBT",
          "BDX",
          "BRK.B",
          "BBY",
          "BIIB",
          "BLK",
          "HRB",
          "BA",
          "BWA",
          "BXP",
          "BSX",
          "BHF",
          "BMY",
          "AVGO",
          "BF.B",
          "CHRW",
          "CA",
          "COG",
          "CDNS",
          "CPB",
          "COF",
          "CAH",
          "KMX",
          "CCL",
          "CAT",
          "CBOE",
          "CBG",
          "CBS",
          "CELG",
          "CNC",
          "CNP",
          "CTL",
          "CERN",
          "CF",
          "SCHW",
          "CHTR",
          "CHK",
          "CVX",
          "CMG",
          "CB",
          "CHD",
          "CI",
          "XEC",
          "CINF",
          "CTAS",
          "CSCO",
          "C",
          "CFG",
          "CTXS",
          "CME",
          "CMS",
          "KO",
          "CTSH",
          "CL",
          "CMCSA",
          "CMA",
          "CAG",
          "CXO",
          "COP",
          "ED",
          "STZ",
          "GLW",
          "COST",
          "COTY",
          "CCI",
          "CSRA",
          "CSX",
          "CMI",
          "CVS",
          "DHI",
          "DHR",
          "DRI",
          "DVA",
          "DE",
          "DAL",
          "XRAY",
          "DVN",
          "DLR",
          "DFS",
          "DISCA",
          "DISCK",
          "DISH",
          "DG",
          "DLTR",
          "D",
          "DOV",
          "DWDP",
          "DPS",
          "DTE",
          "DUK",
          "DRE",
          "DXC",
          "ETFC",
          "EMN",
          "ETN",
          "EBAY",
          "ECL",
          "EIX",
          "EW",
          "EA",
          "EMR",
          "ETR",
          "EVHC",
          "EOG",
          "EQT",
          "EFX",
          "EQIX",
          "EQR",
          "ESS",
          "EL",
          "RE",
          "ES",
          "EXC",
          "EXPE",
          "EXPD",
          "ESRX",
          "EXR",
          "XOM",
          "FFIV",
          "FB",
          "FAST",
          "FRT",
          "FDX",
          "FIS",
          "FITB",
          "FE",
          "FISV",
          "FLIR",
          "FLS",
          "FLR",
          "FMC",
          "FL",
          "F",
          "FTV",
          "FBHS",
          "BEN",
          "FCX",
          "GPS",
          "GRMN",
          "IT",
          "GD",
          "GE",
          "GGP",
          "GIS",
          "GM",
          "GPC",
          "GILD",
          "GPN",
          "GS",
          "GT",
          "GWW",
          "HAL",
          "HBI",
          "HOG",
          "HRS",
          "HIG",
          "HAS",
          "HCA",
          "HCP",
          "HP",
          "HSIC",
          "HES",
          "HPE",
          "HLT",
          "HOLX",
          "HD",
          "HON",
          "HRL",
          "HST",
          "HPQ",
          "HUM",
          "HBAN",
          "HII",
          "IDXX",
          "INFO",
          "ITW",
          "ILMN",
          "INCY",
          "IR",
          "INTC",
          "ICE",
          "IBM",
          "IP",
          "IPG",
          "IFF",
          "INTU",
          "ISRG",
          "IVZ",
          "IQV",
          "IRM",
          "JBHT",
          "JEC",
          "SJM",
          "JNJ",
          "JCI",
          "JPM",
          "JNPR",
          "KSU",
          "K",
          "KEY",
          "KMB",
          "KIM",
          "KMI",
          "KLAC",
          "KSS",
          "KHC",
          "KR",
          "LB",
          "LLL",
          "LH",
          "LRCX",
          "LEG",
          "LEN",
          "LUK",
          "LLY",
          "LNC",
          "LKQ",
          "LMT",
          "L",
          "LOW",
          "LYB",
          "MTB",
          "MAC",
          "M",
          "MRO",
          "MPC",
          "MAR",
          "MMC",
          "MLM",
          "MAS",
          "MA",
          "MAT",
          "MKC",
          "MCD",
          "MCK",
          "MDT",
          "MRK",
          "MET",
          "MTD",
          "MGM",
          "KORS",
          "MCHP",
          "MU",
          "MSFT",
          "MAA",
          "MHK",
          "TAP",
          "MDLZ",
          "MON",
          "MNST",
          "MCO",
          "MS",
          "MSI",
          "MYL",
          "NDAQ",
          "NOV",
          "NAVI",
          "NTAP",
          "NFLX",
          "NWL",
          "NFX",
          "NEM",
          "NWSA",
          "NWS",
          "NEE",
          "NLSN",
          "NKE",
          "NI",
          "NBL",
          "JWN",
          "NSC",
          "NTRS",
          "NOC",
          "NCLH",
          "NRG",
          "NUE",
          "NVDA",
          "ORLY",
          "OXY",
          "OMC",
          "OKE",
          "ORCL",
          "PCAR",
          "PKG",
          "PH",
          "PDCO",
          "PAYX",
          "PYPL",
          "PNR",
          "PBCT",
          "PEP",
          "PKI",
          "PRGO",
          "PFE",
          "PCG",
          "PM",
          "PSX",
          "PNW",
          "PXD",
          "PNC",
          "RL",
          "PPG",
          "PPL",
          "PX",
          "PCLN",
          "PFG",
          "PG",
          "PGR",
          "PLD",
          "PRU",
          "PEG",
          "PSA",
          "PHM",
          "PVH",
          "QRVO",
          "QCOM",
          "PWR",
          "DGX",
          "RRC",
          "RJF",
          "RTN",
          "O",
          "RHT",
          "REG",
          "REGN",
          "RF",
          "RSG",
          "RMD",
          "RHI",
          "ROK",
          "COL",
          "ROP",
          "ROST",
          "RCL",
          "SPGI",
          "CRM",
          "SBAC",
          "SCG",
          "SLB",
          "SNI",
          "STX",
          "SEE",
          "SRE",
          "SHW",
          "SIG",
          "SPG",
          "SWKS",
          "SLG",
          "SNA",
          "SO",
          "LUV",
          "SWK",
          "SBUX",
          "STT",
          "SRCL",
          "SYK",
          "STI",
          "SYMC",
          "SYF",
          "SNPS",
          "SYY",
          "TROW",
          "TPR",
          "TGT",
          "TEL",
          "FTI",
          "TXN",
          "TXT",
          "BK",
          "CLX",
          "COO",
          "HSY",
          "MOS",
          "TRV",
          "DIS",
          "TMO",
          "TIF",
          "TWX",
          "TJX",
          "TMK",
          "TSS",
          "TSCO",
          "TDG",
          "TRIP",
          "FOXA",
          "FOX",
          "TSN",
          "USB",
          "UDR",
          "ULTA",
          "UAA",
          "UA",
          "UNP",
          "UAL",
          "UNH",
          "UPS",
          "URI",
          "UTX",
          "UHS",
          "UNM",
          "VFC",
          "VLO",
          "VAR",
          "VTR",
          "VRSN",
          "VRSK",
          "VZ",
          "VRTX",
          "VIAB",
          "V",
          "VNO",
          "VMC",
          "WMT",
          "WBA",
          "WM",
          "WAT",
          "WEC",
          "WFC",
          "HCN",
          "WDC",
          "WU",
          "WRK",
          "WY",
          "WHR",
          "WMB",
          "WLTW",
          "WYN",
          "WYNN",
          "XEL",
          "XRX",
          "XLNX",
          "XL",
          "XYL",
          "YUM",
          "ZBH",
          "ZION",
          "ZTS"
         ],
         "xaxis": "x",
         "y": [
          0.8856762628596787,
          -0.32426839405054353,
          -0.3538010118675345,
          0.03458638768538717,
          0.34724531132471476,
          -0.28268468281704745,
          0.3093066839023838,
          0.6050048093999635,
          0.043141176221795065,
          -0.6889255540981248,
          -0.6975547321000668,
          0.5517419520776322,
          0.5599991827519043,
          -0.15309823385685026,
          -0.2884870611286981,
          0.3642804989319968,
          -0.3075307643053975,
          -0.2960003971476302,
          0.010037864059173021,
          0.07996396166111633,
          0.034511998219853145,
          0.8694593593732707,
          -0.1972111869185018,
          0.4490844896407365,
          1.0174200063203613,
          -0.4961080594340427,
          -0.10243900782820828,
          6.723910296897679,
          6.677863217732144,
          -0.2959260076820963,
          9.273906785937058,
          -0.38117633518404,
          -0.41085773193209896,
          -0.3009101018728731,
          -0.11523399590005322,
          -0.3388487292952041,
          0.2212295567101487,
          -0.20658425957578352,
          0.3620488149659773,
          -0.09135497746364495,
          -0.23641443525491046,
          0.5154398928970488,
          -0.14424588745830635,
          -0.3543217381262724,
          -0.15733843339228717,
          -0.051556613402964344,
          0.33482227058053976,
          0.9428073723897772,
          0.23967814416257646,
          -0.4917190809675378,
          -0.4881483866219065,
          0.38176202333248266,
          -0.43205872960928393,
          -0.10831577560539292,
          -0.46479009444423613,
          -0.5905082911966663,
          -0.29332237638840686,
          -0.13888984593985965,
          -0.5077872055228779,
          0.0072854538344156415,
          0.03287542997810554,
          4.573013290448115,
          0.38019984455626893,
          0.05162157529266905,
          -0.5678195042088017,
          -0.486437428914625,
          -0.5511562639291896,
          -0.30701003804665966,
          -0.39248353394520535,
          0.800500324823269,
          0.6515726148242363,
          -0.2606654010189886,
          1.5469986114567817,
          3.0168600609427383,
          -0.5850034707471515,
          1.6799325863660082,
          -0.3860116504437489,
          0.06144098474315478,
          -0.5849290812816176,
          -0.35997533750685506,
          -0.3060429749947179,
          0.9353684258363789,
          -0.301282049200543,
          -0.09938903974131502,
          -0.5294345399932668,
          -0.6012203742335597,
          -0.49848852233113017,
          -0.4389025604384103,
          -0.08949524082529539,
          -0.2767335255743289,
          -0.2937687131816108,
          -0.27576646252238707,
          0.31362127290335484,
          0.05444837498296046,
          -0.46054989490879916,
          -0.38705310296122464,
          -0.09529761913694601,
          -0.02581785832820651,
          -0.5800937660219088,
          -0.6518796002622016,
          -0.31697822642821327,
          -0.4937275965369552,
          -0.4086260479660795,
          1.8211981814150402,
          -0.75141270514667,
          0.06300316351936835,
          1.2064436382422106,
          0.2719631722043246,
          -0.4199332467272448,
          0.6355788797344303,
          -0.02708247924228422,
          -0.24913503386122138,
          0.3383929649261709,
          -0.4839825765520035,
          -0.23775344563452208,
          -0.45854137933938166,
          -0.1435763822685005,
          0.36606584610481224,
          -0.46166573689180884,
          -0.45177193797578924,
          -0.21327931147384196,
          -0.2594751695704449,
          -0.4882971655529746,
          -0.10898528079519869,
          -0.5083823212471497,
          0.26973148823830523,
          -0.37634101992433117,
          -0.21647805849180315,
          0.7803407796635597,
          -0.5607525049830733,
          0.5562797094752052,
          -0.6239091612214243,
          -0.00015349271898258967,
          -0.5428990332549176,
          -0.3969469018772443,
          0.4604660778674358,
          -0.24757285508500781,
          -0.4409854654733618,
          -0.08681722006607202,
          -0.09299154570539254,
          -0.23745588777238621,
          0.3706779929679192,
          -0.39129330249666167,
          -0.34948642286656356,
          -0.5124737418515188,
          -0.03623238350296407,
          -0.233810803961221,
          -0.6022618267510355,
          -0.6118580678049191,
          -0.4467878437850124,
          -0.06494671719908124,
          -0.016742343533060675,
          -0.22704136259762864,
          -0.056763875990343125,
          -0.2649799900199597,
          0.09744548606160224,
          -0.039728688383061234,
          -0.2195280265786965,
          -0.5899875649379284,
          -0.08860256723888757,
          -0.4117504055185068,
          -0.07632830542578055,
          -0.18166378862189947,
          -0.4672449468068575,
          0.17800927723490506,
          -0.3404109080714177,
          0.1484022699523801,
          0.09454429690577693,
          -0.2784444832816104,
          -0.2366376036515124,
          -0.5094981632301595,
          -0.02075937467189566,
          -0.4283392563325848,
          0.07564937266014538,
          2.2774287735349543,
          -0.36131434788646677,
          0.8513827192485129,
          0.20553337948247855,
          1.0208419217349247,
          -0.35499124331607823,
          -0.5047372374359848,
          0.14282306003733142,
          -0.32337572046413576,
          -0.22674380473549277,
          -0.19542583974568617,
          -0.2065098701102496,
          0.24860488002665426,
          0.5039839152048157,
          -0.38444947166753524,
          0.031833977460629784,
          1.0075262074043418,
          -0.08250263106510107,
          -0.541039296616568,
          -0.5444612120311312,
          0.21736130450238175,
          -0.4267770775563712,
          -0.4687327361175372,
          -0.36094240055879684,
          -0.170802926653938,
          -0.43109166655734216,
          -0.6948023218753094,
          -0.25806176972529926,
          -0.3079027116330675,
          -0.48971056539812025,
          -0.6447382115709394,
          -0.5405185703578301,
          -0.3176477316180191,
          0.07758349876402895,
          0.7604044029004526,
          -0.6648977567306485,
          -0.6115605099427832,
          -0.3707618100092825,
          -0.4692534623762751,
          -0.055945591869469326,
          -0.19051613502044334,
          -0.024106900620924885,
          1.0601939490024013,
          -0.5436429279102574,
          1.1513210442815298,
          -0.4197100783306429,
          -0.6268103503772496,
          -0.4187430152787011,
          0.34226121713393803,
          -0.3755971252689913,
          -0.054680970955391615,
          -0.05847483369762475,
          -0.603972784458317,
          -0.2898260715083097,
          -0.24534117111898834,
          -0.45251583263112904,
          -0.6605087782641437,
          -0.18724299853694815,
          -0.48375940815540164,
          0.5756953599795744,
          0.3138444412999568,
          -0.5327820659422959,
          -0.6329102865510362,
          -0.6242067190835602,
          1.179365872787841,
          -0.6600624414709397,
          0.9041248503121064,
          0.4868743381319996,
          -0.4470854016471484,
          0.3892009698858809,
          0.7863663263718124,
          -0.14811413966607342,
          -0.12073881634956798,
          -0.45437556926947864,
          -0.2739811153495715,
          0.325523587388792,
          -0.35543758010928217,
          -0.6136434149777348,
          0.25418408994170294,
          0.36390855160432684,
          2.06831998591893,
          -0.5349393604427815,
          -0.06397965414713941,
          -0.5338235184597718,
          0.08167491936839795,
          -0.3050759119427761,
          0.10815756909849568,
          0.1675947520601475,
          -0.5004970379005477,
          0.030123019753348163,
          -0.5889461124204527,
          -0.002236397753934103,
          -0.28156884083403766,
          -0.6230164876350165,
          0.05846540612179544,
          -0.6681708932141438,
          -0.6474162323301628,
          -0.03935674105539124,
          -0.3235244993952037,
          -0.23991074013500763,
          -0.5672987779500638,
          -0.4170320575714195,
          0.7063976509227814,
          0.45845756229801843,
          0.434429764930542,
          -0.4451512755432648,
          -0.3326744036558836,
          -0.5948972696631712,
          -0.2203463106995703,
          -0.22294994199325965,
          -0.48331307136219775,
          1.7144492983737758,
          -0.42982704564326446,
          -0.06561622238888701,
          0.014575621456745938,
          0.5543455833713216,
          -0.33825361357093225,
          -0.5938558171456955,
          -0.6557478524699687,
          -0.3052990803393781,
          0.2235356301417022,
          -0.18240768327723925,
          0.7780347062320063,
          -0.46962540970394495,
          0.42245306097957097,
          -0.6533673895728813,
          -0.018378911774808278,
          0.4101787991664638,
          0.34516240628976325,
          -0.18932590357189966,
          -0.3652569895597678,
          -0.4429939810427793,
          3.6984163441650844,
          -0.5231858248884123,
          -0.32583057282675715,
          -0.17801870481073429,
          -0.47483267229132375,
          -0.14000568792286933,
          -0.13717888823257804,
          1.1362199827781312,
          -0.21811462673355075,
          -0.4548962955282165,
          0.11343922115140838,
          -0.31125023758209663,
          0.35937079420675383,
          -0.3871274924267586,
          -0.03786895174471168,
          -0.48041188220637243,
          -0.21290736414617206,
          -0.5295833189243347,
          -0.6728574295427847,
          -0.3569253694199618,
          1.0880899985776447,
          -0.5647695361219084,
          -0.5761511243486077,
          -0.5000507011073437,
          -0.6559710208665707,
          -0.654483231555891,
          0.308414010315976,
          -0.5202102462670529,
          -0.3075307643053975,
          -0.6049398475102588,
          -0.5832181235743359,
          -0.42104908871025454,
          0.2459268592674308,
          -0.056763875990343125,
          1.637902538339308,
          -0.3557351379714181,
          -0.5938558171456955,
          -0.3232269415330678,
          0.8457291198679303,
          1.1038605652708489,
          -0.2630458639160761,
          -0.2077001015587933,
          -0.36771184192238926,
          -0.4239502778660798,
          -0.27412989428063944,
          0.060399532225679016,
          0.5257800286062723,
          -0.5277979717515192,
          -0.3122173006340384,
          -0.23440591968549296,
          -0.2764359677121929,
          -0.6343236863961819,
          0.047009428429562225,
          -0.23634004578937645,
          -0.14424588745830635,
          -0.5222187618364705,
          -0.4879252182253046,
          -0.025594689931604554,
          -0.08473431503112051,
          -0.21937924764762845,
          0.4859816645455918,
          0.33883930171937476,
          -0.018676469636944252,
          0.04812527041257189,
          -0.5527928321709372,
          0.29933849552083014,
          12.662793277803155,
          -0.3232269415330678,
          -0.1756382419136469,
          -0.39248353394520535,
          -0.33847678196753417,
          -0.00335223973694388,
          -0.4247685619869537,
          0.5702649289955939,
          -0.5591159367413258,
          0.2889983598116067,
          -0.20070749179859898,
          -0.3080514905641354,
          -0.5231114354228783,
          -0.055127307748595526,
          -0.6770232396126877,
          -0.1321947940418012,
          0.7060257035951115,
          -0.4185942363476331,
          0.15487415345383657,
          -0.35893388498937934,
          1.6275624026300846,
          -0.6392333911214246,
          -0.3058198065981159,
          -0.10839016507092683,
          -0.3836311875466615,
          0.5571723830616128,
          0.21929543060626525,
          1.157272201524248,
          -0.21402320612918174,
          0.13850847103636044,
          0.5168532927421945,
          0.0014830755227650129,
          0.4167250721334542,
          -0.5075640371262761,
          -0.27100553672821215,
          -0.12921921542044196,
          -0.4194869099340409,
          -0.4553426323214204,
          -0.003501018668011815,
          2.1113170969975714,
          -0.4050553536204483,
          0.3596683520688899,
          -0.035637267778692125,
          -0.09834758722383927,
          0.3934411694213178,
          -0.44954025400976977,
          -0.35856193766170935,
          0.36472683572520076,
          -0.37239837825103006,
          -0.03935674105539124,
          -0.24757285508500781,
          0.3286479449412192,
          -0.2829078512136494,
          -0.5820278921257922,
          -0.5121761839893829,
          -0.15778477018549109,
          -0.3483705808835538,
          -0.013692375446167426,
          -0.4089979952937494,
          -0.24340704501510477,
          -0.06368209628500353,
          -0.5559171897233646,
          -0.045903014022381755,
          -0.35923144285151526,
          -0.3759690725966613,
          0.17800927723490506,
          0.8877591678946302,
          -0.04597740348791567,
          -0.5928887540937537,
          0.23194163974704216,
          -0.018453301240342296,
          0.7059513141295775,
          -0.031322678777721165,
          -0.08041972603014956,
          -0.21923046871656052,
          -0.17340655794762744,
          -0.16857124268791857,
          -0.28186639869617364,
          1.3328313401844465,
          -0.4744607249636539,
          -0.5153005415418102,
          -0.5187968464219073,
          -0.22250360520005574,
          -0.38072999839083616,
          -0.5275004138893832,
          0.7830188004227833,
          -0.6746427767156002,
          -0.6834951231141442,
          0.15643633223005016,
          -0.3009844913384071,
          0.8378438365213282,
          0.040537544928105726,
          0.43264441775772655,
          0.17592637219995355,
          0.08212125616160186,
          -0.4162881629160797,
          -0.1865734933471423,
          -0.1269131419888885,
          0.06687141572713541,
          -0.39359937592821503,
          0.013311000542668226,
          -0.0859245464796642,
          -0.40758459544860376,
          0.3553537630679188,
          -0.5290625926655969,
          0.07460792014266962,
          -0.280081051523358,
          0.13121830341403015,
          -0.028347100156361934,
          -0.2649056005544257,
          -0.1838210831223849,
          0.6543250250489937,
          -0.32977321450005825,
          -0.360272895368991,
          -0.3657033263529717,
          -0.17660530496558863,
          -0.6324639497578323,
          -0.3191355209286988,
          -0.5224419302330725,
          0.4546636995557852,
          -0.5599342208621995,
          0.3610073624485016,
          0.07237623617665016,
          0.4868743381319996,
          -0.45668164270103206,
          -0.5507099271359858,
          -0.3050759119427761,
          -0.465459599634042,
          -0.24987892851656127,
          -0.20479891240296796,
          0.08703096088684467,
          -0.3951615547044287,
          -0.24043146639374544
         ],
         "yaxis": "y"
        },
        {
         "mode": "lines",
         "type": "scatter",
         "x": [
          "MMM",
          "AOS",
          "ABT",
          "ABBV",
          "ACN",
          "ATVI",
          "AYI",
          "ADBE",
          "AAP",
          "AMD",
          "AES",
          "AET",
          "AMG",
          "AFL",
          "A",
          "APD",
          "AKAM",
          "ALK",
          "ALB",
          "ARE",
          "ALXN",
          "ALGN",
          "ALLE",
          "AGN",
          "ADS",
          "LNT",
          "ALL",
          "GOOGL",
          "GOOG",
          "MO",
          "AMZN",
          "AEE",
          "AAL",
          "AEP",
          "AXP",
          "AIG",
          "AMT",
          "AWK",
          "AMP",
          "ABC",
          "AME",
          "AMGN",
          "APH",
          "APC",
          "ADI",
          "ANDV",
          "ANSS",
          "ANTM",
          "AON",
          "APA",
          "AIV",
          "AAPL",
          "AMAT",
          "APTV",
          "ADM",
          "ARNC",
          "AJG",
          "AIZ",
          "T",
          "ADSK",
          "ADP",
          "AZO",
          "AVB",
          "AVY",
          "BHGE",
          "BLL",
          "BAC",
          "BAX",
          "BBT",
          "BDX",
          "BRK.B",
          "BBY",
          "BIIB",
          "BLK",
          "HRB",
          "BA",
          "BWA",
          "BXP",
          "BSX",
          "BHF",
          "BMY",
          "AVGO",
          "BF.B",
          "CHRW",
          "CA",
          "COG",
          "CDNS",
          "CPB",
          "COF",
          "CAH",
          "KMX",
          "CCL",
          "CAT",
          "CBOE",
          "CBG",
          "CBS",
          "CELG",
          "CNC",
          "CNP",
          "CTL",
          "CERN",
          "CF",
          "SCHW",
          "CHTR",
          "CHK",
          "CVX",
          "CMG",
          "CB",
          "CHD",
          "CI",
          "XEC",
          "CINF",
          "CTAS",
          "CSCO",
          "C",
          "CFG",
          "CTXS",
          "CME",
          "CMS",
          "KO",
          "CTSH",
          "CL",
          "CMCSA",
          "CMA",
          "CAG",
          "CXO",
          "COP",
          "ED",
          "STZ",
          "GLW",
          "COST",
          "COTY",
          "CCI",
          "CSRA",
          "CSX",
          "CMI",
          "CVS",
          "DHI",
          "DHR",
          "DRI",
          "DVA",
          "DE",
          "DAL",
          "XRAY",
          "DVN",
          "DLR",
          "DFS",
          "DISCA",
          "DISCK",
          "DISH",
          "DG",
          "DLTR",
          "D",
          "DOV",
          "DWDP",
          "DPS",
          "DTE",
          "DUK",
          "DRE",
          "DXC",
          "ETFC",
          "EMN",
          "ETN",
          "EBAY",
          "ECL",
          "EIX",
          "EW",
          "EA",
          "EMR",
          "ETR",
          "EVHC",
          "EOG",
          "EQT",
          "EFX",
          "EQIX",
          "EQR",
          "ESS",
          "EL",
          "RE",
          "ES",
          "EXC",
          "EXPE",
          "EXPD",
          "ESRX",
          "EXR",
          "XOM",
          "FFIV",
          "FB",
          "FAST",
          "FRT",
          "FDX",
          "FIS",
          "FITB",
          "FE",
          "FISV",
          "FLIR",
          "FLS",
          "FLR",
          "FMC",
          "FL",
          "F",
          "FTV",
          "FBHS",
          "BEN",
          "FCX",
          "GPS",
          "GRMN",
          "IT",
          "GD",
          "GE",
          "GGP",
          "GIS",
          "GM",
          "GPC",
          "GILD",
          "GPN",
          "GS",
          "GT",
          "GWW",
          "HAL",
          "HBI",
          "HOG",
          "HRS",
          "HIG",
          "HAS",
          "HCA",
          "HCP",
          "HP",
          "HSIC",
          "HES",
          "HPE",
          "HLT",
          "HOLX",
          "HD",
          "HON",
          "HRL",
          "HST",
          "HPQ",
          "HUM",
          "HBAN",
          "HII",
          "IDXX",
          "INFO",
          "ITW",
          "ILMN",
          "INCY",
          "IR",
          "INTC",
          "ICE",
          "IBM",
          "IP",
          "IPG",
          "IFF",
          "INTU",
          "ISRG",
          "IVZ",
          "IQV",
          "IRM",
          "JBHT",
          "JEC",
          "SJM",
          "JNJ",
          "JCI",
          "JPM",
          "JNPR",
          "KSU",
          "K",
          "KEY",
          "KMB",
          "KIM",
          "KMI",
          "KLAC",
          "KSS",
          "KHC",
          "KR",
          "LB",
          "LLL",
          "LH",
          "LRCX",
          "LEG",
          "LEN",
          "LUK",
          "LLY",
          "LNC",
          "LKQ",
          "LMT",
          "L",
          "LOW",
          "LYB",
          "MTB",
          "MAC",
          "M",
          "MRO",
          "MPC",
          "MAR",
          "MMC",
          "MLM",
          "MAS",
          "MA",
          "MAT",
          "MKC",
          "MCD",
          "MCK",
          "MDT",
          "MRK",
          "MET",
          "MTD",
          "MGM",
          "KORS",
          "MCHP",
          "MU",
          "MSFT",
          "MAA",
          "MHK",
          "TAP",
          "MDLZ",
          "MON",
          "MNST",
          "MCO",
          "MS",
          "MSI",
          "MYL",
          "NDAQ",
          "NOV",
          "NAVI",
          "NTAP",
          "NFLX",
          "NWL",
          "NFX",
          "NEM",
          "NWSA",
          "NWS",
          "NEE",
          "NLSN",
          "NKE",
          "NI",
          "NBL",
          "JWN",
          "NSC",
          "NTRS",
          "NOC",
          "NCLH",
          "NRG",
          "NUE",
          "NVDA",
          "ORLY",
          "OXY",
          "OMC",
          "OKE",
          "ORCL",
          "PCAR",
          "PKG",
          "PH",
          "PDCO",
          "PAYX",
          "PYPL",
          "PNR",
          "PBCT",
          "PEP",
          "PKI",
          "PRGO",
          "PFE",
          "PCG",
          "PM",
          "PSX",
          "PNW",
          "PXD",
          "PNC",
          "RL",
          "PPG",
          "PPL",
          "PX",
          "PCLN",
          "PFG",
          "PG",
          "PGR",
          "PLD",
          "PRU",
          "PEG",
          "PSA",
          "PHM",
          "PVH",
          "QRVO",
          "QCOM",
          "PWR",
          "DGX",
          "RRC",
          "RJF",
          "RTN",
          "O",
          "RHT",
          "REG",
          "REGN",
          "RF",
          "RSG",
          "RMD",
          "RHI",
          "ROK",
          "COL",
          "ROP",
          "ROST",
          "RCL",
          "SPGI",
          "CRM",
          "SBAC",
          "SCG",
          "SLB",
          "SNI",
          "STX",
          "SEE",
          "SRE",
          "SHW",
          "SIG",
          "SPG",
          "SWKS",
          "SLG",
          "SNA",
          "SO",
          "LUV",
          "SWK",
          "SBUX",
          "STT",
          "SRCL",
          "SYK",
          "STI",
          "SYMC",
          "SYF",
          "SNPS",
          "SYY",
          "TROW",
          "TPR",
          "TGT",
          "TEL",
          "FTI",
          "TXN",
          "TXT",
          "BK",
          "CLX",
          "COO",
          "HSY",
          "MOS",
          "TRV",
          "DIS",
          "TMO",
          "TIF",
          "TWX",
          "TJX",
          "TMK",
          "TSS",
          "TSCO",
          "TDG",
          "TRIP",
          "FOXA",
          "FOX",
          "TSN",
          "USB",
          "UDR",
          "ULTA",
          "UAA",
          "UA",
          "UNP",
          "UAL",
          "UNH",
          "UPS",
          "URI",
          "UTX",
          "UHS",
          "UNM",
          "VFC",
          "VLO",
          "VAR",
          "VTR",
          "VRSN",
          "VRSK",
          "VZ",
          "VRTX",
          "VIAB",
          "V",
          "VNO",
          "VMC",
          "WMT",
          "WBA",
          "WM",
          "WAT",
          "WEC",
          "WFC",
          "HCN",
          "WDC",
          "WU",
          "WRK",
          "WY",
          "WHR",
          "WMB",
          "WLTW",
          "WYN",
          "WYNN",
          "XEL",
          "XRX",
          "XLNX",
          "XL",
          "XYL",
          "YUM",
          "ZBH",
          "ZION",
          "ZTS"
         ],
         "y": [
          0.2842207558125956,
          -0.48659076414933644,
          0.008475664960479192,
          0.39266249926145996,
          -0.11806004221930581,
          -0.9524047723950785,
          -1.0049140285170437,
          -1.2333696559199956,
          -1.0913460367288692,
          -1.2333696559199956,
          1.9944379195689186,
          -0.5164956379553702,
          -0.8178521218994965,
          0.34735112044053207,
          -0.6637041945622283,
          0.5758208903087451,
          -1.2333696559199956,
          0.06302622396155806,
          -0.45246839122736937,
          0.7352739985428329,
          -1.2333696559199956,
          -1.2333696559199956,
          -0.7126874101319798,
          -0.164365166667316,
          -0.632274419522597,
          1.0911814968572044,
          -0.2394803923920219,
          -1.2333696559199956,
          -1.2333696559199956,
          1.337961791021444,
          -1.2333696559199956,
          1.0047674562116398,
          -0.7271226777671711,
          1.269823471457027,
          -0.26046256758871883,
          0.14363554373450027,
          0.06768510590544063,
          0.1517963446753125,
          0.11554720258692736,
          -0.18390922098302917,
          -0.7421407984198389,
          0.7020474018243826,
          -0.6733325202216413,
          -0.1255232826495651,
          0.13856852091183322,
          0.2924151890190008,
          -1.2333696559199956,
          -0.41489035180525563,
          -0.5668741697044416,
          0.41145304771186203,
          1.2884400688857727,
          -0.20583485604026378,
          -0.6989458648957938,
          -0.622350234010345,
          0.8327756278686739,
          -0.6113514423175631,
          0.380402595188041,
          0.413348944710794,
          2.2896598002055617,
          -1.2333696559199956,
          0.21020993042246502,
          -1.2333696559199956,
          1.1832976051546835,
          -0.21320123294350507,
          0.3923842687006437,
          -0.5717602808624771,
          -0.23415959883806056,
          -0.5982246844879825,
          0.3621266789486789,
          -0.35396169709801817,
          -1.2333696559199956,
          0.008164517714188683,
          -1.2333696559199956,
          0.17460305401725518,
          1.1928397359361254,
          0.044812368034335165,
          -0.4290812813561762,
          0.5714575429540113,
          -1.2333696559199956,
          -1.2333696559199956,
          0.428523731872607,
          0.6849434106617348,
          -0.503675434648771,
          0.05967386120950045,
          0.7182124868181587,
          -0.5653056180835848,
          -1.2333696559199956,
          0.7995284094322486,
          -0.17258301885943406,
          0.613752556415123,
          -1.2333696559199956,
          0.46071208689112053,
          0.08167847029077803,
          -0.6201199008848857,
          -1.2333696559199956,
          -0.3569106027684336,
          -1.2333696559199956,
          -1.2333696559199956,
          1.5059527458663207,
          7.003085017182588,
          -1.2333696559199956,
          0.7439171655365915,
          -0.7332524931931307,
          -1.2333696559199956,
          -1.2333696559199956,
          1.294484118781833,
          -1.2333696559199956,
          0.019001393141861268,
          -0.03860755528784055,
          -1.2200555468552396,
          -1.0368171402895747,
          0.6654573183356609,
          -0.5604103344894785,
          0.6372593633244039,
          -0.1229881774461482,
          0.043312121788474225,
          -1.2333696559199956,
          1.1624324598338127,
          0.9731155911241649,
          0.927268828268746,
          -0.5532573956199146,
          0.24994765569647082,
          -0.0019852706937639932,
          -0.3991819370328802,
          0.3073053053989261,
          -1.2333696559199956,
          0.0997261815249156,
          1.2387381506655888,
          -0.6015242504378052,
          0.11916888367468248,
          -0.523148126110798,
          0.6274066707713144,
          1.2790119755542049,
          -0.4033507116479831,
          -0.2508854384341836,
          0.3935136492866462,
          0.5165358580821218,
          -0.530704522062004,
          -0.8509073697058145,
          0.4907879192928582,
          -1.2333696559199956,
          -0.2662823806965782,
          0.24043427822526528,
          -0.8428300639543427,
          -0.8086509975711289,
          1.0897193715158648,
          -0.044881696718529415,
          -1.2333696559199956,
          -1.2333696559199956,
          -1.2333696559199956,
          -0.5421677252520194,
          -1.2333696559199956,
          1.7123482351707602,
          -0.009398940937597676,
          0.16719927178961122,
          0.045633268536308946,
          1.0798787137193222,
          1.8793689934797435,
          0.8179583705554105,
          -0.745880374584837,
          -1.2333696559199956,
          0.23882812612179172,
          0.6794772892908775,
          -1.2333696559199956,
          -0.4319387228768353,
          1.4040506891250335,
          -1.2333696559199956,
          -1.2333696559199956,
          0.5967102352481859,
          1.9490922579550165,
          -1.2333696559199956,
          -0.8213320725867723,
          -1.0695432472622461,
          -0.3704251790014192,
          -0.011951350169346835,
          1.0719639422339715,
          0.8573018762365834,
          -0.49934721577260627,
          0.137827179908545,
          0.9392476394608728,
          1.2499713924264517,
          -0.629772003320071,
          -0.3538541649219532,
          -1.2333696559199956,
          1.2904371879451748,
          1.3707691878956343,
          -1.2333696559199956,
          -1.2333696559199956,
          0.5750085117154613,
          1.1037144923251307,
          -0.7153307630915806,
          -0.3729014765296015,
          0.054006726877941336,
          1.8070697706815326,
          -1.2333696559199956,
          -0.42693076794035495,
          -0.04347597210111525,
          -0.27536998799697654,
          -0.7220583871595038,
          0.44680927591720615,
          3.180059590077345,
          -0.9792928384826772,
          -0.4125149510738529,
          0.28408759285772284,
          -0.5048955638044109,
          0.6013489508432601,
          0.8704284128868545,
          -1.2333696559199956,
          -0.21649504823128043,
          0.8141919471254021,
          1.3722930482854219,
          1.0997203843118029,
          1.0992597458733786,
          0.535970363586889,
          0.5588033542350209,
          -1.2088953372013225,
          -0.4742944955953243,
          -0.14494614371421427,
          0.04821111338865176,
          -0.2907660845737759,
          0.5440275355159216,
          0.7324360728436011,
          -0.2626239448118013,
          -0.06880223904207104,
          0.21762080339856088,
          -0.30782258723761696,
          2.88459681915155,
          1.4663140959124275,
          -1.2333696559199956,
          0.24141468804103883,
          0.020860535343771705,
          -0.757490076541034,
          -1.2333696559199956,
          -0.022706519357976747,
          0.04883926262766109,
          0.256842725512241,
          1.442321345049605,
          0.47560662685723626,
          -0.8404501420576425,
          0.5967585043798495,
          -0.43551649336637904,
          -1.2333696559199956,
          -1.2333696559199956,
          0.008459401775956412,
          -1.2333696559199956,
          -1.2333696559199956,
          0.050706796632785295,
          0.4936941503670858,
          2.2989058109232117,
          1.303623768272704,
          0.8527096733492443,
          0.9655961451281947,
          0.02483330605900573,
          -0.604178304572822,
          -1.2333696559199956,
          1.0218955819401194,
          -1.2333696559199956,
          3.3740425615848038,
          -0.7039026883801346,
          -0.6420707113517615,
          0.4604010046975681,
          0.4298262177946703,
          0.5659613672181558,
          0.05765664085402823,
          -0.20851359768938613,
          -0.35871093729510956,
          0.9549797334299135,
          0.05968049658878588,
          1.0824986476932101,
          3.7844723860119225,
          0.6478546979355437,
          0.26209553895489685,
          1.0412016733398946,
          0.9778043322748314,
          -0.10788969714611642,
          1.9457498482718867,
          -0.2937085500231204,
          -1.2333696559199956,
          -0.47531179031359555,
          0.8128502344022696,
          -1.0624873996042834,
          -0.19294205387795457,
          0.6744595764436835,
          -0.13962853774441938,
          -1.2333696559199956,
          0.27322183401433764,
          1.7025668404186187,
          -0.16565054371926136,
          0.8904161919290882,
          -0.17828931493932415,
          1.9657681370482851,
          2.7339015008357377,
          -0.4366428815264294,
          0.6055770535555023,
          -0.6184339941245123,
          -0.045697978476098765,
          -0.7102130641859402,
          -0.5933567815913388,
          -0.8478262768715975,
          -1.2333696559199956,
          0.0846675135005958,
          0.3526121955809258,
          -0.6544799114591002,
          0.23801366584088898,
          1.0017994900889637,
          1.0166169425604412,
          -1.2333696559199956,
          -0.40801772518412704,
          -1.2333696559199956,
          -0.09410326552064742,
          -1.2333696559199956,
          -0.013766907036736095,
          1.4965815086278438,
          -1.2333696559199956,
          0.16745083072781014,
          0.06620834369803064,
          -0.06640751764745519,
          -1.2333696559199956,
          -0.5086398693034683,
          -0.04083554651472849,
          0.08505282086831017,
          -1.2333696559199956,
          0.04630116499829199,
          -0.8512684124022211,
          1.7319972195530144,
          -0.3303297937733876,
          -1.2333696559199956,
          0.7981483806463803,
          -1.2333696559199956,
          -0.7063423612167715,
          -0.4232483926479603,
          -0.435176527757114,
          0.4929945081689143,
          1.1221075034930572,
          -0.44040618242500956,
          0.9641677171051866,
          -0.2724724739896532,
          0.7195320816103403,
          0.07972181403446861,
          -0.14840389190197958,
          -0.3856765982887036,
          -1.2333696559199956,
          -0.3099080479153469,
          0.3381522729579979,
          -1.0627768127307777,
          -1.2333696559199956,
          1.634276297447068,
          0.8378239155027709,
          2.307854010205881,
          -0.22170440644489137,
          -0.286321486349166,
          0.16621112069800478,
          -0.29649098573676025,
          0.7652964876993358,
          0.7762916364387843,
          -1.2333696559199956,
          0.09327034779673789,
          1.1044631192350851,
          0.6121793860498618,
          -0.9929741578939383,
          -0.7576640730996067,
          1.295839102263536,
          -1.2333696559199956,
          1.5824244512857053,
          0.671741412835278,
          1.1727854079428244,
          -1.1152262073231514,
          0.02571555129299958,
          -0.025333674185792795,
          -0.2073911126936212,
          2.1621812186398817,
          0.19769521477394236,
          -1.2333696559199956,
          0.8427816497254447,
          0.9592191553185837,
          0.1367579080525389,
          0.6735726474125473,
          0.522123888284162,
          1.1123475110917473,
          1.5744099539528607,
          -0.4503878745577342,
          -1.1679724928542627,
          -1.2333696559199956,
          1.0470769113806078,
          -1.2333696559199956,
          0.06018250856863611,
          -0.8367066171914422,
          -0.5188969947292715,
          -0.21771660854715844,
          2.261286853328839,
          -1.2333696559199956,
          1.1638457305688454,
          -1.2333696559199956,
          0.0018089302554095195,
          0.15630176721003772,
          -0.24974473867175317,
          -0.12254386724498482,
          -0.08242070449778839,
          -0.5991775379639006,
          -0.8301350741580215,
          -0.6995351581343412,
          -0.018565977631205453,
          -0.5212044153493689,
          -1.2333696559199956,
          -1.2333696559199956,
          3.11412662338696,
          0.6319418224073472,
          -0.33814848236457756,
          2.0750642831592407,
          -0.29482700174912363,
          0.8227693458009505,
          -0.6851905284791325,
          0.3754336068416771,
          2.04321153521654,
          -0.41178597009080214,
          1.0434060504228555,
          0.04714990807216892,
          2.2489181160245932,
          -0.6715046033340146,
          -0.2071214040414949,
          0.20003620260689495,
          -0.1776450976740063,
          -1.2333696559199956,
          -0.4375139376894715,
          0.2748810691520934,
          -0.4991400878545238,
          -0.19252584645964657,
          -1.2333696559199956,
          0.36984681264166064,
          0.15904712286296543,
          -1.2333696559199956,
          0.9690983893888147,
          -0.18845061768191892,
          -0.12354606972801896,
          0.34861503008890765,
          -1.1435022906728558,
          -0.10487983706010943,
          0.47666952354490943,
          -1.2164339841634675,
          0.4901600953175395,
          -0.9757350521942751,
          0.08471031820225972,
          -0.1901413383449111,
          -1.0202361341095383,
          0.028809979938525198,
          -0.13217199774618352,
          -0.16623152972315458,
          -0.7646899834874998,
          -0.837124776191893,
          -0.19051740822381674,
          -1.2333696559199956,
          -1.2333696559199956,
          -0.5839246875163783,
          -0.5773756332145156,
          -0.16954733283640477,
          0.19114284278243718,
          1.1531804642642578,
          -1.2333696559199956,
          -1.2333696559199956,
          -1.2333696559199956,
          0.10844389895652692,
          -1.2333696559199956,
          -0.36914942975471116,
          0.6965301490013854,
          -1.2333696559199956,
          0.1468505801564473,
          -1.011195006990506,
          -0.05012494740868604,
          0.2541044606077652,
          1.08373582066623,
          -1.2333696559199956,
          2.6474431592755328,
          -1.2333696559199956,
          -1.2333696559199956,
          1.776323895077455,
          -1.2333696559199956,
          0.4723723348248145,
          -0.776668436889567,
          1.2024832839362518,
          -0.7260962756655672,
          0.0569325388263343,
          0.2217454722572379,
          0.11973998166238596,
          -1.2333696559199956,
          1.1683436069859523,
          0.5303125968496151,
          2.7698758601584252,
          0.32087101308405136,
          1.1030549876663616,
          0.5035243997255342,
          1.178782880078411,
          0.43542732359706704,
          1.3687398677308769,
          -0.3570715432424713,
          0.03787657520451991,
          -0.499637025720803,
          0.9728466631048956,
          0.8529913517051793,
          0.12655015765494673,
          0.12964016271428216,
          -0.4722009683780709,
          -0.0643200403348444,
          -0.7163086358505686,
          -0.2699821901227812,
          -0.7894679664360009
         ]
        }
       ],
       "layout": {
        "legend": {
         "tracegroupgap": 0
        },
        "margin": {
         "t": 60
        },
        "template": {
         "data": {
          "bar": [
           {
            "error_x": {
             "color": "#2a3f5f"
            },
            "error_y": {
             "color": "#2a3f5f"
            },
            "marker": {
             "line": {
              "color": "#E5ECF6",
              "width": 0.5
             },
             "pattern": {
              "fillmode": "overlay",
              "size": 10,
              "solidity": 0.2
             }
            },
            "type": "bar"
           }
          ],
          "barpolar": [
           {
            "marker": {
             "line": {
              "color": "#E5ECF6",
              "width": 0.5
             },
             "pattern": {
              "fillmode": "overlay",
              "size": 10,
              "solidity": 0.2
             }
            },
            "type": "barpolar"
           }
          ],
          "carpet": [
           {
            "aaxis": {
             "endlinecolor": "#2a3f5f",
             "gridcolor": "white",
             "linecolor": "white",
             "minorgridcolor": "white",
             "startlinecolor": "#2a3f5f"
            },
            "baxis": {
             "endlinecolor": "#2a3f5f",
             "gridcolor": "white",
             "linecolor": "white",
             "minorgridcolor": "white",
             "startlinecolor": "#2a3f5f"
            },
            "type": "carpet"
           }
          ],
          "choropleth": [
           {
            "colorbar": {
             "outlinewidth": 0,
             "ticks": ""
            },
            "type": "choropleth"
           }
          ],
          "contour": [
           {
            "colorbar": {
             "outlinewidth": 0,
             "ticks": ""
            },
            "colorscale": [
             [
              0,
              "#0d0887"
             ],
             [
              0.1111111111111111,
              "#46039f"
             ],
             [
              0.2222222222222222,
              "#7201a8"
             ],
             [
              0.3333333333333333,
              "#9c179e"
             ],
             [
              0.4444444444444444,
              "#bd3786"
             ],
             [
              0.5555555555555556,
              "#d8576b"
             ],
             [
              0.6666666666666666,
              "#ed7953"
             ],
             [
              0.7777777777777778,
              "#fb9f3a"
             ],
             [
              0.8888888888888888,
              "#fdca26"
             ],
             [
              1,
              "#f0f921"
             ]
            ],
            "type": "contour"
           }
          ],
          "contourcarpet": [
           {
            "colorbar": {
             "outlinewidth": 0,
             "ticks": ""
            },
            "type": "contourcarpet"
           }
          ],
          "heatmap": [
           {
            "colorbar": {
             "outlinewidth": 0,
             "ticks": ""
            },
            "colorscale": [
             [
              0,
              "#0d0887"
             ],
             [
              0.1111111111111111,
              "#46039f"
             ],
             [
              0.2222222222222222,
              "#7201a8"
             ],
             [
              0.3333333333333333,
              "#9c179e"
             ],
             [
              0.4444444444444444,
              "#bd3786"
             ],
             [
              0.5555555555555556,
              "#d8576b"
             ],
             [
              0.6666666666666666,
              "#ed7953"
             ],
             [
              0.7777777777777778,
              "#fb9f3a"
             ],
             [
              0.8888888888888888,
              "#fdca26"
             ],
             [
              1,
              "#f0f921"
             ]
            ],
            "type": "heatmap"
           }
          ],
          "heatmapgl": [
           {
            "colorbar": {
             "outlinewidth": 0,
             "ticks": ""
            },
            "colorscale": [
             [
              0,
              "#0d0887"
             ],
             [
              0.1111111111111111,
              "#46039f"
             ],
             [
              0.2222222222222222,
              "#7201a8"
             ],
             [
              0.3333333333333333,
              "#9c179e"
             ],
             [
              0.4444444444444444,
              "#bd3786"
             ],
             [
              0.5555555555555556,
              "#d8576b"
             ],
             [
              0.6666666666666666,
              "#ed7953"
             ],
             [
              0.7777777777777778,
              "#fb9f3a"
             ],
             [
              0.8888888888888888,
              "#fdca26"
             ],
             [
              1,
              "#f0f921"
             ]
            ],
            "type": "heatmapgl"
           }
          ],
          "histogram": [
           {
            "marker": {
             "pattern": {
              "fillmode": "overlay",
              "size": 10,
              "solidity": 0.2
             }
            },
            "type": "histogram"
           }
          ],
          "histogram2d": [
           {
            "colorbar": {
             "outlinewidth": 0,
             "ticks": ""
            },
            "colorscale": [
             [
              0,
              "#0d0887"
             ],
             [
              0.1111111111111111,
              "#46039f"
             ],
             [
              0.2222222222222222,
              "#7201a8"
             ],
             [
              0.3333333333333333,
              "#9c179e"
             ],
             [
              0.4444444444444444,
              "#bd3786"
             ],
             [
              0.5555555555555556,
              "#d8576b"
             ],
             [
              0.6666666666666666,
              "#ed7953"
             ],
             [
              0.7777777777777778,
              "#fb9f3a"
             ],
             [
              0.8888888888888888,
              "#fdca26"
             ],
             [
              1,
              "#f0f921"
             ]
            ],
            "type": "histogram2d"
           }
          ],
          "histogram2dcontour": [
           {
            "colorbar": {
             "outlinewidth": 0,
             "ticks": ""
            },
            "colorscale": [
             [
              0,
              "#0d0887"
             ],
             [
              0.1111111111111111,
              "#46039f"
             ],
             [
              0.2222222222222222,
              "#7201a8"
             ],
             [
              0.3333333333333333,
              "#9c179e"
             ],
             [
              0.4444444444444444,
              "#bd3786"
             ],
             [
              0.5555555555555556,
              "#d8576b"
             ],
             [
              0.6666666666666666,
              "#ed7953"
             ],
             [
              0.7777777777777778,
              "#fb9f3a"
             ],
             [
              0.8888888888888888,
              "#fdca26"
             ],
             [
              1,
              "#f0f921"
             ]
            ],
            "type": "histogram2dcontour"
           }
          ],
          "mesh3d": [
           {
            "colorbar": {
             "outlinewidth": 0,
             "ticks": ""
            },
            "type": "mesh3d"
           }
          ],
          "parcoords": [
           {
            "line": {
             "colorbar": {
              "outlinewidth": 0,
              "ticks": ""
             }
            },
            "type": "parcoords"
           }
          ],
          "pie": [
           {
            "automargin": true,
            "type": "pie"
           }
          ],
          "scatter": [
           {
            "fillpattern": {
             "fillmode": "overlay",
             "size": 10,
             "solidity": 0.2
            },
            "type": "scatter"
           }
          ],
          "scatter3d": [
           {
            "line": {
             "colorbar": {
              "outlinewidth": 0,
              "ticks": ""
             }
            },
            "marker": {
             "colorbar": {
              "outlinewidth": 0,
              "ticks": ""
             }
            },
            "type": "scatter3d"
           }
          ],
          "scattercarpet": [
           {
            "marker": {
             "colorbar": {
              "outlinewidth": 0,
              "ticks": ""
             }
            },
            "type": "scattercarpet"
           }
          ],
          "scattergeo": [
           {
            "marker": {
             "colorbar": {
              "outlinewidth": 0,
              "ticks": ""
             }
            },
            "type": "scattergeo"
           }
          ],
          "scattergl": [
           {
            "marker": {
             "colorbar": {
              "outlinewidth": 0,
              "ticks": ""
             }
            },
            "type": "scattergl"
           }
          ],
          "scattermapbox": [
           {
            "marker": {
             "colorbar": {
              "outlinewidth": 0,
              "ticks": ""
             }
            },
            "type": "scattermapbox"
           }
          ],
          "scatterpolar": [
           {
            "marker": {
             "colorbar": {
              "outlinewidth": 0,
              "ticks": ""
             }
            },
            "type": "scatterpolar"
           }
          ],
          "scatterpolargl": [
           {
            "marker": {
             "colorbar": {
              "outlinewidth": 0,
              "ticks": ""
             }
            },
            "type": "scatterpolargl"
           }
          ],
          "scatterternary": [
           {
            "marker": {
             "colorbar": {
              "outlinewidth": 0,
              "ticks": ""
             }
            },
            "type": "scatterternary"
           }
          ],
          "surface": [
           {
            "colorbar": {
             "outlinewidth": 0,
             "ticks": ""
            },
            "colorscale": [
             [
              0,
              "#0d0887"
             ],
             [
              0.1111111111111111,
              "#46039f"
             ],
             [
              0.2222222222222222,
              "#7201a8"
             ],
             [
              0.3333333333333333,
              "#9c179e"
             ],
             [
              0.4444444444444444,
              "#bd3786"
             ],
             [
              0.5555555555555556,
              "#d8576b"
             ],
             [
              0.6666666666666666,
              "#ed7953"
             ],
             [
              0.7777777777777778,
              "#fb9f3a"
             ],
             [
              0.8888888888888888,
              "#fdca26"
             ],
             [
              1,
              "#f0f921"
             ]
            ],
            "type": "surface"
           }
          ],
          "table": [
           {
            "cells": {
             "fill": {
              "color": "#EBF0F8"
             },
             "line": {
              "color": "white"
             }
            },
            "header": {
             "fill": {
              "color": "#C8D4E3"
             },
             "line": {
              "color": "white"
             }
            },
            "type": "table"
           }
          ]
         },
         "layout": {
          "annotationdefaults": {
           "arrowcolor": "#2a3f5f",
           "arrowhead": 0,
           "arrowwidth": 1
          },
          "autotypenumbers": "strict",
          "coloraxis": {
           "colorbar": {
            "outlinewidth": 0,
            "ticks": ""
           }
          },
          "colorscale": {
           "diverging": [
            [
             0,
             "#8e0152"
            ],
            [
             0.1,
             "#c51b7d"
            ],
            [
             0.2,
             "#de77ae"
            ],
            [
             0.3,
             "#f1b6da"
            ],
            [
             0.4,
             "#fde0ef"
            ],
            [
             0.5,
             "#f7f7f7"
            ],
            [
             0.6,
             "#e6f5d0"
            ],
            [
             0.7,
             "#b8e186"
            ],
            [
             0.8,
             "#7fbc41"
            ],
            [
             0.9,
             "#4d9221"
            ],
            [
             1,
             "#276419"
            ]
           ],
           "sequential": [
            [
             0,
             "#0d0887"
            ],
            [
             0.1111111111111111,
             "#46039f"
            ],
            [
             0.2222222222222222,
             "#7201a8"
            ],
            [
             0.3333333333333333,
             "#9c179e"
            ],
            [
             0.4444444444444444,
             "#bd3786"
            ],
            [
             0.5555555555555556,
             "#d8576b"
            ],
            [
             0.6666666666666666,
             "#ed7953"
            ],
            [
             0.7777777777777778,
             "#fb9f3a"
            ],
            [
             0.8888888888888888,
             "#fdca26"
            ],
            [
             1,
             "#f0f921"
            ]
           ],
           "sequentialminus": [
            [
             0,
             "#0d0887"
            ],
            [
             0.1111111111111111,
             "#46039f"
            ],
            [
             0.2222222222222222,
             "#7201a8"
            ],
            [
             0.3333333333333333,
             "#9c179e"
            ],
            [
             0.4444444444444444,
             "#bd3786"
            ],
            [
             0.5555555555555556,
             "#d8576b"
            ],
            [
             0.6666666666666666,
             "#ed7953"
            ],
            [
             0.7777777777777778,
             "#fb9f3a"
            ],
            [
             0.8888888888888888,
             "#fdca26"
            ],
            [
             1,
             "#f0f921"
            ]
           ]
          },
          "colorway": [
           "#636efa",
           "#EF553B",
           "#00cc96",
           "#ab63fa",
           "#FFA15A",
           "#19d3f3",
           "#FF6692",
           "#B6E880",
           "#FF97FF",
           "#FECB52"
          ],
          "font": {
           "color": "#2a3f5f"
          },
          "geo": {
           "bgcolor": "white",
           "lakecolor": "white",
           "landcolor": "#E5ECF6",
           "showlakes": true,
           "showland": true,
           "subunitcolor": "white"
          },
          "hoverlabel": {
           "align": "left"
          },
          "hovermode": "closest",
          "mapbox": {
           "style": "light"
          },
          "paper_bgcolor": "white",
          "plot_bgcolor": "#E5ECF6",
          "polar": {
           "angularaxis": {
            "gridcolor": "white",
            "linecolor": "white",
            "ticks": ""
           },
           "bgcolor": "#E5ECF6",
           "radialaxis": {
            "gridcolor": "white",
            "linecolor": "white",
            "ticks": ""
           }
          },
          "scene": {
           "xaxis": {
            "backgroundcolor": "#E5ECF6",
            "gridcolor": "white",
            "gridwidth": 2,
            "linecolor": "white",
            "showbackground": true,
            "ticks": "",
            "zerolinecolor": "white"
           },
           "yaxis": {
            "backgroundcolor": "#E5ECF6",
            "gridcolor": "white",
            "gridwidth": 2,
            "linecolor": "white",
            "showbackground": true,
            "ticks": "",
            "zerolinecolor": "white"
           },
           "zaxis": {
            "backgroundcolor": "#E5ECF6",
            "gridcolor": "white",
            "gridwidth": 2,
            "linecolor": "white",
            "showbackground": true,
            "ticks": "",
            "zerolinecolor": "white"
           }
          },
          "shapedefaults": {
           "line": {
            "color": "#2a3f5f"
           }
          },
          "ternary": {
           "aaxis": {
            "gridcolor": "white",
            "linecolor": "white",
            "ticks": ""
           },
           "baxis": {
            "gridcolor": "white",
            "linecolor": "white",
            "ticks": ""
           },
           "bgcolor": "#E5ECF6",
           "caxis": {
            "gridcolor": "white",
            "linecolor": "white",
            "ticks": ""
           }
          },
          "title": {
           "x": 0.05
          },
          "xaxis": {
           "automargin": true,
           "gridcolor": "white",
           "linecolor": "white",
           "ticks": "",
           "title": {
            "standoff": 15
           },
           "zerolinecolor": "white",
           "zerolinewidth": 2
          },
          "yaxis": {
           "automargin": true,
           "gridcolor": "white",
           "linecolor": "white",
           "ticks": "",
           "title": {
            "standoff": 15
           },
           "zerolinecolor": "white",
           "zerolinewidth": 2
          }
         }
        },
        "xaxis": {
         "anchor": "y",
         "domain": [
          0,
          1
         ],
         "title": {
          "text": "Symbol"
         }
        },
        "yaxis": {
         "anchor": "x",
         "domain": [
          0,
          1
         ],
         "title": {
          "text": "Price"
         }
        }
       }
      }
     },
     "metadata": {},
     "output_type": "display_data"
    }
   ],
   "source": [
    "df['Price'] = (df['Price'] - df['Price'].mean())/df['Price'].std()\n",
    "df['Dividend Yield'] = (df['Dividend Yield'] - df['Dividend Yield'].mean())/df['Dividend Yield'].std()\n",
    "\n",
    "fig = px.line(df , x = 'Symbol', y = 'Price')\n",
    "fig.add_trace(go.Scatter(x = df['Symbol'], y = df['Dividend Yield'], mode= 'lines'))\n",
    "fig.show()\n",
    "\n"
   ]
  },
  {
   "attachments": {},
   "cell_type": "markdown",
   "metadata": {},
   "source": [
    "# Some bar graphs...?"
   ]
  },
  {
   "cell_type": "code",
   "execution_count": 29,
   "metadata": {},
   "outputs": [
    {
     "data": {
      "application/vnd.plotly.v1+json": {
       "config": {
        "plotlyServerURL": "https://plot.ly"
       },
       "data": [
        {
         "alignmentgroup": "True",
         "hovertemplate": "Sector=%{x}<br>count=%{y}<extra></extra>",
         "legendgroup": "",
         "marker": {
          "color": "#636efa",
          "pattern": {
           "shape": ""
          }
         },
         "name": "",
         "offsetgroup": "",
         "orientation": "v",
         "showlegend": false,
         "textposition": "auto",
         "type": "bar",
         "x": [
          "Industrials",
          "Industrials",
          "Health Care",
          "Health Care",
          "Information Technology",
          "Information Technology",
          "Industrials",
          "Information Technology",
          "Consumer Discretionary",
          "Information Technology",
          "Utilities",
          "Health Care",
          "Financials",
          "Financials",
          "Health Care",
          "Materials",
          "Information Technology",
          "Industrials",
          "Materials",
          "Real Estate",
          "Health Care",
          "Health Care",
          "Industrials",
          "Health Care",
          "Information Technology",
          "Utilities",
          "Financials",
          "Information Technology",
          "Information Technology",
          "Consumer Staples",
          "Consumer Discretionary",
          "Utilities",
          "Industrials",
          "Utilities",
          "Financials",
          "Financials",
          "Real Estate",
          "Utilities",
          "Financials",
          "Health Care",
          "Industrials",
          "Health Care",
          "Information Technology",
          "Energy",
          "Information Technology",
          "Energy",
          "Information Technology",
          "Health Care",
          "Financials",
          "Energy",
          "Real Estate",
          "Information Technology",
          "Information Technology",
          "Consumer Discretionary",
          "Consumer Staples",
          "Industrials",
          "Financials",
          "Financials",
          "Telecommunication Services",
          "Information Technology",
          "Information Technology",
          "Consumer Discretionary",
          "Real Estate",
          "Materials",
          "Energy",
          "Materials",
          "Financials",
          "Health Care",
          "Financials",
          "Health Care",
          "Financials",
          "Consumer Discretionary",
          "Health Care",
          "Financials",
          "Financials",
          "Industrials",
          "Consumer Discretionary",
          "Real Estate",
          "Health Care",
          "Financials",
          "Health Care",
          "Information Technology",
          "Consumer Staples",
          "Industrials",
          "Information Technology",
          "Energy",
          "Information Technology",
          "Consumer Staples",
          "Financials",
          "Health Care",
          "Consumer Discretionary",
          "Consumer Discretionary",
          "Industrials",
          "Financials",
          "Real Estate",
          "Consumer Discretionary",
          "Health Care",
          "Health Care",
          "Utilities",
          "Telecommunication Services",
          "Health Care",
          "Materials",
          "Financials",
          "Consumer Discretionary",
          "Energy",
          "Energy",
          "Consumer Discretionary",
          "Financials",
          "Consumer Staples",
          "Health Care",
          "Energy",
          "Financials",
          "Industrials",
          "Information Technology",
          "Financials",
          "Financials",
          "Information Technology",
          "Financials",
          "Utilities",
          "Consumer Staples",
          "Information Technology",
          "Consumer Staples",
          "Consumer Discretionary",
          "Financials",
          "Consumer Staples",
          "Energy",
          "Energy",
          "Utilities",
          "Consumer Staples",
          "Information Technology",
          "Consumer Staples",
          "Consumer Staples",
          "Real Estate",
          "Information Technology",
          "Industrials",
          "Industrials",
          "Consumer Staples",
          "Consumer Discretionary",
          "Health Care",
          "Consumer Discretionary",
          "Health Care",
          "Industrials",
          "Industrials",
          "Health Care",
          "Energy",
          "Real Estate",
          "Financials",
          "Consumer Discretionary",
          "Consumer Discretionary",
          "Consumer Discretionary",
          "Consumer Discretionary",
          "Consumer Discretionary",
          "Utilities",
          "Industrials",
          "Materials",
          "Consumer Staples",
          "Utilities",
          "Utilities",
          "Real Estate",
          "Information Technology",
          "Financials",
          "Materials",
          "Industrials",
          "Information Technology",
          "Materials",
          "Utilities",
          "Health Care",
          "Information Technology",
          "Industrials",
          "Utilities",
          "Health Care",
          "Energy",
          "Energy",
          "Industrials",
          "Real Estate",
          "Real Estate",
          "Real Estate",
          "Consumer Staples",
          "Financials",
          "Utilities",
          "Utilities",
          "Consumer Discretionary",
          "Industrials",
          "Health Care",
          "Real Estate",
          "Energy",
          "Information Technology",
          "Information Technology",
          "Industrials",
          "Real Estate",
          "Industrials",
          "Information Technology",
          "Financials",
          "Utilities",
          "Information Technology",
          "Information Technology",
          "Industrials",
          "Industrials",
          "Materials",
          "Consumer Discretionary",
          "Consumer Discretionary",
          "Industrials",
          "Industrials",
          "Financials",
          "Materials",
          "Consumer Discretionary",
          "Consumer Discretionary",
          "Information Technology",
          "Industrials",
          "Industrials",
          "Real Estate",
          "Consumer Staples",
          "Consumer Discretionary",
          "Consumer Discretionary",
          "Health Care",
          "Information Technology",
          "Financials",
          "Consumer Discretionary",
          "Industrials",
          "Energy",
          "Consumer Discretionary",
          "Consumer Discretionary",
          "Information Technology",
          "Financials",
          "Consumer Discretionary",
          "Health Care",
          "Real Estate",
          "Energy",
          "Health Care",
          "Energy",
          "Information Technology",
          "Consumer Discretionary",
          "Health Care",
          "Consumer Discretionary",
          "Industrials",
          "Consumer Staples",
          "Real Estate",
          "Information Technology",
          "Health Care",
          "Financials",
          "Industrials",
          "Health Care",
          "Industrials",
          "Industrials",
          "Health Care",
          "Health Care",
          "Industrials",
          "Information Technology",
          "Financials",
          "Information Technology",
          "Materials",
          "Consumer Discretionary",
          "Materials",
          "Information Technology",
          "Health Care",
          "Financials",
          "Health Care",
          "Real Estate",
          "Industrials",
          "Industrials",
          "Consumer Staples",
          "Health Care",
          "Industrials",
          "Financials",
          "Information Technology",
          "Industrials",
          "Consumer Staples",
          "Financials",
          "Consumer Staples",
          "Real Estate",
          "Energy",
          "Information Technology",
          "Consumer Discretionary",
          "Consumer Staples",
          "Consumer Staples",
          "Consumer Discretionary",
          "Industrials",
          "Health Care",
          "Information Technology",
          "Consumer Discretionary",
          "Consumer Discretionary",
          "Financials",
          "Health Care",
          "Financials",
          "Consumer Discretionary",
          "Industrials",
          "Financials",
          "Consumer Discretionary",
          "Materials",
          "Financials",
          "Real Estate",
          "Consumer Discretionary",
          "Energy",
          "Energy",
          "Consumer Discretionary",
          "Financials",
          "Materials",
          "Industrials",
          "Information Technology",
          "Consumer Discretionary",
          "Consumer Staples",
          "Consumer Discretionary",
          "Health Care",
          "Health Care",
          "Health Care",
          "Financials",
          "Health Care",
          "Consumer Discretionary",
          "Consumer Discretionary",
          "Information Technology",
          "Information Technology",
          "Information Technology",
          "Real Estate",
          "Consumer Discretionary",
          "Consumer Staples",
          "Consumer Staples",
          "Materials",
          "Consumer Staples",
          "Financials",
          "Financials",
          "Information Technology",
          "Health Care",
          "Financials",
          "Energy",
          "Financials",
          "Information Technology",
          "Information Technology",
          "Consumer Discretionary",
          "Energy",
          "Materials",
          "Consumer Discretionary",
          "Consumer Discretionary",
          "Utilities",
          "Industrials",
          "Consumer Discretionary",
          "Utilities",
          "Energy",
          "Consumer Discretionary",
          "Industrials",
          "Financials",
          "Industrials",
          "Consumer Discretionary",
          "Utilities",
          "Materials",
          "Information Technology",
          "Consumer Discretionary",
          "Energy",
          "Consumer Discretionary",
          "Energy",
          "Information Technology",
          "Industrials",
          "Materials",
          "Industrials",
          "Health Care",
          "Information Technology",
          "Information Technology",
          "Industrials",
          "Financials",
          "Consumer Staples",
          "Health Care",
          "Health Care",
          "Health Care",
          "Utilities",
          "Consumer Staples",
          "Energy",
          "Utilities",
          "Energy",
          "Financials",
          "Consumer Discretionary",
          "Materials",
          "Utilities",
          "Materials",
          "Consumer Discretionary",
          "Financials",
          "Consumer Staples",
          "Financials",
          "Real Estate",
          "Financials",
          "Utilities",
          "Real Estate",
          "Consumer Discretionary",
          "Consumer Discretionary",
          "Information Technology",
          "Information Technology",
          "Industrials",
          "Health Care",
          "Energy",
          "Financials",
          "Industrials",
          "Real Estate",
          "Information Technology",
          "Real Estate",
          "Health Care",
          "Financials",
          "Industrials",
          "Health Care",
          "Industrials",
          "Industrials",
          "Industrials",
          "Industrials",
          "Consumer Discretionary",
          "Consumer Discretionary",
          "Financials",
          "Information Technology",
          "Real Estate",
          "Utilities",
          "Energy",
          "Consumer Discretionary",
          "Information Technology",
          "Materials",
          "Utilities",
          "Materials",
          "Consumer Discretionary",
          "Real Estate",
          "Information Technology",
          "Real Estate",
          "Consumer Discretionary",
          "Utilities",
          "Industrials",
          "Consumer Discretionary",
          "Consumer Discretionary",
          "Financials",
          "Industrials",
          "Health Care",
          "Financials",
          "Information Technology",
          "Financials",
          "Information Technology",
          "Consumer Staples",
          "Financials",
          "Consumer Discretionary",
          "Consumer Discretionary",
          "Information Technology",
          "Energy",
          "Information Technology",
          "Industrials",
          "Financials",
          "Consumer Staples",
          "Health Care",
          "Consumer Staples",
          "Materials",
          "Financials",
          "Consumer Discretionary",
          "Health Care",
          "Consumer Discretionary",
          "Consumer Discretionary",
          "Consumer Discretionary",
          "Financials",
          "Information Technology",
          "Consumer Discretionary",
          "Industrials",
          "Consumer Discretionary",
          "Consumer Discretionary",
          "Consumer Discretionary",
          "Consumer Staples",
          "Financials",
          "Real Estate",
          "Consumer Discretionary",
          "Consumer Discretionary",
          "Consumer Discretionary",
          "Industrials",
          "Industrials",
          "Health Care",
          "Industrials",
          "Industrials",
          "Industrials",
          "Health Care",
          "Financials",
          "Consumer Discretionary",
          "Energy",
          "Health Care",
          "Real Estate",
          "Information Technology",
          "Industrials",
          "Telecommunication Services",
          "Health Care",
          "Consumer Discretionary",
          "Information Technology",
          "Real Estate",
          "Materials",
          "Consumer Staples",
          "Consumer Staples",
          "Industrials",
          "Health Care",
          "Utilities",
          "Financials",
          "Real Estate",
          "Information Technology",
          "Information Technology",
          "Materials",
          "Real Estate",
          "Consumer Discretionary",
          "Energy",
          "Financials",
          "Consumer Discretionary",
          "Consumer Discretionary",
          "Utilities",
          "Information Technology",
          "Information Technology",
          "Financials",
          "Industrials",
          "Consumer Discretionary",
          "Health Care",
          "Financials",
          "Health Care"
         ],
         "xaxis": "x",
         "y": [
          1,
          1,
          1,
          1,
          1,
          1,
          1,
          1,
          1,
          1,
          1,
          1,
          1,
          1,
          1,
          1,
          1,
          1,
          1,
          1,
          1,
          1,
          1,
          1,
          1,
          1,
          1,
          1,
          1,
          1,
          1,
          1,
          1,
          1,
          1,
          1,
          1,
          1,
          1,
          1,
          1,
          1,
          1,
          1,
          1,
          1,
          1,
          1,
          1,
          1,
          1,
          1,
          1,
          1,
          1,
          1,
          1,
          1,
          1,
          1,
          1,
          1,
          1,
          1,
          1,
          1,
          1,
          1,
          1,
          1,
          1,
          1,
          1,
          1,
          1,
          1,
          1,
          1,
          1,
          1,
          1,
          1,
          1,
          1,
          1,
          1,
          1,
          1,
          1,
          1,
          1,
          1,
          1,
          1,
          1,
          1,
          1,
          1,
          1,
          1,
          1,
          1,
          1,
          1,
          1,
          1,
          1,
          1,
          1,
          1,
          1,
          1,
          1,
          1,
          1,
          1,
          1,
          1,
          1,
          1,
          1,
          1,
          1,
          1,
          1,
          1,
          1,
          1,
          1,
          1,
          1,
          1,
          1,
          1,
          1,
          1,
          1,
          1,
          1,
          1,
          1,
          1,
          1,
          1,
          1,
          1,
          1,
          1,
          1,
          1,
          1,
          1,
          1,
          1,
          1,
          1,
          1,
          1,
          1,
          1,
          1,
          1,
          1,
          1,
          1,
          1,
          1,
          1,
          1,
          1,
          1,
          1,
          1,
          1,
          1,
          1,
          1,
          1,
          1,
          1,
          1,
          1,
          1,
          1,
          1,
          1,
          1,
          1,
          1,
          1,
          1,
          1,
          1,
          1,
          1,
          1,
          1,
          1,
          1,
          1,
          1,
          1,
          1,
          1,
          1,
          1,
          1,
          1,
          1,
          1,
          1,
          1,
          1,
          1,
          1,
          1,
          1,
          1,
          1,
          1,
          1,
          1,
          1,
          1,
          1,
          1,
          1,
          1,
          1,
          1,
          1,
          1,
          1,
          1,
          1,
          1,
          1,
          1,
          1,
          1,
          1,
          1,
          1,
          1,
          1,
          1,
          1,
          1,
          1,
          1,
          1,
          1,
          1,
          1,
          1,
          1,
          1,
          1,
          1,
          1,
          1,
          1,
          1,
          1,
          1,
          1,
          1,
          1,
          1,
          1,
          1,
          1,
          1,
          1,
          1,
          1,
          1,
          1,
          1,
          1,
          1,
          1,
          1,
          1,
          1,
          1,
          1,
          1,
          1,
          1,
          1,
          1,
          1,
          1,
          1,
          1,
          1,
          1,
          1,
          1,
          1,
          1,
          1,
          1,
          1,
          1,
          1,
          1,
          1,
          1,
          1,
          1,
          1,
          1,
          1,
          1,
          1,
          1,
          1,
          1,
          1,
          1,
          1,
          1,
          1,
          1,
          1,
          1,
          1,
          1,
          1,
          1,
          1,
          1,
          1,
          1,
          1,
          1,
          1,
          1,
          1,
          1,
          1,
          1,
          1,
          1,
          1,
          1,
          1,
          1,
          1,
          1,
          1,
          1,
          1,
          1,
          1,
          1,
          1,
          1,
          1,
          1,
          1,
          1,
          1,
          1,
          1,
          1,
          1,
          1,
          1,
          1,
          1,
          1,
          1,
          1,
          1,
          1,
          1,
          1,
          1,
          1,
          1,
          1,
          1,
          1,
          1,
          1,
          1,
          1,
          1,
          1,
          1,
          1,
          1,
          1,
          1,
          1,
          1,
          1,
          1,
          1,
          1,
          1,
          1,
          1,
          1,
          1,
          1,
          1,
          1,
          1,
          1,
          1,
          1,
          1,
          1,
          1,
          1,
          1,
          1,
          1,
          1,
          1,
          1,
          1,
          1,
          1,
          1,
          1,
          1,
          1,
          1,
          1,
          1,
          1,
          1,
          1,
          1,
          1,
          1,
          1,
          1,
          1,
          1,
          1,
          1,
          1,
          1,
          1,
          1,
          1,
          1,
          1,
          1,
          1,
          1,
          1,
          1,
          1,
          1,
          1,
          1,
          1,
          1,
          1,
          1,
          1,
          1,
          1,
          1,
          1,
          1,
          1,
          1,
          1,
          1,
          1,
          1,
          1,
          1,
          1,
          1,
          1,
          1,
          1,
          1,
          1,
          1,
          1,
          1,
          1,
          1,
          1,
          1,
          1,
          1,
          1,
          1,
          1,
          1,
          1,
          1,
          1,
          1
         ],
         "yaxis": "y"
        }
       ],
       "layout": {
        "barmode": "relative",
        "legend": {
         "tracegroupgap": 0
        },
        "margin": {
         "t": 60
        },
        "template": {
         "data": {
          "bar": [
           {
            "error_x": {
             "color": "#2a3f5f"
            },
            "error_y": {
             "color": "#2a3f5f"
            },
            "marker": {
             "line": {
              "color": "#E5ECF6",
              "width": 0.5
             },
             "pattern": {
              "fillmode": "overlay",
              "size": 10,
              "solidity": 0.2
             }
            },
            "type": "bar"
           }
          ],
          "barpolar": [
           {
            "marker": {
             "line": {
              "color": "#E5ECF6",
              "width": 0.5
             },
             "pattern": {
              "fillmode": "overlay",
              "size": 10,
              "solidity": 0.2
             }
            },
            "type": "barpolar"
           }
          ],
          "carpet": [
           {
            "aaxis": {
             "endlinecolor": "#2a3f5f",
             "gridcolor": "white",
             "linecolor": "white",
             "minorgridcolor": "white",
             "startlinecolor": "#2a3f5f"
            },
            "baxis": {
             "endlinecolor": "#2a3f5f",
             "gridcolor": "white",
             "linecolor": "white",
             "minorgridcolor": "white",
             "startlinecolor": "#2a3f5f"
            },
            "type": "carpet"
           }
          ],
          "choropleth": [
           {
            "colorbar": {
             "outlinewidth": 0,
             "ticks": ""
            },
            "type": "choropleth"
           }
          ],
          "contour": [
           {
            "colorbar": {
             "outlinewidth": 0,
             "ticks": ""
            },
            "colorscale": [
             [
              0,
              "#0d0887"
             ],
             [
              0.1111111111111111,
              "#46039f"
             ],
             [
              0.2222222222222222,
              "#7201a8"
             ],
             [
              0.3333333333333333,
              "#9c179e"
             ],
             [
              0.4444444444444444,
              "#bd3786"
             ],
             [
              0.5555555555555556,
              "#d8576b"
             ],
             [
              0.6666666666666666,
              "#ed7953"
             ],
             [
              0.7777777777777778,
              "#fb9f3a"
             ],
             [
              0.8888888888888888,
              "#fdca26"
             ],
             [
              1,
              "#f0f921"
             ]
            ],
            "type": "contour"
           }
          ],
          "contourcarpet": [
           {
            "colorbar": {
             "outlinewidth": 0,
             "ticks": ""
            },
            "type": "contourcarpet"
           }
          ],
          "heatmap": [
           {
            "colorbar": {
             "outlinewidth": 0,
             "ticks": ""
            },
            "colorscale": [
             [
              0,
              "#0d0887"
             ],
             [
              0.1111111111111111,
              "#46039f"
             ],
             [
              0.2222222222222222,
              "#7201a8"
             ],
             [
              0.3333333333333333,
              "#9c179e"
             ],
             [
              0.4444444444444444,
              "#bd3786"
             ],
             [
              0.5555555555555556,
              "#d8576b"
             ],
             [
              0.6666666666666666,
              "#ed7953"
             ],
             [
              0.7777777777777778,
              "#fb9f3a"
             ],
             [
              0.8888888888888888,
              "#fdca26"
             ],
             [
              1,
              "#f0f921"
             ]
            ],
            "type": "heatmap"
           }
          ],
          "heatmapgl": [
           {
            "colorbar": {
             "outlinewidth": 0,
             "ticks": ""
            },
            "colorscale": [
             [
              0,
              "#0d0887"
             ],
             [
              0.1111111111111111,
              "#46039f"
             ],
             [
              0.2222222222222222,
              "#7201a8"
             ],
             [
              0.3333333333333333,
              "#9c179e"
             ],
             [
              0.4444444444444444,
              "#bd3786"
             ],
             [
              0.5555555555555556,
              "#d8576b"
             ],
             [
              0.6666666666666666,
              "#ed7953"
             ],
             [
              0.7777777777777778,
              "#fb9f3a"
             ],
             [
              0.8888888888888888,
              "#fdca26"
             ],
             [
              1,
              "#f0f921"
             ]
            ],
            "type": "heatmapgl"
           }
          ],
          "histogram": [
           {
            "marker": {
             "pattern": {
              "fillmode": "overlay",
              "size": 10,
              "solidity": 0.2
             }
            },
            "type": "histogram"
           }
          ],
          "histogram2d": [
           {
            "colorbar": {
             "outlinewidth": 0,
             "ticks": ""
            },
            "colorscale": [
             [
              0,
              "#0d0887"
             ],
             [
              0.1111111111111111,
              "#46039f"
             ],
             [
              0.2222222222222222,
              "#7201a8"
             ],
             [
              0.3333333333333333,
              "#9c179e"
             ],
             [
              0.4444444444444444,
              "#bd3786"
             ],
             [
              0.5555555555555556,
              "#d8576b"
             ],
             [
              0.6666666666666666,
              "#ed7953"
             ],
             [
              0.7777777777777778,
              "#fb9f3a"
             ],
             [
              0.8888888888888888,
              "#fdca26"
             ],
             [
              1,
              "#f0f921"
             ]
            ],
            "type": "histogram2d"
           }
          ],
          "histogram2dcontour": [
           {
            "colorbar": {
             "outlinewidth": 0,
             "ticks": ""
            },
            "colorscale": [
             [
              0,
              "#0d0887"
             ],
             [
              0.1111111111111111,
              "#46039f"
             ],
             [
              0.2222222222222222,
              "#7201a8"
             ],
             [
              0.3333333333333333,
              "#9c179e"
             ],
             [
              0.4444444444444444,
              "#bd3786"
             ],
             [
              0.5555555555555556,
              "#d8576b"
             ],
             [
              0.6666666666666666,
              "#ed7953"
             ],
             [
              0.7777777777777778,
              "#fb9f3a"
             ],
             [
              0.8888888888888888,
              "#fdca26"
             ],
             [
              1,
              "#f0f921"
             ]
            ],
            "type": "histogram2dcontour"
           }
          ],
          "mesh3d": [
           {
            "colorbar": {
             "outlinewidth": 0,
             "ticks": ""
            },
            "type": "mesh3d"
           }
          ],
          "parcoords": [
           {
            "line": {
             "colorbar": {
              "outlinewidth": 0,
              "ticks": ""
             }
            },
            "type": "parcoords"
           }
          ],
          "pie": [
           {
            "automargin": true,
            "type": "pie"
           }
          ],
          "scatter": [
           {
            "fillpattern": {
             "fillmode": "overlay",
             "size": 10,
             "solidity": 0.2
            },
            "type": "scatter"
           }
          ],
          "scatter3d": [
           {
            "line": {
             "colorbar": {
              "outlinewidth": 0,
              "ticks": ""
             }
            },
            "marker": {
             "colorbar": {
              "outlinewidth": 0,
              "ticks": ""
             }
            },
            "type": "scatter3d"
           }
          ],
          "scattercarpet": [
           {
            "marker": {
             "colorbar": {
              "outlinewidth": 0,
              "ticks": ""
             }
            },
            "type": "scattercarpet"
           }
          ],
          "scattergeo": [
           {
            "marker": {
             "colorbar": {
              "outlinewidth": 0,
              "ticks": ""
             }
            },
            "type": "scattergeo"
           }
          ],
          "scattergl": [
           {
            "marker": {
             "colorbar": {
              "outlinewidth": 0,
              "ticks": ""
             }
            },
            "type": "scattergl"
           }
          ],
          "scattermapbox": [
           {
            "marker": {
             "colorbar": {
              "outlinewidth": 0,
              "ticks": ""
             }
            },
            "type": "scattermapbox"
           }
          ],
          "scatterpolar": [
           {
            "marker": {
             "colorbar": {
              "outlinewidth": 0,
              "ticks": ""
             }
            },
            "type": "scatterpolar"
           }
          ],
          "scatterpolargl": [
           {
            "marker": {
             "colorbar": {
              "outlinewidth": 0,
              "ticks": ""
             }
            },
            "type": "scatterpolargl"
           }
          ],
          "scatterternary": [
           {
            "marker": {
             "colorbar": {
              "outlinewidth": 0,
              "ticks": ""
             }
            },
            "type": "scatterternary"
           }
          ],
          "surface": [
           {
            "colorbar": {
             "outlinewidth": 0,
             "ticks": ""
            },
            "colorscale": [
             [
              0,
              "#0d0887"
             ],
             [
              0.1111111111111111,
              "#46039f"
             ],
             [
              0.2222222222222222,
              "#7201a8"
             ],
             [
              0.3333333333333333,
              "#9c179e"
             ],
             [
              0.4444444444444444,
              "#bd3786"
             ],
             [
              0.5555555555555556,
              "#d8576b"
             ],
             [
              0.6666666666666666,
              "#ed7953"
             ],
             [
              0.7777777777777778,
              "#fb9f3a"
             ],
             [
              0.8888888888888888,
              "#fdca26"
             ],
             [
              1,
              "#f0f921"
             ]
            ],
            "type": "surface"
           }
          ],
          "table": [
           {
            "cells": {
             "fill": {
              "color": "#EBF0F8"
             },
             "line": {
              "color": "white"
             }
            },
            "header": {
             "fill": {
              "color": "#C8D4E3"
             },
             "line": {
              "color": "white"
             }
            },
            "type": "table"
           }
          ]
         },
         "layout": {
          "annotationdefaults": {
           "arrowcolor": "#2a3f5f",
           "arrowhead": 0,
           "arrowwidth": 1
          },
          "autotypenumbers": "strict",
          "coloraxis": {
           "colorbar": {
            "outlinewidth": 0,
            "ticks": ""
           }
          },
          "colorscale": {
           "diverging": [
            [
             0,
             "#8e0152"
            ],
            [
             0.1,
             "#c51b7d"
            ],
            [
             0.2,
             "#de77ae"
            ],
            [
             0.3,
             "#f1b6da"
            ],
            [
             0.4,
             "#fde0ef"
            ],
            [
             0.5,
             "#f7f7f7"
            ],
            [
             0.6,
             "#e6f5d0"
            ],
            [
             0.7,
             "#b8e186"
            ],
            [
             0.8,
             "#7fbc41"
            ],
            [
             0.9,
             "#4d9221"
            ],
            [
             1,
             "#276419"
            ]
           ],
           "sequential": [
            [
             0,
             "#0d0887"
            ],
            [
             0.1111111111111111,
             "#46039f"
            ],
            [
             0.2222222222222222,
             "#7201a8"
            ],
            [
             0.3333333333333333,
             "#9c179e"
            ],
            [
             0.4444444444444444,
             "#bd3786"
            ],
            [
             0.5555555555555556,
             "#d8576b"
            ],
            [
             0.6666666666666666,
             "#ed7953"
            ],
            [
             0.7777777777777778,
             "#fb9f3a"
            ],
            [
             0.8888888888888888,
             "#fdca26"
            ],
            [
             1,
             "#f0f921"
            ]
           ],
           "sequentialminus": [
            [
             0,
             "#0d0887"
            ],
            [
             0.1111111111111111,
             "#46039f"
            ],
            [
             0.2222222222222222,
             "#7201a8"
            ],
            [
             0.3333333333333333,
             "#9c179e"
            ],
            [
             0.4444444444444444,
             "#bd3786"
            ],
            [
             0.5555555555555556,
             "#d8576b"
            ],
            [
             0.6666666666666666,
             "#ed7953"
            ],
            [
             0.7777777777777778,
             "#fb9f3a"
            ],
            [
             0.8888888888888888,
             "#fdca26"
            ],
            [
             1,
             "#f0f921"
            ]
           ]
          },
          "colorway": [
           "#636efa",
           "#EF553B",
           "#00cc96",
           "#ab63fa",
           "#FFA15A",
           "#19d3f3",
           "#FF6692",
           "#B6E880",
           "#FF97FF",
           "#FECB52"
          ],
          "font": {
           "color": "#2a3f5f"
          },
          "geo": {
           "bgcolor": "white",
           "lakecolor": "white",
           "landcolor": "#E5ECF6",
           "showlakes": true,
           "showland": true,
           "subunitcolor": "white"
          },
          "hoverlabel": {
           "align": "left"
          },
          "hovermode": "closest",
          "mapbox": {
           "style": "light"
          },
          "paper_bgcolor": "white",
          "plot_bgcolor": "#E5ECF6",
          "polar": {
           "angularaxis": {
            "gridcolor": "white",
            "linecolor": "white",
            "ticks": ""
           },
           "bgcolor": "#E5ECF6",
           "radialaxis": {
            "gridcolor": "white",
            "linecolor": "white",
            "ticks": ""
           }
          },
          "scene": {
           "xaxis": {
            "backgroundcolor": "#E5ECF6",
            "gridcolor": "white",
            "gridwidth": 2,
            "linecolor": "white",
            "showbackground": true,
            "ticks": "",
            "zerolinecolor": "white"
           },
           "yaxis": {
            "backgroundcolor": "#E5ECF6",
            "gridcolor": "white",
            "gridwidth": 2,
            "linecolor": "white",
            "showbackground": true,
            "ticks": "",
            "zerolinecolor": "white"
           },
           "zaxis": {
            "backgroundcolor": "#E5ECF6",
            "gridcolor": "white",
            "gridwidth": 2,
            "linecolor": "white",
            "showbackground": true,
            "ticks": "",
            "zerolinecolor": "white"
           }
          },
          "shapedefaults": {
           "line": {
            "color": "#2a3f5f"
           }
          },
          "ternary": {
           "aaxis": {
            "gridcolor": "white",
            "linecolor": "white",
            "ticks": ""
           },
           "baxis": {
            "gridcolor": "white",
            "linecolor": "white",
            "ticks": ""
           },
           "bgcolor": "#E5ECF6",
           "caxis": {
            "gridcolor": "white",
            "linecolor": "white",
            "ticks": ""
           }
          },
          "title": {
           "x": 0.05
          },
          "xaxis": {
           "automargin": true,
           "gridcolor": "white",
           "linecolor": "white",
           "ticks": "",
           "title": {
            "standoff": 15
           },
           "zerolinecolor": "white",
           "zerolinewidth": 2
          },
          "yaxis": {
           "automargin": true,
           "gridcolor": "white",
           "linecolor": "white",
           "ticks": "",
           "title": {
            "standoff": 15
           },
           "zerolinecolor": "white",
           "zerolinewidth": 2
          }
         }
        },
        "xaxis": {
         "anchor": "y",
         "domain": [
          0,
          1
         ],
         "title": {
          "text": "Sector"
         }
        },
        "yaxis": {
         "anchor": "x",
         "domain": [
          0,
          1
         ],
         "title": {
          "text": "count"
         }
        }
       }
      }
     },
     "metadata": {},
     "output_type": "display_data"
    }
   ],
   "source": [
    "fig = px.bar(df,x = 'Sector')\n",
    "fig.show()"
   ]
  },
  {
   "attachments": {},
   "cell_type": "markdown",
   "metadata": {},
   "source": [
    "wtf is px.area"
   ]
  },
  {
   "cell_type": "code",
   "execution_count": 32,
   "metadata": {},
   "outputs": [
    {
     "data": {
      "application/vnd.plotly.v1+json": {
       "config": {
        "plotlyServerURL": "https://plot.ly"
       },
       "data": [
        {
         "fillpattern": {
          "shape": ""
         },
         "hovertemplate": "Sector=%{x}<br>index=%{y}<extra></extra>",
         "legendgroup": "",
         "line": {
          "color": "#636efa"
         },
         "marker": {
          "symbol": "circle"
         },
         "mode": "lines",
         "name": "",
         "orientation": "h",
         "showlegend": false,
         "stackgroup": "1",
         "type": "scatter",
         "x": [
          "Industrials",
          "Industrials",
          "Health Care",
          "Health Care",
          "Information Technology",
          "Information Technology",
          "Industrials",
          "Information Technology",
          "Consumer Discretionary",
          "Information Technology",
          "Utilities",
          "Health Care",
          "Financials",
          "Financials",
          "Health Care",
          "Materials",
          "Information Technology",
          "Industrials",
          "Materials",
          "Real Estate",
          "Health Care",
          "Health Care",
          "Industrials",
          "Health Care",
          "Information Technology",
          "Utilities",
          "Financials",
          "Information Technology",
          "Information Technology",
          "Consumer Staples",
          "Consumer Discretionary",
          "Utilities",
          "Industrials",
          "Utilities",
          "Financials",
          "Financials",
          "Real Estate",
          "Utilities",
          "Financials",
          "Health Care",
          "Industrials",
          "Health Care",
          "Information Technology",
          "Energy",
          "Information Technology",
          "Energy",
          "Information Technology",
          "Health Care",
          "Financials",
          "Energy",
          "Real Estate",
          "Information Technology",
          "Information Technology",
          "Consumer Discretionary",
          "Consumer Staples",
          "Industrials",
          "Financials",
          "Financials",
          "Telecommunication Services",
          "Information Technology",
          "Information Technology",
          "Consumer Discretionary",
          "Real Estate",
          "Materials",
          "Energy",
          "Materials",
          "Financials",
          "Health Care",
          "Financials",
          "Health Care",
          "Financials",
          "Consumer Discretionary",
          "Health Care",
          "Financials",
          "Financials",
          "Industrials",
          "Consumer Discretionary",
          "Real Estate",
          "Health Care",
          "Financials",
          "Health Care",
          "Information Technology",
          "Consumer Staples",
          "Industrials",
          "Information Technology",
          "Energy",
          "Information Technology",
          "Consumer Staples",
          "Financials",
          "Health Care",
          "Consumer Discretionary",
          "Consumer Discretionary",
          "Industrials",
          "Financials",
          "Real Estate",
          "Consumer Discretionary",
          "Health Care",
          "Health Care",
          "Utilities",
          "Telecommunication Services",
          "Health Care",
          "Materials",
          "Financials",
          "Consumer Discretionary",
          "Energy",
          "Energy",
          "Consumer Discretionary",
          "Financials",
          "Consumer Staples",
          "Health Care",
          "Energy",
          "Financials",
          "Industrials",
          "Information Technology",
          "Financials",
          "Financials",
          "Information Technology",
          "Financials",
          "Utilities",
          "Consumer Staples",
          "Information Technology",
          "Consumer Staples",
          "Consumer Discretionary",
          "Financials",
          "Consumer Staples",
          "Energy",
          "Energy",
          "Utilities",
          "Consumer Staples",
          "Information Technology",
          "Consumer Staples",
          "Consumer Staples",
          "Real Estate",
          "Information Technology",
          "Industrials",
          "Industrials",
          "Consumer Staples",
          "Consumer Discretionary",
          "Health Care",
          "Consumer Discretionary",
          "Health Care",
          "Industrials",
          "Industrials",
          "Health Care",
          "Energy",
          "Real Estate",
          "Financials",
          "Consumer Discretionary",
          "Consumer Discretionary",
          "Consumer Discretionary",
          "Consumer Discretionary",
          "Consumer Discretionary",
          "Utilities",
          "Industrials",
          "Materials",
          "Consumer Staples",
          "Utilities",
          "Utilities",
          "Real Estate",
          "Information Technology",
          "Financials",
          "Materials",
          "Industrials",
          "Information Technology",
          "Materials",
          "Utilities",
          "Health Care",
          "Information Technology",
          "Industrials",
          "Utilities",
          "Health Care",
          "Energy",
          "Energy",
          "Industrials",
          "Real Estate",
          "Real Estate",
          "Real Estate",
          "Consumer Staples",
          "Financials",
          "Utilities",
          "Utilities",
          "Consumer Discretionary",
          "Industrials",
          "Health Care",
          "Real Estate",
          "Energy",
          "Information Technology",
          "Information Technology",
          "Industrials",
          "Real Estate",
          "Industrials",
          "Information Technology",
          "Financials",
          "Utilities",
          "Information Technology",
          "Information Technology",
          "Industrials",
          "Industrials",
          "Materials",
          "Consumer Discretionary",
          "Consumer Discretionary",
          "Industrials",
          "Industrials",
          "Financials",
          "Materials",
          "Consumer Discretionary",
          "Consumer Discretionary",
          "Information Technology",
          "Industrials",
          "Industrials",
          "Real Estate",
          "Consumer Staples",
          "Consumer Discretionary",
          "Consumer Discretionary",
          "Health Care",
          "Information Technology",
          "Financials",
          "Consumer Discretionary",
          "Industrials",
          "Energy",
          "Consumer Discretionary",
          "Consumer Discretionary",
          "Information Technology",
          "Financials",
          "Consumer Discretionary",
          "Health Care",
          "Real Estate",
          "Energy",
          "Health Care",
          "Energy",
          "Information Technology",
          "Consumer Discretionary",
          "Health Care",
          "Consumer Discretionary",
          "Industrials",
          "Consumer Staples",
          "Real Estate",
          "Information Technology",
          "Health Care",
          "Financials",
          "Industrials",
          "Health Care",
          "Industrials",
          "Industrials",
          "Health Care",
          "Health Care",
          "Industrials",
          "Information Technology",
          "Financials",
          "Information Technology",
          "Materials",
          "Consumer Discretionary",
          "Materials",
          "Information Technology",
          "Health Care",
          "Financials",
          "Health Care",
          "Real Estate",
          "Industrials",
          "Industrials",
          "Consumer Staples",
          "Health Care",
          "Industrials",
          "Financials",
          "Information Technology",
          "Industrials",
          "Consumer Staples",
          "Financials",
          "Consumer Staples",
          "Real Estate",
          "Energy",
          "Information Technology",
          "Consumer Discretionary",
          "Consumer Staples",
          "Consumer Staples",
          "Consumer Discretionary",
          "Industrials",
          "Health Care",
          "Information Technology",
          "Consumer Discretionary",
          "Consumer Discretionary",
          "Financials",
          "Health Care",
          "Financials",
          "Consumer Discretionary",
          "Industrials",
          "Financials",
          "Consumer Discretionary",
          "Materials",
          "Financials",
          "Real Estate",
          "Consumer Discretionary",
          "Energy",
          "Energy",
          "Consumer Discretionary",
          "Financials",
          "Materials",
          "Industrials",
          "Information Technology",
          "Consumer Discretionary",
          "Consumer Staples",
          "Consumer Discretionary",
          "Health Care",
          "Health Care",
          "Health Care",
          "Financials",
          "Health Care",
          "Consumer Discretionary",
          "Consumer Discretionary",
          "Information Technology",
          "Information Technology",
          "Information Technology",
          "Real Estate",
          "Consumer Discretionary",
          "Consumer Staples",
          "Consumer Staples",
          "Materials",
          "Consumer Staples",
          "Financials",
          "Financials",
          "Information Technology",
          "Health Care",
          "Financials",
          "Energy",
          "Financials",
          "Information Technology",
          "Information Technology",
          "Consumer Discretionary",
          "Energy",
          "Materials",
          "Consumer Discretionary",
          "Consumer Discretionary",
          "Utilities",
          "Industrials",
          "Consumer Discretionary",
          "Utilities",
          "Energy",
          "Consumer Discretionary",
          "Industrials",
          "Financials",
          "Industrials",
          "Consumer Discretionary",
          "Utilities",
          "Materials",
          "Information Technology",
          "Consumer Discretionary",
          "Energy",
          "Consumer Discretionary",
          "Energy",
          "Information Technology",
          "Industrials",
          "Materials",
          "Industrials",
          "Health Care",
          "Information Technology",
          "Information Technology",
          "Industrials",
          "Financials",
          "Consumer Staples",
          "Health Care",
          "Health Care",
          "Health Care",
          "Utilities",
          "Consumer Staples",
          "Energy",
          "Utilities",
          "Energy",
          "Financials",
          "Consumer Discretionary",
          "Materials",
          "Utilities",
          "Materials",
          "Consumer Discretionary",
          "Financials",
          "Consumer Staples",
          "Financials",
          "Real Estate",
          "Financials",
          "Utilities",
          "Real Estate",
          "Consumer Discretionary",
          "Consumer Discretionary",
          "Information Technology",
          "Information Technology",
          "Industrials",
          "Health Care",
          "Energy",
          "Financials",
          "Industrials",
          "Real Estate",
          "Information Technology",
          "Real Estate",
          "Health Care",
          "Financials",
          "Industrials",
          "Health Care",
          "Industrials",
          "Industrials",
          "Industrials",
          "Industrials",
          "Consumer Discretionary",
          "Consumer Discretionary",
          "Financials",
          "Information Technology",
          "Real Estate",
          "Utilities",
          "Energy",
          "Consumer Discretionary",
          "Information Technology",
          "Materials",
          "Utilities",
          "Materials",
          "Consumer Discretionary",
          "Real Estate",
          "Information Technology",
          "Real Estate",
          "Consumer Discretionary",
          "Utilities",
          "Industrials",
          "Consumer Discretionary",
          "Consumer Discretionary",
          "Financials",
          "Industrials",
          "Health Care",
          "Financials",
          "Information Technology",
          "Financials",
          "Information Technology",
          "Consumer Staples",
          "Financials",
          "Consumer Discretionary",
          "Consumer Discretionary",
          "Information Technology",
          "Energy",
          "Information Technology",
          "Industrials",
          "Financials",
          "Consumer Staples",
          "Health Care",
          "Consumer Staples",
          "Materials",
          "Financials",
          "Consumer Discretionary",
          "Health Care",
          "Consumer Discretionary",
          "Consumer Discretionary",
          "Consumer Discretionary",
          "Financials",
          "Information Technology",
          "Consumer Discretionary",
          "Industrials",
          "Consumer Discretionary",
          "Consumer Discretionary",
          "Consumer Discretionary",
          "Consumer Staples",
          "Financials",
          "Real Estate",
          "Consumer Discretionary",
          "Consumer Discretionary",
          "Consumer Discretionary",
          "Industrials",
          "Industrials",
          "Health Care",
          "Industrials",
          "Industrials",
          "Industrials",
          "Health Care",
          "Financials",
          "Consumer Discretionary",
          "Energy",
          "Health Care",
          "Real Estate",
          "Information Technology",
          "Industrials",
          "Telecommunication Services",
          "Health Care",
          "Consumer Discretionary",
          "Information Technology",
          "Real Estate",
          "Materials",
          "Consumer Staples",
          "Consumer Staples",
          "Industrials",
          "Health Care",
          "Utilities",
          "Financials",
          "Real Estate",
          "Information Technology",
          "Information Technology",
          "Materials",
          "Real Estate",
          "Consumer Discretionary",
          "Energy",
          "Financials",
          "Consumer Discretionary",
          "Consumer Discretionary",
          "Utilities",
          "Information Technology",
          "Information Technology",
          "Financials",
          "Industrials",
          "Consumer Discretionary",
          "Health Care",
          "Financials",
          "Health Care"
         ],
         "xaxis": "x",
         "y": [
          0,
          1,
          2,
          3,
          4,
          5,
          6,
          7,
          8,
          9,
          10,
          11,
          12,
          13,
          14,
          15,
          16,
          17,
          18,
          19,
          20,
          21,
          22,
          23,
          24,
          25,
          26,
          27,
          28,
          29,
          30,
          31,
          32,
          33,
          34,
          35,
          36,
          37,
          38,
          39,
          40,
          41,
          42,
          43,
          44,
          45,
          46,
          47,
          48,
          49,
          50,
          51,
          52,
          53,
          54,
          55,
          56,
          57,
          58,
          59,
          60,
          61,
          62,
          63,
          64,
          65,
          66,
          67,
          68,
          69,
          70,
          71,
          72,
          73,
          74,
          75,
          76,
          77,
          78,
          79,
          80,
          81,
          82,
          83,
          84,
          85,
          86,
          87,
          88,
          89,
          90,
          91,
          92,
          93,
          94,
          95,
          96,
          97,
          98,
          99,
          100,
          101,
          102,
          103,
          104,
          105,
          106,
          107,
          108,
          109,
          110,
          111,
          112,
          113,
          114,
          115,
          116,
          117,
          118,
          119,
          120,
          121,
          122,
          123,
          124,
          125,
          126,
          127,
          128,
          129,
          130,
          131,
          132,
          133,
          134,
          135,
          136,
          137,
          138,
          139,
          140,
          141,
          142,
          143,
          144,
          145,
          146,
          147,
          148,
          149,
          150,
          151,
          152,
          153,
          154,
          155,
          156,
          157,
          158,
          159,
          160,
          161,
          162,
          163,
          164,
          165,
          166,
          167,
          168,
          169,
          170,
          171,
          172,
          173,
          174,
          175,
          176,
          177,
          178,
          179,
          180,
          181,
          182,
          183,
          184,
          185,
          186,
          187,
          188,
          189,
          190,
          191,
          192,
          193,
          194,
          195,
          196,
          197,
          198,
          199,
          200,
          201,
          202,
          203,
          204,
          205,
          206,
          207,
          208,
          209,
          210,
          211,
          212,
          213,
          214,
          215,
          216,
          217,
          218,
          219,
          220,
          221,
          222,
          223,
          224,
          225,
          226,
          227,
          228,
          229,
          230,
          231,
          232,
          233,
          234,
          235,
          236,
          237,
          238,
          239,
          240,
          241,
          242,
          243,
          244,
          245,
          246,
          247,
          248,
          249,
          250,
          251,
          252,
          253,
          254,
          255,
          256,
          257,
          258,
          259,
          260,
          261,
          262,
          263,
          264,
          265,
          266,
          267,
          268,
          269,
          270,
          271,
          272,
          273,
          274,
          275,
          276,
          277,
          278,
          279,
          280,
          281,
          282,
          283,
          284,
          285,
          286,
          287,
          288,
          289,
          290,
          291,
          292,
          293,
          294,
          295,
          296,
          297,
          298,
          299,
          300,
          301,
          302,
          303,
          304,
          305,
          306,
          307,
          308,
          309,
          310,
          311,
          312,
          313,
          314,
          315,
          316,
          317,
          318,
          319,
          320,
          321,
          322,
          323,
          324,
          325,
          326,
          327,
          328,
          329,
          330,
          331,
          332,
          333,
          334,
          335,
          336,
          337,
          338,
          339,
          340,
          341,
          342,
          343,
          344,
          345,
          346,
          347,
          348,
          349,
          350,
          351,
          352,
          353,
          354,
          355,
          356,
          357,
          358,
          359,
          360,
          361,
          362,
          363,
          364,
          365,
          366,
          367,
          368,
          369,
          370,
          371,
          372,
          373,
          374,
          375,
          376,
          377,
          378,
          379,
          380,
          381,
          382,
          383,
          384,
          385,
          386,
          387,
          388,
          389,
          390,
          391,
          392,
          393,
          394,
          395,
          396,
          397,
          398,
          399,
          400,
          401,
          402,
          403,
          404,
          405,
          406,
          407,
          408,
          409,
          410,
          411,
          412,
          413,
          414,
          415,
          416,
          417,
          418,
          419,
          420,
          421,
          422,
          423,
          424,
          425,
          426,
          427,
          428,
          429,
          430,
          431,
          432,
          433,
          434,
          435,
          436,
          437,
          438,
          439,
          440,
          441,
          442,
          443,
          444,
          445,
          446,
          447,
          448,
          449,
          450,
          451,
          452,
          453,
          454,
          455,
          456,
          457,
          458,
          459,
          460,
          461,
          462,
          463,
          464,
          465,
          466,
          467,
          468,
          469,
          470,
          471,
          472,
          473,
          474,
          475,
          476,
          477,
          478,
          479,
          480,
          481,
          482,
          483,
          484,
          485,
          486,
          487,
          488,
          489,
          490,
          491,
          492,
          493,
          494,
          495,
          496,
          497,
          498,
          499,
          500,
          501,
          502,
          503,
          504
         ],
         "yaxis": "y"
        }
       ],
       "layout": {
        "legend": {
         "tracegroupgap": 0
        },
        "margin": {
         "t": 60
        },
        "template": {
         "data": {
          "bar": [
           {
            "error_x": {
             "color": "#2a3f5f"
            },
            "error_y": {
             "color": "#2a3f5f"
            },
            "marker": {
             "line": {
              "color": "#E5ECF6",
              "width": 0.5
             },
             "pattern": {
              "fillmode": "overlay",
              "size": 10,
              "solidity": 0.2
             }
            },
            "type": "bar"
           }
          ],
          "barpolar": [
           {
            "marker": {
             "line": {
              "color": "#E5ECF6",
              "width": 0.5
             },
             "pattern": {
              "fillmode": "overlay",
              "size": 10,
              "solidity": 0.2
             }
            },
            "type": "barpolar"
           }
          ],
          "carpet": [
           {
            "aaxis": {
             "endlinecolor": "#2a3f5f",
             "gridcolor": "white",
             "linecolor": "white",
             "minorgridcolor": "white",
             "startlinecolor": "#2a3f5f"
            },
            "baxis": {
             "endlinecolor": "#2a3f5f",
             "gridcolor": "white",
             "linecolor": "white",
             "minorgridcolor": "white",
             "startlinecolor": "#2a3f5f"
            },
            "type": "carpet"
           }
          ],
          "choropleth": [
           {
            "colorbar": {
             "outlinewidth": 0,
             "ticks": ""
            },
            "type": "choropleth"
           }
          ],
          "contour": [
           {
            "colorbar": {
             "outlinewidth": 0,
             "ticks": ""
            },
            "colorscale": [
             [
              0,
              "#0d0887"
             ],
             [
              0.1111111111111111,
              "#46039f"
             ],
             [
              0.2222222222222222,
              "#7201a8"
             ],
             [
              0.3333333333333333,
              "#9c179e"
             ],
             [
              0.4444444444444444,
              "#bd3786"
             ],
             [
              0.5555555555555556,
              "#d8576b"
             ],
             [
              0.6666666666666666,
              "#ed7953"
             ],
             [
              0.7777777777777778,
              "#fb9f3a"
             ],
             [
              0.8888888888888888,
              "#fdca26"
             ],
             [
              1,
              "#f0f921"
             ]
            ],
            "type": "contour"
           }
          ],
          "contourcarpet": [
           {
            "colorbar": {
             "outlinewidth": 0,
             "ticks": ""
            },
            "type": "contourcarpet"
           }
          ],
          "heatmap": [
           {
            "colorbar": {
             "outlinewidth": 0,
             "ticks": ""
            },
            "colorscale": [
             [
              0,
              "#0d0887"
             ],
             [
              0.1111111111111111,
              "#46039f"
             ],
             [
              0.2222222222222222,
              "#7201a8"
             ],
             [
              0.3333333333333333,
              "#9c179e"
             ],
             [
              0.4444444444444444,
              "#bd3786"
             ],
             [
              0.5555555555555556,
              "#d8576b"
             ],
             [
              0.6666666666666666,
              "#ed7953"
             ],
             [
              0.7777777777777778,
              "#fb9f3a"
             ],
             [
              0.8888888888888888,
              "#fdca26"
             ],
             [
              1,
              "#f0f921"
             ]
            ],
            "type": "heatmap"
           }
          ],
          "heatmapgl": [
           {
            "colorbar": {
             "outlinewidth": 0,
             "ticks": ""
            },
            "colorscale": [
             [
              0,
              "#0d0887"
             ],
             [
              0.1111111111111111,
              "#46039f"
             ],
             [
              0.2222222222222222,
              "#7201a8"
             ],
             [
              0.3333333333333333,
              "#9c179e"
             ],
             [
              0.4444444444444444,
              "#bd3786"
             ],
             [
              0.5555555555555556,
              "#d8576b"
             ],
             [
              0.6666666666666666,
              "#ed7953"
             ],
             [
              0.7777777777777778,
              "#fb9f3a"
             ],
             [
              0.8888888888888888,
              "#fdca26"
             ],
             [
              1,
              "#f0f921"
             ]
            ],
            "type": "heatmapgl"
           }
          ],
          "histogram": [
           {
            "marker": {
             "pattern": {
              "fillmode": "overlay",
              "size": 10,
              "solidity": 0.2
             }
            },
            "type": "histogram"
           }
          ],
          "histogram2d": [
           {
            "colorbar": {
             "outlinewidth": 0,
             "ticks": ""
            },
            "colorscale": [
             [
              0,
              "#0d0887"
             ],
             [
              0.1111111111111111,
              "#46039f"
             ],
             [
              0.2222222222222222,
              "#7201a8"
             ],
             [
              0.3333333333333333,
              "#9c179e"
             ],
             [
              0.4444444444444444,
              "#bd3786"
             ],
             [
              0.5555555555555556,
              "#d8576b"
             ],
             [
              0.6666666666666666,
              "#ed7953"
             ],
             [
              0.7777777777777778,
              "#fb9f3a"
             ],
             [
              0.8888888888888888,
              "#fdca26"
             ],
             [
              1,
              "#f0f921"
             ]
            ],
            "type": "histogram2d"
           }
          ],
          "histogram2dcontour": [
           {
            "colorbar": {
             "outlinewidth": 0,
             "ticks": ""
            },
            "colorscale": [
             [
              0,
              "#0d0887"
             ],
             [
              0.1111111111111111,
              "#46039f"
             ],
             [
              0.2222222222222222,
              "#7201a8"
             ],
             [
              0.3333333333333333,
              "#9c179e"
             ],
             [
              0.4444444444444444,
              "#bd3786"
             ],
             [
              0.5555555555555556,
              "#d8576b"
             ],
             [
              0.6666666666666666,
              "#ed7953"
             ],
             [
              0.7777777777777778,
              "#fb9f3a"
             ],
             [
              0.8888888888888888,
              "#fdca26"
             ],
             [
              1,
              "#f0f921"
             ]
            ],
            "type": "histogram2dcontour"
           }
          ],
          "mesh3d": [
           {
            "colorbar": {
             "outlinewidth": 0,
             "ticks": ""
            },
            "type": "mesh3d"
           }
          ],
          "parcoords": [
           {
            "line": {
             "colorbar": {
              "outlinewidth": 0,
              "ticks": ""
             }
            },
            "type": "parcoords"
           }
          ],
          "pie": [
           {
            "automargin": true,
            "type": "pie"
           }
          ],
          "scatter": [
           {
            "fillpattern": {
             "fillmode": "overlay",
             "size": 10,
             "solidity": 0.2
            },
            "type": "scatter"
           }
          ],
          "scatter3d": [
           {
            "line": {
             "colorbar": {
              "outlinewidth": 0,
              "ticks": ""
             }
            },
            "marker": {
             "colorbar": {
              "outlinewidth": 0,
              "ticks": ""
             }
            },
            "type": "scatter3d"
           }
          ],
          "scattercarpet": [
           {
            "marker": {
             "colorbar": {
              "outlinewidth": 0,
              "ticks": ""
             }
            },
            "type": "scattercarpet"
           }
          ],
          "scattergeo": [
           {
            "marker": {
             "colorbar": {
              "outlinewidth": 0,
              "ticks": ""
             }
            },
            "type": "scattergeo"
           }
          ],
          "scattergl": [
           {
            "marker": {
             "colorbar": {
              "outlinewidth": 0,
              "ticks": ""
             }
            },
            "type": "scattergl"
           }
          ],
          "scattermapbox": [
           {
            "marker": {
             "colorbar": {
              "outlinewidth": 0,
              "ticks": ""
             }
            },
            "type": "scattermapbox"
           }
          ],
          "scatterpolar": [
           {
            "marker": {
             "colorbar": {
              "outlinewidth": 0,
              "ticks": ""
             }
            },
            "type": "scatterpolar"
           }
          ],
          "scatterpolargl": [
           {
            "marker": {
             "colorbar": {
              "outlinewidth": 0,
              "ticks": ""
             }
            },
            "type": "scatterpolargl"
           }
          ],
          "scatterternary": [
           {
            "marker": {
             "colorbar": {
              "outlinewidth": 0,
              "ticks": ""
             }
            },
            "type": "scatterternary"
           }
          ],
          "surface": [
           {
            "colorbar": {
             "outlinewidth": 0,
             "ticks": ""
            },
            "colorscale": [
             [
              0,
              "#0d0887"
             ],
             [
              0.1111111111111111,
              "#46039f"
             ],
             [
              0.2222222222222222,
              "#7201a8"
             ],
             [
              0.3333333333333333,
              "#9c179e"
             ],
             [
              0.4444444444444444,
              "#bd3786"
             ],
             [
              0.5555555555555556,
              "#d8576b"
             ],
             [
              0.6666666666666666,
              "#ed7953"
             ],
             [
              0.7777777777777778,
              "#fb9f3a"
             ],
             [
              0.8888888888888888,
              "#fdca26"
             ],
             [
              1,
              "#f0f921"
             ]
            ],
            "type": "surface"
           }
          ],
          "table": [
           {
            "cells": {
             "fill": {
              "color": "#EBF0F8"
             },
             "line": {
              "color": "white"
             }
            },
            "header": {
             "fill": {
              "color": "#C8D4E3"
             },
             "line": {
              "color": "white"
             }
            },
            "type": "table"
           }
          ]
         },
         "layout": {
          "annotationdefaults": {
           "arrowcolor": "#2a3f5f",
           "arrowhead": 0,
           "arrowwidth": 1
          },
          "autotypenumbers": "strict",
          "coloraxis": {
           "colorbar": {
            "outlinewidth": 0,
            "ticks": ""
           }
          },
          "colorscale": {
           "diverging": [
            [
             0,
             "#8e0152"
            ],
            [
             0.1,
             "#c51b7d"
            ],
            [
             0.2,
             "#de77ae"
            ],
            [
             0.3,
             "#f1b6da"
            ],
            [
             0.4,
             "#fde0ef"
            ],
            [
             0.5,
             "#f7f7f7"
            ],
            [
             0.6,
             "#e6f5d0"
            ],
            [
             0.7,
             "#b8e186"
            ],
            [
             0.8,
             "#7fbc41"
            ],
            [
             0.9,
             "#4d9221"
            ],
            [
             1,
             "#276419"
            ]
           ],
           "sequential": [
            [
             0,
             "#0d0887"
            ],
            [
             0.1111111111111111,
             "#46039f"
            ],
            [
             0.2222222222222222,
             "#7201a8"
            ],
            [
             0.3333333333333333,
             "#9c179e"
            ],
            [
             0.4444444444444444,
             "#bd3786"
            ],
            [
             0.5555555555555556,
             "#d8576b"
            ],
            [
             0.6666666666666666,
             "#ed7953"
            ],
            [
             0.7777777777777778,
             "#fb9f3a"
            ],
            [
             0.8888888888888888,
             "#fdca26"
            ],
            [
             1,
             "#f0f921"
            ]
           ],
           "sequentialminus": [
            [
             0,
             "#0d0887"
            ],
            [
             0.1111111111111111,
             "#46039f"
            ],
            [
             0.2222222222222222,
             "#7201a8"
            ],
            [
             0.3333333333333333,
             "#9c179e"
            ],
            [
             0.4444444444444444,
             "#bd3786"
            ],
            [
             0.5555555555555556,
             "#d8576b"
            ],
            [
             0.6666666666666666,
             "#ed7953"
            ],
            [
             0.7777777777777778,
             "#fb9f3a"
            ],
            [
             0.8888888888888888,
             "#fdca26"
            ],
            [
             1,
             "#f0f921"
            ]
           ]
          },
          "colorway": [
           "#636efa",
           "#EF553B",
           "#00cc96",
           "#ab63fa",
           "#FFA15A",
           "#19d3f3",
           "#FF6692",
           "#B6E880",
           "#FF97FF",
           "#FECB52"
          ],
          "font": {
           "color": "#2a3f5f"
          },
          "geo": {
           "bgcolor": "white",
           "lakecolor": "white",
           "landcolor": "#E5ECF6",
           "showlakes": true,
           "showland": true,
           "subunitcolor": "white"
          },
          "hoverlabel": {
           "align": "left"
          },
          "hovermode": "closest",
          "mapbox": {
           "style": "light"
          },
          "paper_bgcolor": "white",
          "plot_bgcolor": "#E5ECF6",
          "polar": {
           "angularaxis": {
            "gridcolor": "white",
            "linecolor": "white",
            "ticks": ""
           },
           "bgcolor": "#E5ECF6",
           "radialaxis": {
            "gridcolor": "white",
            "linecolor": "white",
            "ticks": ""
           }
          },
          "scene": {
           "xaxis": {
            "backgroundcolor": "#E5ECF6",
            "gridcolor": "white",
            "gridwidth": 2,
            "linecolor": "white",
            "showbackground": true,
            "ticks": "",
            "zerolinecolor": "white"
           },
           "yaxis": {
            "backgroundcolor": "#E5ECF6",
            "gridcolor": "white",
            "gridwidth": 2,
            "linecolor": "white",
            "showbackground": true,
            "ticks": "",
            "zerolinecolor": "white"
           },
           "zaxis": {
            "backgroundcolor": "#E5ECF6",
            "gridcolor": "white",
            "gridwidth": 2,
            "linecolor": "white",
            "showbackground": true,
            "ticks": "",
            "zerolinecolor": "white"
           }
          },
          "shapedefaults": {
           "line": {
            "color": "#2a3f5f"
           }
          },
          "ternary": {
           "aaxis": {
            "gridcolor": "white",
            "linecolor": "white",
            "ticks": ""
           },
           "baxis": {
            "gridcolor": "white",
            "linecolor": "white",
            "ticks": ""
           },
           "bgcolor": "#E5ECF6",
           "caxis": {
            "gridcolor": "white",
            "linecolor": "white",
            "ticks": ""
           }
          },
          "title": {
           "x": 0.05
          },
          "xaxis": {
           "automargin": true,
           "gridcolor": "white",
           "linecolor": "white",
           "ticks": "",
           "title": {
            "standoff": 15
           },
           "zerolinecolor": "white",
           "zerolinewidth": 2
          },
          "yaxis": {
           "automargin": true,
           "gridcolor": "white",
           "linecolor": "white",
           "ticks": "",
           "title": {
            "standoff": 15
           },
           "zerolinecolor": "white",
           "zerolinewidth": 2
          }
         }
        },
        "xaxis": {
         "anchor": "y",
         "domain": [
          0,
          1
         ],
         "title": {
          "text": "Sector"
         }
        },
        "yaxis": {
         "anchor": "x",
         "domain": [
          0,
          1
         ],
         "title": {
          "text": "index"
         }
        }
       }
      }
     },
     "metadata": {},
     "output_type": "display_data"
    }
   ],
   "source": [
    "fig = px.area(df,x='Sector')\n",
    "fig.show()"
   ]
  },
  {
   "cell_type": "code",
   "execution_count": 34,
   "metadata": {},
   "outputs": [
    {
     "data": {
      "application/vnd.plotly.v1+json": {
       "config": {
        "plotlyServerURL": "https://plot.ly"
       },
       "data": [
        {
         "hovertemplate": "Price=%{x}<br>Dividend Yield=%{y}<br>Earnings/Share=%{z}<extra></extra>",
         "legendgroup": "",
         "line": {
          "color": "#636efa",
          "dash": "solid"
         },
         "marker": {
          "symbol": "circle"
         },
         "mode": "lines",
         "name": "",
         "scene": "scene",
         "showlegend": false,
         "type": "scatter3d",
         "x": [
          0.8856762628596787,
          -0.32426839405054353,
          -0.3538010118675345,
          0.03458638768538717,
          0.34724531132471476,
          -0.28268468281704745,
          0.3093066839023838,
          0.6050048093999635,
          0.043141176221795065,
          -0.6889255540981248,
          -0.6975547321000668,
          0.5517419520776322,
          0.5599991827519043,
          -0.15309823385685026,
          -0.2884870611286981,
          0.3642804989319968,
          -0.3075307643053975,
          -0.2960003971476302,
          0.010037864059173021,
          0.07996396166111633,
          0.034511998219853145,
          0.8694593593732707,
          -0.1972111869185018,
          0.4490844896407365,
          1.0174200063203613,
          -0.4961080594340427,
          -0.10243900782820828,
          6.723910296897679,
          6.677863217732144,
          -0.2959260076820963,
          9.273906785937058,
          -0.38117633518404,
          -0.41085773193209896,
          -0.3009101018728731,
          -0.11523399590005322,
          -0.3388487292952041,
          0.2212295567101487,
          -0.20658425957578352,
          0.3620488149659773,
          -0.09135497746364495,
          -0.23641443525491046,
          0.5154398928970488,
          -0.14424588745830635,
          -0.3543217381262724,
          -0.15733843339228717,
          -0.051556613402964344,
          0.33482227058053976,
          0.9428073723897772,
          0.23967814416257646,
          -0.4917190809675378,
          -0.4881483866219065,
          0.38176202333248266,
          -0.43205872960928393,
          -0.10831577560539292,
          -0.46479009444423613,
          -0.5905082911966663,
          -0.29332237638840686,
          -0.13888984593985965,
          -0.5077872055228779,
          0.0072854538344156415,
          0.03287542997810554,
          4.573013290448115,
          0.38019984455626893,
          0.05162157529266905,
          -0.5678195042088017,
          -0.486437428914625,
          -0.5511562639291896,
          -0.30701003804665966,
          -0.39248353394520535,
          0.800500324823269,
          0.6515726148242363,
          -0.2606654010189886,
          1.5469986114567817,
          3.0168600609427383,
          -0.5850034707471515,
          1.6799325863660082,
          -0.3860116504437489,
          0.06144098474315478,
          -0.5849290812816176,
          -0.35997533750685506,
          -0.3060429749947179,
          0.9353684258363789,
          -0.301282049200543,
          -0.09938903974131502,
          -0.5294345399932668,
          -0.6012203742335597,
          -0.49848852233113017,
          -0.4389025604384103,
          -0.08949524082529539,
          -0.2767335255743289,
          -0.2937687131816108,
          -0.27576646252238707,
          0.31362127290335484,
          0.05444837498296046,
          -0.46054989490879916,
          -0.38705310296122464,
          -0.09529761913694601,
          -0.02581785832820651,
          -0.5800937660219088,
          -0.6518796002622016,
          -0.31697822642821327,
          -0.4937275965369552,
          -0.4086260479660795,
          1.8211981814150402,
          -0.75141270514667,
          0.06300316351936835,
          1.2064436382422106,
          0.2719631722043246,
          -0.4199332467272448,
          0.6355788797344303,
          -0.02708247924228422,
          -0.24913503386122138,
          0.3383929649261709,
          -0.4839825765520035,
          -0.23775344563452208,
          -0.45854137933938166,
          -0.1435763822685005,
          0.36606584610481224,
          -0.46166573689180884,
          -0.45177193797578924,
          -0.21327931147384196,
          -0.2594751695704449,
          -0.4882971655529746,
          -0.10898528079519869,
          -0.5083823212471497,
          0.26973148823830523,
          -0.37634101992433117,
          -0.21647805849180315,
          0.7803407796635597,
          -0.5607525049830733,
          0.5562797094752052,
          -0.6239091612214243,
          -0.00015349271898258967,
          -0.5428990332549176,
          -0.3969469018772443,
          0.4604660778674358,
          -0.24757285508500781,
          -0.4409854654733618,
          -0.08681722006607202,
          -0.09299154570539254,
          -0.23745588777238621,
          0.3706779929679192,
          -0.39129330249666167,
          -0.34948642286656356,
          -0.5124737418515188,
          -0.03623238350296407,
          -0.233810803961221,
          -0.6022618267510355,
          -0.6118580678049191,
          -0.4467878437850124,
          -0.06494671719908124,
          -0.016742343533060675,
          -0.22704136259762864,
          -0.056763875990343125,
          -0.2649799900199597,
          0.09744548606160224,
          -0.039728688383061234,
          -0.2195280265786965,
          -0.5899875649379284,
          -0.08860256723888757,
          -0.4117504055185068,
          -0.07632830542578055,
          -0.18166378862189947,
          -0.4672449468068575,
          0.17800927723490506,
          -0.3404109080714177,
          0.1484022699523801,
          0.09454429690577693,
          -0.2784444832816104,
          -0.2366376036515124,
          -0.5094981632301595,
          -0.02075937467189566,
          -0.4283392563325848,
          0.07564937266014538,
          2.2774287735349543,
          -0.36131434788646677,
          0.8513827192485129,
          0.20553337948247855,
          1.0208419217349247,
          -0.35499124331607823,
          -0.5047372374359848,
          0.14282306003733142,
          -0.32337572046413576,
          -0.22674380473549277,
          -0.19542583974568617,
          -0.2065098701102496,
          0.24860488002665426,
          0.5039839152048157,
          -0.38444947166753524,
          0.031833977460629784,
          1.0075262074043418,
          -0.08250263106510107,
          -0.541039296616568,
          -0.5444612120311312,
          0.21736130450238175,
          -0.4267770775563712,
          -0.4687327361175372,
          -0.36094240055879684,
          -0.170802926653938,
          -0.43109166655734216,
          -0.6948023218753094,
          -0.25806176972529926,
          -0.3079027116330675,
          -0.48971056539812025,
          -0.6447382115709394,
          -0.5405185703578301,
          -0.3176477316180191,
          0.07758349876402895,
          0.7604044029004526,
          -0.6648977567306485,
          -0.6115605099427832,
          -0.3707618100092825,
          -0.4692534623762751,
          -0.055945591869469326,
          -0.19051613502044334,
          -0.024106900620924885,
          1.0601939490024013,
          -0.5436429279102574,
          1.1513210442815298,
          -0.4197100783306429,
          -0.6268103503772496,
          -0.4187430152787011,
          0.34226121713393803,
          -0.3755971252689913,
          -0.054680970955391615,
          -0.05847483369762475,
          -0.603972784458317,
          -0.2898260715083097,
          -0.24534117111898834,
          -0.45251583263112904,
          -0.6605087782641437,
          -0.18724299853694815,
          -0.48375940815540164,
          0.5756953599795744,
          0.3138444412999568,
          -0.5327820659422959,
          -0.6329102865510362,
          -0.6242067190835602,
          1.179365872787841,
          -0.6600624414709397,
          0.9041248503121064,
          0.4868743381319996,
          -0.4470854016471484,
          0.3892009698858809,
          0.7863663263718124,
          -0.14811413966607342,
          -0.12073881634956798,
          -0.45437556926947864,
          -0.2739811153495715,
          0.325523587388792,
          -0.35543758010928217,
          -0.6136434149777348,
          0.25418408994170294,
          0.36390855160432684,
          2.06831998591893,
          -0.5349393604427815,
          -0.06397965414713941,
          -0.5338235184597718,
          0.08167491936839795,
          -0.3050759119427761,
          0.10815756909849568,
          0.1675947520601475,
          -0.5004970379005477,
          0.030123019753348163,
          -0.5889461124204527,
          -0.002236397753934103,
          -0.28156884083403766,
          -0.6230164876350165,
          0.05846540612179544,
          -0.6681708932141438,
          -0.6474162323301628,
          -0.03935674105539124,
          -0.3235244993952037,
          -0.23991074013500763,
          -0.5672987779500638,
          -0.4170320575714195,
          0.7063976509227814,
          0.45845756229801843,
          0.434429764930542,
          -0.4451512755432648,
          -0.3326744036558836,
          -0.5948972696631712,
          -0.2203463106995703,
          -0.22294994199325965,
          -0.48331307136219775,
          1.7144492983737758,
          -0.42982704564326446,
          -0.06561622238888701,
          0.014575621456745938,
          0.5543455833713216,
          -0.33825361357093225,
          -0.5938558171456955,
          -0.6557478524699687,
          -0.3052990803393781,
          0.2235356301417022,
          -0.18240768327723925,
          0.7780347062320063,
          -0.46962540970394495,
          0.42245306097957097,
          -0.6533673895728813,
          -0.018378911774808278,
          0.4101787991664638,
          0.34516240628976325,
          -0.18932590357189966,
          -0.3652569895597678,
          -0.4429939810427793,
          3.6984163441650844,
          -0.5231858248884123,
          -0.32583057282675715,
          -0.17801870481073429,
          -0.47483267229132375,
          -0.14000568792286933,
          -0.13717888823257804,
          1.1362199827781312,
          -0.21811462673355075,
          -0.4548962955282165,
          0.11343922115140838,
          -0.31125023758209663,
          0.35937079420675383,
          -0.3871274924267586,
          -0.03786895174471168,
          -0.48041188220637243,
          -0.21290736414617206,
          -0.5295833189243347,
          -0.6728574295427847,
          -0.3569253694199618,
          1.0880899985776447,
          -0.5647695361219084,
          -0.5761511243486077,
          -0.5000507011073437,
          -0.6559710208665707,
          -0.654483231555891,
          0.308414010315976,
          -0.5202102462670529,
          -0.3075307643053975,
          -0.6049398475102588,
          -0.5832181235743359,
          -0.42104908871025454,
          0.2459268592674308,
          -0.056763875990343125,
          1.637902538339308,
          -0.3557351379714181,
          -0.5938558171456955,
          -0.3232269415330678,
          0.8457291198679303,
          1.1038605652708489,
          -0.2630458639160761,
          -0.2077001015587933,
          -0.36771184192238926,
          -0.4239502778660798,
          -0.27412989428063944,
          0.060399532225679016,
          0.5257800286062723,
          -0.5277979717515192,
          -0.3122173006340384,
          -0.23440591968549296,
          -0.2764359677121929,
          -0.6343236863961819,
          0.047009428429562225,
          -0.23634004578937645,
          -0.14424588745830635,
          -0.5222187618364705,
          -0.4879252182253046,
          -0.025594689931604554,
          -0.08473431503112051,
          -0.21937924764762845,
          0.4859816645455918,
          0.33883930171937476,
          -0.018676469636944252,
          0.04812527041257189,
          -0.5527928321709372,
          0.29933849552083014,
          12.662793277803155,
          -0.3232269415330678,
          -0.1756382419136469,
          -0.39248353394520535,
          -0.33847678196753417,
          -0.00335223973694388,
          -0.4247685619869537,
          0.5702649289955939,
          -0.5591159367413258,
          0.2889983598116067,
          -0.20070749179859898,
          -0.3080514905641354,
          -0.5231114354228783,
          -0.055127307748595526,
          -0.6770232396126877,
          -0.1321947940418012,
          0.7060257035951115,
          -0.4185942363476331,
          0.15487415345383657,
          -0.35893388498937934,
          1.6275624026300846,
          -0.6392333911214246,
          -0.3058198065981159,
          -0.10839016507092683,
          -0.3836311875466615,
          0.5571723830616128,
          0.21929543060626525,
          1.157272201524248,
          -0.21402320612918174,
          0.13850847103636044,
          0.5168532927421945,
          0.0014830755227650129,
          0.4167250721334542,
          -0.5075640371262761,
          -0.27100553672821215,
          -0.12921921542044196,
          -0.4194869099340409,
          -0.4553426323214204,
          -0.003501018668011815,
          2.1113170969975714,
          -0.4050553536204483,
          0.3596683520688899,
          -0.035637267778692125,
          -0.09834758722383927,
          0.3934411694213178,
          -0.44954025400976977,
          -0.35856193766170935,
          0.36472683572520076,
          -0.37239837825103006,
          -0.03935674105539124,
          -0.24757285508500781,
          0.3286479449412192,
          -0.2829078512136494,
          -0.5820278921257922,
          -0.5121761839893829,
          -0.15778477018549109,
          -0.3483705808835538,
          -0.013692375446167426,
          -0.4089979952937494,
          -0.24340704501510477,
          -0.06368209628500353,
          -0.5559171897233646,
          -0.045903014022381755,
          -0.35923144285151526,
          -0.3759690725966613,
          0.17800927723490506,
          0.8877591678946302,
          -0.04597740348791567,
          -0.5928887540937537,
          0.23194163974704216,
          -0.018453301240342296,
          0.7059513141295775,
          -0.031322678777721165,
          -0.08041972603014956,
          -0.21923046871656052,
          -0.17340655794762744,
          -0.16857124268791857,
          -0.28186639869617364,
          1.3328313401844465,
          -0.4744607249636539,
          -0.5153005415418102,
          -0.5187968464219073,
          -0.22250360520005574,
          -0.38072999839083616,
          -0.5275004138893832,
          0.7830188004227833,
          -0.6746427767156002,
          -0.6834951231141442,
          0.15643633223005016,
          -0.3009844913384071,
          0.8378438365213282,
          0.040537544928105726,
          0.43264441775772655,
          0.17592637219995355,
          0.08212125616160186,
          -0.4162881629160797,
          -0.1865734933471423,
          -0.1269131419888885,
          0.06687141572713541,
          -0.39359937592821503,
          0.013311000542668226,
          -0.0859245464796642,
          -0.40758459544860376,
          0.3553537630679188,
          -0.5290625926655969,
          0.07460792014266962,
          -0.280081051523358,
          0.13121830341403015,
          -0.028347100156361934,
          -0.2649056005544257,
          -0.1838210831223849,
          0.6543250250489937,
          -0.32977321450005825,
          -0.360272895368991,
          -0.3657033263529717,
          -0.17660530496558863,
          -0.6324639497578323,
          -0.3191355209286988,
          -0.5224419302330725,
          0.4546636995557852,
          -0.5599342208621995,
          0.3610073624485016,
          0.07237623617665016,
          0.4868743381319996,
          -0.45668164270103206,
          -0.5507099271359858,
          -0.3050759119427761,
          -0.465459599634042,
          -0.24987892851656127,
          -0.20479891240296796,
          0.08703096088684467,
          -0.3951615547044287,
          -0.24043146639374544
         ],
         "y": [
          0.2842207558125956,
          -0.48659076414933644,
          0.008475664960479192,
          0.39266249926145996,
          -0.11806004221930581,
          -0.9524047723950785,
          -1.0049140285170437,
          -1.2333696559199956,
          -1.0913460367288692,
          -1.2333696559199956,
          1.9944379195689186,
          -0.5164956379553702,
          -0.8178521218994965,
          0.34735112044053207,
          -0.6637041945622283,
          0.5758208903087451,
          -1.2333696559199956,
          0.06302622396155806,
          -0.45246839122736937,
          0.7352739985428329,
          -1.2333696559199956,
          -1.2333696559199956,
          -0.7126874101319798,
          -0.164365166667316,
          -0.632274419522597,
          1.0911814968572044,
          -0.2394803923920219,
          -1.2333696559199956,
          -1.2333696559199956,
          1.337961791021444,
          -1.2333696559199956,
          1.0047674562116398,
          -0.7271226777671711,
          1.269823471457027,
          -0.26046256758871883,
          0.14363554373450027,
          0.06768510590544063,
          0.1517963446753125,
          0.11554720258692736,
          -0.18390922098302917,
          -0.7421407984198389,
          0.7020474018243826,
          -0.6733325202216413,
          -0.1255232826495651,
          0.13856852091183322,
          0.2924151890190008,
          -1.2333696559199956,
          -0.41489035180525563,
          -0.5668741697044416,
          0.41145304771186203,
          1.2884400688857727,
          -0.20583485604026378,
          -0.6989458648957938,
          -0.622350234010345,
          0.8327756278686739,
          -0.6113514423175631,
          0.380402595188041,
          0.413348944710794,
          2.2896598002055617,
          -1.2333696559199956,
          0.21020993042246502,
          -1.2333696559199956,
          1.1832976051546835,
          -0.21320123294350507,
          0.3923842687006437,
          -0.5717602808624771,
          -0.23415959883806056,
          -0.5982246844879825,
          0.3621266789486789,
          -0.35396169709801817,
          -1.2333696559199956,
          0.008164517714188683,
          -1.2333696559199956,
          0.17460305401725518,
          1.1928397359361254,
          0.044812368034335165,
          -0.4290812813561762,
          0.5714575429540113,
          -1.2333696559199956,
          -1.2333696559199956,
          0.428523731872607,
          0.6849434106617348,
          -0.503675434648771,
          0.05967386120950045,
          0.7182124868181587,
          -0.5653056180835848,
          -1.2333696559199956,
          0.7995284094322486,
          -0.17258301885943406,
          0.613752556415123,
          -1.2333696559199956,
          0.46071208689112053,
          0.08167847029077803,
          -0.6201199008848857,
          -1.2333696559199956,
          -0.3569106027684336,
          -1.2333696559199956,
          -1.2333696559199956,
          1.5059527458663207,
          7.003085017182588,
          -1.2333696559199956,
          0.7439171655365915,
          -0.7332524931931307,
          -1.2333696559199956,
          -1.2333696559199956,
          1.294484118781833,
          -1.2333696559199956,
          0.019001393141861268,
          -0.03860755528784055,
          -1.2200555468552396,
          -1.0368171402895747,
          0.6654573183356609,
          -0.5604103344894785,
          0.6372593633244039,
          -0.1229881774461482,
          0.043312121788474225,
          -1.2333696559199956,
          1.1624324598338127,
          0.9731155911241649,
          0.927268828268746,
          -0.5532573956199146,
          0.24994765569647082,
          -0.0019852706937639932,
          -0.3991819370328802,
          0.3073053053989261,
          -1.2333696559199956,
          0.0997261815249156,
          1.2387381506655888,
          -0.6015242504378052,
          0.11916888367468248,
          -0.523148126110798,
          0.6274066707713144,
          1.2790119755542049,
          -0.4033507116479831,
          -0.2508854384341836,
          0.3935136492866462,
          0.5165358580821218,
          -0.530704522062004,
          -0.8509073697058145,
          0.4907879192928582,
          -1.2333696559199956,
          -0.2662823806965782,
          0.24043427822526528,
          -0.8428300639543427,
          -0.8086509975711289,
          1.0897193715158648,
          -0.044881696718529415,
          -1.2333696559199956,
          -1.2333696559199956,
          -1.2333696559199956,
          -0.5421677252520194,
          -1.2333696559199956,
          1.7123482351707602,
          -0.009398940937597676,
          0.16719927178961122,
          0.045633268536308946,
          1.0798787137193222,
          1.8793689934797435,
          0.8179583705554105,
          -0.745880374584837,
          -1.2333696559199956,
          0.23882812612179172,
          0.6794772892908775,
          -1.2333696559199956,
          -0.4319387228768353,
          1.4040506891250335,
          -1.2333696559199956,
          -1.2333696559199956,
          0.5967102352481859,
          1.9490922579550165,
          -1.2333696559199956,
          -0.8213320725867723,
          -1.0695432472622461,
          -0.3704251790014192,
          -0.011951350169346835,
          1.0719639422339715,
          0.8573018762365834,
          -0.49934721577260627,
          0.137827179908545,
          0.9392476394608728,
          1.2499713924264517,
          -0.629772003320071,
          -0.3538541649219532,
          -1.2333696559199956,
          1.2904371879451748,
          1.3707691878956343,
          -1.2333696559199956,
          -1.2333696559199956,
          0.5750085117154613,
          1.1037144923251307,
          -0.7153307630915806,
          -0.3729014765296015,
          0.054006726877941336,
          1.8070697706815326,
          -1.2333696559199956,
          -0.42693076794035495,
          -0.04347597210111525,
          -0.27536998799697654,
          -0.7220583871595038,
          0.44680927591720615,
          3.180059590077345,
          -0.9792928384826772,
          -0.4125149510738529,
          0.28408759285772284,
          -0.5048955638044109,
          0.6013489508432601,
          0.8704284128868545,
          -1.2333696559199956,
          -0.21649504823128043,
          0.8141919471254021,
          1.3722930482854219,
          1.0997203843118029,
          1.0992597458733786,
          0.535970363586889,
          0.5588033542350209,
          -1.2088953372013225,
          -0.4742944955953243,
          -0.14494614371421427,
          0.04821111338865176,
          -0.2907660845737759,
          0.5440275355159216,
          0.7324360728436011,
          -0.2626239448118013,
          -0.06880223904207104,
          0.21762080339856088,
          -0.30782258723761696,
          2.88459681915155,
          1.4663140959124275,
          -1.2333696559199956,
          0.24141468804103883,
          0.020860535343771705,
          -0.757490076541034,
          -1.2333696559199956,
          -0.022706519357976747,
          0.04883926262766109,
          0.256842725512241,
          1.442321345049605,
          0.47560662685723626,
          -0.8404501420576425,
          0.5967585043798495,
          -0.43551649336637904,
          -1.2333696559199956,
          -1.2333696559199956,
          0.008459401775956412,
          -1.2333696559199956,
          -1.2333696559199956,
          0.050706796632785295,
          0.4936941503670858,
          2.2989058109232117,
          1.303623768272704,
          0.8527096733492443,
          0.9655961451281947,
          0.02483330605900573,
          -0.604178304572822,
          -1.2333696559199956,
          1.0218955819401194,
          -1.2333696559199956,
          3.3740425615848038,
          -0.7039026883801346,
          -0.6420707113517615,
          0.4604010046975681,
          0.4298262177946703,
          0.5659613672181558,
          0.05765664085402823,
          -0.20851359768938613,
          -0.35871093729510956,
          0.9549797334299135,
          0.05968049658878588,
          1.0824986476932101,
          3.7844723860119225,
          0.6478546979355437,
          0.26209553895489685,
          1.0412016733398946,
          0.9778043322748314,
          -0.10788969714611642,
          1.9457498482718867,
          -0.2937085500231204,
          -1.2333696559199956,
          -0.47531179031359555,
          0.8128502344022696,
          -1.0624873996042834,
          -0.19294205387795457,
          0.6744595764436835,
          -0.13962853774441938,
          -1.2333696559199956,
          0.27322183401433764,
          1.7025668404186187,
          -0.16565054371926136,
          0.8904161919290882,
          -0.17828931493932415,
          1.9657681370482851,
          2.7339015008357377,
          -0.4366428815264294,
          0.6055770535555023,
          -0.6184339941245123,
          -0.045697978476098765,
          -0.7102130641859402,
          -0.5933567815913388,
          -0.8478262768715975,
          -1.2333696559199956,
          0.0846675135005958,
          0.3526121955809258,
          -0.6544799114591002,
          0.23801366584088898,
          1.0017994900889637,
          1.0166169425604412,
          -1.2333696559199956,
          -0.40801772518412704,
          -1.2333696559199956,
          -0.09410326552064742,
          -1.2333696559199956,
          -0.013766907036736095,
          1.4965815086278438,
          -1.2333696559199956,
          0.16745083072781014,
          0.06620834369803064,
          -0.06640751764745519,
          -1.2333696559199956,
          -0.5086398693034683,
          -0.04083554651472849,
          0.08505282086831017,
          -1.2333696559199956,
          0.04630116499829199,
          -0.8512684124022211,
          1.7319972195530144,
          -0.3303297937733876,
          -1.2333696559199956,
          0.7981483806463803,
          -1.2333696559199956,
          -0.7063423612167715,
          -0.4232483926479603,
          -0.435176527757114,
          0.4929945081689143,
          1.1221075034930572,
          -0.44040618242500956,
          0.9641677171051866,
          -0.2724724739896532,
          0.7195320816103403,
          0.07972181403446861,
          -0.14840389190197958,
          -0.3856765982887036,
          -1.2333696559199956,
          -0.3099080479153469,
          0.3381522729579979,
          -1.0627768127307777,
          -1.2333696559199956,
          1.634276297447068,
          0.8378239155027709,
          2.307854010205881,
          -0.22170440644489137,
          -0.286321486349166,
          0.16621112069800478,
          -0.29649098573676025,
          0.7652964876993358,
          0.7762916364387843,
          -1.2333696559199956,
          0.09327034779673789,
          1.1044631192350851,
          0.6121793860498618,
          -0.9929741578939383,
          -0.7576640730996067,
          1.295839102263536,
          -1.2333696559199956,
          1.5824244512857053,
          0.671741412835278,
          1.1727854079428244,
          -1.1152262073231514,
          0.02571555129299958,
          -0.025333674185792795,
          -0.2073911126936212,
          2.1621812186398817,
          0.19769521477394236,
          -1.2333696559199956,
          0.8427816497254447,
          0.9592191553185837,
          0.1367579080525389,
          0.6735726474125473,
          0.522123888284162,
          1.1123475110917473,
          1.5744099539528607,
          -0.4503878745577342,
          -1.1679724928542627,
          -1.2333696559199956,
          1.0470769113806078,
          -1.2333696559199956,
          0.06018250856863611,
          -0.8367066171914422,
          -0.5188969947292715,
          -0.21771660854715844,
          2.261286853328839,
          -1.2333696559199956,
          1.1638457305688454,
          -1.2333696559199956,
          0.0018089302554095195,
          0.15630176721003772,
          -0.24974473867175317,
          -0.12254386724498482,
          -0.08242070449778839,
          -0.5991775379639006,
          -0.8301350741580215,
          -0.6995351581343412,
          -0.018565977631205453,
          -0.5212044153493689,
          -1.2333696559199956,
          -1.2333696559199956,
          3.11412662338696,
          0.6319418224073472,
          -0.33814848236457756,
          2.0750642831592407,
          -0.29482700174912363,
          0.8227693458009505,
          -0.6851905284791325,
          0.3754336068416771,
          2.04321153521654,
          -0.41178597009080214,
          1.0434060504228555,
          0.04714990807216892,
          2.2489181160245932,
          -0.6715046033340146,
          -0.2071214040414949,
          0.20003620260689495,
          -0.1776450976740063,
          -1.2333696559199956,
          -0.4375139376894715,
          0.2748810691520934,
          -0.4991400878545238,
          -0.19252584645964657,
          -1.2333696559199956,
          0.36984681264166064,
          0.15904712286296543,
          -1.2333696559199956,
          0.9690983893888147,
          -0.18845061768191892,
          -0.12354606972801896,
          0.34861503008890765,
          -1.1435022906728558,
          -0.10487983706010943,
          0.47666952354490943,
          -1.2164339841634675,
          0.4901600953175395,
          -0.9757350521942751,
          0.08471031820225972,
          -0.1901413383449111,
          -1.0202361341095383,
          0.028809979938525198,
          -0.13217199774618352,
          -0.16623152972315458,
          -0.7646899834874998,
          -0.837124776191893,
          -0.19051740822381674,
          -1.2333696559199956,
          -1.2333696559199956,
          -0.5839246875163783,
          -0.5773756332145156,
          -0.16954733283640477,
          0.19114284278243718,
          1.1531804642642578,
          -1.2333696559199956,
          -1.2333696559199956,
          -1.2333696559199956,
          0.10844389895652692,
          -1.2333696559199956,
          -0.36914942975471116,
          0.6965301490013854,
          -1.2333696559199956,
          0.1468505801564473,
          -1.011195006990506,
          -0.05012494740868604,
          0.2541044606077652,
          1.08373582066623,
          -1.2333696559199956,
          2.6474431592755328,
          -1.2333696559199956,
          -1.2333696559199956,
          1.776323895077455,
          -1.2333696559199956,
          0.4723723348248145,
          -0.776668436889567,
          1.2024832839362518,
          -0.7260962756655672,
          0.0569325388263343,
          0.2217454722572379,
          0.11973998166238596,
          -1.2333696559199956,
          1.1683436069859523,
          0.5303125968496151,
          2.7698758601584252,
          0.32087101308405136,
          1.1030549876663616,
          0.5035243997255342,
          1.178782880078411,
          0.43542732359706704,
          1.3687398677308769,
          -0.3570715432424713,
          0.03787657520451991,
          -0.499637025720803,
          0.9728466631048956,
          0.8529913517051793,
          0.12655015765494673,
          0.12964016271428216,
          -0.4722009683780709,
          -0.0643200403348444,
          -0.7163086358505686,
          -0.2699821901227812,
          -0.7894679664360009
         ],
         "z": [
          7.92,
          1.7,
          0.26,
          3.29,
          5.44,
          1.28,
          7.43,
          3.39,
          6.19,
          0.03,
          -1.72,
          5.75,
          12.07,
          11.01,
          2.1,
          13.66,
          1.79,
          8.28,
          5.66,
          1.57,
          1.77,
          2.84,
          2.37,
          38.35,
          14.13,
          1.65,
          4.68,
          22.27,
          22.27,
          5.31,
          6.16,
          2.68,
          3.91,
          1.24,
          2.9,
          -0.76,
          1.97,
          2.63,
          9.44,
          1.64,
          2.94,
          2.57,
          2.05,
          -5.9,
          2.11,
          6.13,
          2.99,
          14.36,
          4.66,
          -3.72,
          1.95,
          9.2,
          3.17,
          5.05,
          2.17,
          -0.21,
          2.54,
          9.08,
          4.76,
          -2.61,
          3.85,
          44.09,
          6.36,
          3.11,
          -0.31,
          0.85,
          1.55,
          1.29,
          2.74,
          4.65,
          9.76,
          3.81,
          11.94,
          30.3,
          1.92,
          13.47,
          0.55,
          2.93,
          0.07,
          -24.62,
          2.65,
          4.01,
          1.7,
          3.57,
          1.85,
          -0.92,
          0.74,
          2.89,
          3.45,
          4.04,
          3.97,
          3.58,
          1.26,
          2.27,
          1.69,
          2.81,
          3.58,
          3.23,
          1,
          1.16,
          1.84,
          -1.2,
          1.61,
          34.08,
          -6.44,
          4.85,
          0.8,
          8.2,
          2.92,
          7.2,
          -4.64,
          3.55,
          4.38,
          1.91,
          -3.1,
          3.27,
          -0.24,
          11.94,
          1.99,
          1.49,
          2.54,
          2.28,
          4.74,
          4.13,
          1.46,
          -11.04,
          -0.65,
          4.1,
          8.71,
          -0.78,
          6.09,
          -0.63,
          1.02,
          1.83,
          6.07,
          8.23,
          4.91,
          2.73,
          3.53,
          3.81,
          4.3,
          6.64,
          4.94,
          1.99,
          -6.89,
          2.19,
          5.41,
          1.96,
          1.96,
          3.06,
          4.43,
          3.77,
          4.91,
          5.15,
          1.59,
          4.54,
          4.82,
          3.12,
          0.88,
          -0.89,
          2.15,
          10.12,
          6.68,
          -1.07,
          4.14,
          3.96,
          2.88,
          3.07,
          2.35,
          -3.26,
          -0.48,
          -1.98,
          -2.69,
          4.04,
          1.77,
          1.63,
          6.27,
          3.35,
          23.71,
          2.96,
          1.23,
          1.81,
          2.36,
          5.39,
          2.92,
          1.88,
          6.51,
          5.39,
          2.01,
          3.5,
          11.07,
          1.72,
          2.85,
          -14.49,
          4.14,
          1.21,
          1.12,
          1.99,
          1.56,
          4.91,
          1.9,
          2.46,
          3.04,
          3,
          1.24,
          1.69,
          2.69,
          2.31,
          9.55,
          -0.72,
          1.34,
          2.77,
          6,
          4.6,
          9.95,
          1.58,
          8.61,
          4.74,
          10.02,
          -0.53,
          1.41,
          2.98,
          4.43,
          2.27,
          4.34,
          5.94,
          1.33,
          -1.2,
          3.1,
          -19.94,
          0.21,
          1.05,
          2.64,
          6.46,
          2.08,
          1.57,
          1.02,
          1.49,
          4.06,
          1,
          12.15,
          2.94,
          1,
          4.86,
          4.92,
          0.54,
          5.07,
          1.98,
          2.37,
          6.11,
          5.14,
          1.49,
          5.05,
          3.72,
          5.67,
          2.74,
          0.76,
          0.46,
          6.19,
          2.43,
          5.1,
          0.39,
          1.71,
          6.3,
          0.78,
          9.16,
          1.95,
          1.12,
          6.41,
          0.8,
          0.01,
          5.88,
          3.12,
          2.81,
          2.05,
          3.98,
          8.51,
          7.02,
          9.22,
          2.76,
          3.38,
          0.33,
          -0.2,
          9.24,
          1.5,
          6.83,
          1.93,
          3.46,
          12.25,
          8.69,
          3.43,
          1.98,
          -2.65,
          6.85,
          2.67,
          2.87,
          6.63,
          1.47,
          3.65,
          -3.06,
          3.73,
          6.36,
          22.74,
          2.89,
          1.4,
          0.63,
          14.24,
          1.92,
          3.31,
          0.66,
          4.36,
          2.97,
          2.86,
          12.48,
          9.27,
          1.91,
          5.09,
          1.19,
          1.35,
          3.09,
          -1.08,
          0.93,
          4.32,
          -6.4,
          1.01,
          1.81,
          1.25,
          1.17,
          -6.5,
          -1.18,
          -1.28,
          -1.28,
          11.39,
          1.39,
          2.51,
          1.02,
          -2.32,
          2.02,
          18.73,
          4.92,
          11.47,
          2.78,
          -2.23,
          4.1,
          2.57,
          10.73,
          -0.75,
          4.79,
          1.66,
          2.2,
          4.75,
          7.07,
          7.24,
          1.79,
          2.26,
          1.47,
          3.63,
          0.97,
          4.36,
          2.64,
          -28.01,
          3.51,
          2.78,
          4.48,
          9.93,
          3.95,
          -3.39,
          10.4,
          -1.19,
          6.31,
          2.79,
          4.32,
          42.66,
          4.5,
          5.6,
          2.73,
          3.06,
          9.73,
          1.75,
          6.81,
          1.44,
          6.77,
          -0.13,
          1.65,
          1.28,
          5.5,
          -2.79,
          4.12,
          6.95,
          1.12,
          1.68,
          1.43,
          7.74,
          1,
          1.77,
          2.41,
          2.32,
          6.35,
          4.8,
          9.38,
          2.83,
          7.53,
          7.95,
          0.27,
          0.62,
          4.16,
          -1.08,
          5.18,
          2.58,
          2.46,
          5.45,
          18.61,
          7.03,
          6.25,
          5.41,
          0.88,
          9.2,
          2.53,
          5.82,
          8.05,
          1.97,
          5.23,
          2.08,
          2.68,
          4.48,
          -0.17,
          2.41,
          0.87,
          2.08,
          4.75,
          2.09,
          4.71,
          4.71,
          0,
          3.6,
          1.14,
          3.73,
          5.33,
          7.52,
          3.66,
          0.85,
          7.31,
          5.7,
          5.6,
          3.55,
          6.62,
          3.46,
          4.5,
          3.16,
          3.3,
          7.92,
          0.81,
          1.59,
          1.59,
          4.79,
          3.52,
          1.08,
          6.52,
          0.45,
          0.45,
          13.52,
          7.05,
          10.71,
          5.62,
          15.72,
          5.7,
          7.14,
          4.38,
          2.55,
          9.24,
          2.69,
          1.86,
          3.43,
          3.45,
          7.36,
          1.04,
          4.68,
          2.8,
          4.33,
          3.1,
          4.39,
          3.78,
          2.66,
          0.19,
          3.79,
          4.07,
          2.81,
          1.29,
          0.51,
          2.77,
          0.77,
          4.51,
          -0.57,
          3.07,
          5.53,
          7.27,
          2.21,
          0.59,
          2.32,
          -2.24,
          1.83,
          4.07,
          9.01,
          2.6,
          1.65
         ]
        }
       ],
       "layout": {
        "legend": {
         "tracegroupgap": 0
        },
        "margin": {
         "t": 60
        },
        "scene": {
         "domain": {
          "x": [
           0,
           1
          ],
          "y": [
           0,
           1
          ]
         },
         "xaxis": {
          "title": {
           "text": "Price"
          }
         },
         "yaxis": {
          "title": {
           "text": "Dividend Yield"
          }
         },
         "zaxis": {
          "title": {
           "text": "Earnings/Share"
          }
         }
        },
        "template": {
         "data": {
          "bar": [
           {
            "error_x": {
             "color": "#2a3f5f"
            },
            "error_y": {
             "color": "#2a3f5f"
            },
            "marker": {
             "line": {
              "color": "#E5ECF6",
              "width": 0.5
             },
             "pattern": {
              "fillmode": "overlay",
              "size": 10,
              "solidity": 0.2
             }
            },
            "type": "bar"
           }
          ],
          "barpolar": [
           {
            "marker": {
             "line": {
              "color": "#E5ECF6",
              "width": 0.5
             },
             "pattern": {
              "fillmode": "overlay",
              "size": 10,
              "solidity": 0.2
             }
            },
            "type": "barpolar"
           }
          ],
          "carpet": [
           {
            "aaxis": {
             "endlinecolor": "#2a3f5f",
             "gridcolor": "white",
             "linecolor": "white",
             "minorgridcolor": "white",
             "startlinecolor": "#2a3f5f"
            },
            "baxis": {
             "endlinecolor": "#2a3f5f",
             "gridcolor": "white",
             "linecolor": "white",
             "minorgridcolor": "white",
             "startlinecolor": "#2a3f5f"
            },
            "type": "carpet"
           }
          ],
          "choropleth": [
           {
            "colorbar": {
             "outlinewidth": 0,
             "ticks": ""
            },
            "type": "choropleth"
           }
          ],
          "contour": [
           {
            "colorbar": {
             "outlinewidth": 0,
             "ticks": ""
            },
            "colorscale": [
             [
              0,
              "#0d0887"
             ],
             [
              0.1111111111111111,
              "#46039f"
             ],
             [
              0.2222222222222222,
              "#7201a8"
             ],
             [
              0.3333333333333333,
              "#9c179e"
             ],
             [
              0.4444444444444444,
              "#bd3786"
             ],
             [
              0.5555555555555556,
              "#d8576b"
             ],
             [
              0.6666666666666666,
              "#ed7953"
             ],
             [
              0.7777777777777778,
              "#fb9f3a"
             ],
             [
              0.8888888888888888,
              "#fdca26"
             ],
             [
              1,
              "#f0f921"
             ]
            ],
            "type": "contour"
           }
          ],
          "contourcarpet": [
           {
            "colorbar": {
             "outlinewidth": 0,
             "ticks": ""
            },
            "type": "contourcarpet"
           }
          ],
          "heatmap": [
           {
            "colorbar": {
             "outlinewidth": 0,
             "ticks": ""
            },
            "colorscale": [
             [
              0,
              "#0d0887"
             ],
             [
              0.1111111111111111,
              "#46039f"
             ],
             [
              0.2222222222222222,
              "#7201a8"
             ],
             [
              0.3333333333333333,
              "#9c179e"
             ],
             [
              0.4444444444444444,
              "#bd3786"
             ],
             [
              0.5555555555555556,
              "#d8576b"
             ],
             [
              0.6666666666666666,
              "#ed7953"
             ],
             [
              0.7777777777777778,
              "#fb9f3a"
             ],
             [
              0.8888888888888888,
              "#fdca26"
             ],
             [
              1,
              "#f0f921"
             ]
            ],
            "type": "heatmap"
           }
          ],
          "heatmapgl": [
           {
            "colorbar": {
             "outlinewidth": 0,
             "ticks": ""
            },
            "colorscale": [
             [
              0,
              "#0d0887"
             ],
             [
              0.1111111111111111,
              "#46039f"
             ],
             [
              0.2222222222222222,
              "#7201a8"
             ],
             [
              0.3333333333333333,
              "#9c179e"
             ],
             [
              0.4444444444444444,
              "#bd3786"
             ],
             [
              0.5555555555555556,
              "#d8576b"
             ],
             [
              0.6666666666666666,
              "#ed7953"
             ],
             [
              0.7777777777777778,
              "#fb9f3a"
             ],
             [
              0.8888888888888888,
              "#fdca26"
             ],
             [
              1,
              "#f0f921"
             ]
            ],
            "type": "heatmapgl"
           }
          ],
          "histogram": [
           {
            "marker": {
             "pattern": {
              "fillmode": "overlay",
              "size": 10,
              "solidity": 0.2
             }
            },
            "type": "histogram"
           }
          ],
          "histogram2d": [
           {
            "colorbar": {
             "outlinewidth": 0,
             "ticks": ""
            },
            "colorscale": [
             [
              0,
              "#0d0887"
             ],
             [
              0.1111111111111111,
              "#46039f"
             ],
             [
              0.2222222222222222,
              "#7201a8"
             ],
             [
              0.3333333333333333,
              "#9c179e"
             ],
             [
              0.4444444444444444,
              "#bd3786"
             ],
             [
              0.5555555555555556,
              "#d8576b"
             ],
             [
              0.6666666666666666,
              "#ed7953"
             ],
             [
              0.7777777777777778,
              "#fb9f3a"
             ],
             [
              0.8888888888888888,
              "#fdca26"
             ],
             [
              1,
              "#f0f921"
             ]
            ],
            "type": "histogram2d"
           }
          ],
          "histogram2dcontour": [
           {
            "colorbar": {
             "outlinewidth": 0,
             "ticks": ""
            },
            "colorscale": [
             [
              0,
              "#0d0887"
             ],
             [
              0.1111111111111111,
              "#46039f"
             ],
             [
              0.2222222222222222,
              "#7201a8"
             ],
             [
              0.3333333333333333,
              "#9c179e"
             ],
             [
              0.4444444444444444,
              "#bd3786"
             ],
             [
              0.5555555555555556,
              "#d8576b"
             ],
             [
              0.6666666666666666,
              "#ed7953"
             ],
             [
              0.7777777777777778,
              "#fb9f3a"
             ],
             [
              0.8888888888888888,
              "#fdca26"
             ],
             [
              1,
              "#f0f921"
             ]
            ],
            "type": "histogram2dcontour"
           }
          ],
          "mesh3d": [
           {
            "colorbar": {
             "outlinewidth": 0,
             "ticks": ""
            },
            "type": "mesh3d"
           }
          ],
          "parcoords": [
           {
            "line": {
             "colorbar": {
              "outlinewidth": 0,
              "ticks": ""
             }
            },
            "type": "parcoords"
           }
          ],
          "pie": [
           {
            "automargin": true,
            "type": "pie"
           }
          ],
          "scatter": [
           {
            "fillpattern": {
             "fillmode": "overlay",
             "size": 10,
             "solidity": 0.2
            },
            "type": "scatter"
           }
          ],
          "scatter3d": [
           {
            "line": {
             "colorbar": {
              "outlinewidth": 0,
              "ticks": ""
             }
            },
            "marker": {
             "colorbar": {
              "outlinewidth": 0,
              "ticks": ""
             }
            },
            "type": "scatter3d"
           }
          ],
          "scattercarpet": [
           {
            "marker": {
             "colorbar": {
              "outlinewidth": 0,
              "ticks": ""
             }
            },
            "type": "scattercarpet"
           }
          ],
          "scattergeo": [
           {
            "marker": {
             "colorbar": {
              "outlinewidth": 0,
              "ticks": ""
             }
            },
            "type": "scattergeo"
           }
          ],
          "scattergl": [
           {
            "marker": {
             "colorbar": {
              "outlinewidth": 0,
              "ticks": ""
             }
            },
            "type": "scattergl"
           }
          ],
          "scattermapbox": [
           {
            "marker": {
             "colorbar": {
              "outlinewidth": 0,
              "ticks": ""
             }
            },
            "type": "scattermapbox"
           }
          ],
          "scatterpolar": [
           {
            "marker": {
             "colorbar": {
              "outlinewidth": 0,
              "ticks": ""
             }
            },
            "type": "scatterpolar"
           }
          ],
          "scatterpolargl": [
           {
            "marker": {
             "colorbar": {
              "outlinewidth": 0,
              "ticks": ""
             }
            },
            "type": "scatterpolargl"
           }
          ],
          "scatterternary": [
           {
            "marker": {
             "colorbar": {
              "outlinewidth": 0,
              "ticks": ""
             }
            },
            "type": "scatterternary"
           }
          ],
          "surface": [
           {
            "colorbar": {
             "outlinewidth": 0,
             "ticks": ""
            },
            "colorscale": [
             [
              0,
              "#0d0887"
             ],
             [
              0.1111111111111111,
              "#46039f"
             ],
             [
              0.2222222222222222,
              "#7201a8"
             ],
             [
              0.3333333333333333,
              "#9c179e"
             ],
             [
              0.4444444444444444,
              "#bd3786"
             ],
             [
              0.5555555555555556,
              "#d8576b"
             ],
             [
              0.6666666666666666,
              "#ed7953"
             ],
             [
              0.7777777777777778,
              "#fb9f3a"
             ],
             [
              0.8888888888888888,
              "#fdca26"
             ],
             [
              1,
              "#f0f921"
             ]
            ],
            "type": "surface"
           }
          ],
          "table": [
           {
            "cells": {
             "fill": {
              "color": "#EBF0F8"
             },
             "line": {
              "color": "white"
             }
            },
            "header": {
             "fill": {
              "color": "#C8D4E3"
             },
             "line": {
              "color": "white"
             }
            },
            "type": "table"
           }
          ]
         },
         "layout": {
          "annotationdefaults": {
           "arrowcolor": "#2a3f5f",
           "arrowhead": 0,
           "arrowwidth": 1
          },
          "autotypenumbers": "strict",
          "coloraxis": {
           "colorbar": {
            "outlinewidth": 0,
            "ticks": ""
           }
          },
          "colorscale": {
           "diverging": [
            [
             0,
             "#8e0152"
            ],
            [
             0.1,
             "#c51b7d"
            ],
            [
             0.2,
             "#de77ae"
            ],
            [
             0.3,
             "#f1b6da"
            ],
            [
             0.4,
             "#fde0ef"
            ],
            [
             0.5,
             "#f7f7f7"
            ],
            [
             0.6,
             "#e6f5d0"
            ],
            [
             0.7,
             "#b8e186"
            ],
            [
             0.8,
             "#7fbc41"
            ],
            [
             0.9,
             "#4d9221"
            ],
            [
             1,
             "#276419"
            ]
           ],
           "sequential": [
            [
             0,
             "#0d0887"
            ],
            [
             0.1111111111111111,
             "#46039f"
            ],
            [
             0.2222222222222222,
             "#7201a8"
            ],
            [
             0.3333333333333333,
             "#9c179e"
            ],
            [
             0.4444444444444444,
             "#bd3786"
            ],
            [
             0.5555555555555556,
             "#d8576b"
            ],
            [
             0.6666666666666666,
             "#ed7953"
            ],
            [
             0.7777777777777778,
             "#fb9f3a"
            ],
            [
             0.8888888888888888,
             "#fdca26"
            ],
            [
             1,
             "#f0f921"
            ]
           ],
           "sequentialminus": [
            [
             0,
             "#0d0887"
            ],
            [
             0.1111111111111111,
             "#46039f"
            ],
            [
             0.2222222222222222,
             "#7201a8"
            ],
            [
             0.3333333333333333,
             "#9c179e"
            ],
            [
             0.4444444444444444,
             "#bd3786"
            ],
            [
             0.5555555555555556,
             "#d8576b"
            ],
            [
             0.6666666666666666,
             "#ed7953"
            ],
            [
             0.7777777777777778,
             "#fb9f3a"
            ],
            [
             0.8888888888888888,
             "#fdca26"
            ],
            [
             1,
             "#f0f921"
            ]
           ]
          },
          "colorway": [
           "#636efa",
           "#EF553B",
           "#00cc96",
           "#ab63fa",
           "#FFA15A",
           "#19d3f3",
           "#FF6692",
           "#B6E880",
           "#FF97FF",
           "#FECB52"
          ],
          "font": {
           "color": "#2a3f5f"
          },
          "geo": {
           "bgcolor": "white",
           "lakecolor": "white",
           "landcolor": "#E5ECF6",
           "showlakes": true,
           "showland": true,
           "subunitcolor": "white"
          },
          "hoverlabel": {
           "align": "left"
          },
          "hovermode": "closest",
          "mapbox": {
           "style": "light"
          },
          "paper_bgcolor": "white",
          "plot_bgcolor": "#E5ECF6",
          "polar": {
           "angularaxis": {
            "gridcolor": "white",
            "linecolor": "white",
            "ticks": ""
           },
           "bgcolor": "#E5ECF6",
           "radialaxis": {
            "gridcolor": "white",
            "linecolor": "white",
            "ticks": ""
           }
          },
          "scene": {
           "xaxis": {
            "backgroundcolor": "#E5ECF6",
            "gridcolor": "white",
            "gridwidth": 2,
            "linecolor": "white",
            "showbackground": true,
            "ticks": "",
            "zerolinecolor": "white"
           },
           "yaxis": {
            "backgroundcolor": "#E5ECF6",
            "gridcolor": "white",
            "gridwidth": 2,
            "linecolor": "white",
            "showbackground": true,
            "ticks": "",
            "zerolinecolor": "white"
           },
           "zaxis": {
            "backgroundcolor": "#E5ECF6",
            "gridcolor": "white",
            "gridwidth": 2,
            "linecolor": "white",
            "showbackground": true,
            "ticks": "",
            "zerolinecolor": "white"
           }
          },
          "shapedefaults": {
           "line": {
            "color": "#2a3f5f"
           }
          },
          "ternary": {
           "aaxis": {
            "gridcolor": "white",
            "linecolor": "white",
            "ticks": ""
           },
           "baxis": {
            "gridcolor": "white",
            "linecolor": "white",
            "ticks": ""
           },
           "bgcolor": "#E5ECF6",
           "caxis": {
            "gridcolor": "white",
            "linecolor": "white",
            "ticks": ""
           }
          },
          "title": {
           "x": 0.05
          },
          "xaxis": {
           "automargin": true,
           "gridcolor": "white",
           "linecolor": "white",
           "ticks": "",
           "title": {
            "standoff": 15
           },
           "zerolinecolor": "white",
           "zerolinewidth": 2
          },
          "yaxis": {
           "automargin": true,
           "gridcolor": "white",
           "linecolor": "white",
           "ticks": "",
           "title": {
            "standoff": 15
           },
           "zerolinecolor": "white",
           "zerolinewidth": 2
          }
         }
        }
       }
      }
     },
     "metadata": {},
     "output_type": "display_data"
    }
   ],
   "source": [
    "fig = px.line_3d(df, x = 'Price', y = 'Dividend Yield', z= 'Earnings/Share',)\n",
    "fig.show()"
   ]
  },
  {
   "cell_type": "code",
   "execution_count": 40,
   "metadata": {},
   "outputs": [
    {
     "data": {
      "application/vnd.plotly.v1+json": {
       "config": {
        "plotlyServerURL": "https://plot.ly"
       },
       "data": [
        {
         "hovertemplate": "Price=%{x}<br>Dividend Yield=%{y}<br>Earnings/Share=%{z}<extra></extra>",
         "legendgroup": "",
         "marker": {
          "color": "#636efa",
          "symbol": "circle"
         },
         "mode": "markers",
         "name": "",
         "scene": "scene",
         "showlegend": false,
         "type": "scatter3d",
         "x": [
          0.8856762628596787,
          -0.32426839405054353,
          -0.3538010118675345,
          0.03458638768538717,
          0.34724531132471476,
          -0.28268468281704745,
          0.3093066839023838,
          0.6050048093999635,
          0.043141176221795065,
          -0.6889255540981248,
          -0.6975547321000668,
          0.5517419520776322,
          0.5599991827519043,
          -0.15309823385685026,
          -0.2884870611286981,
          0.3642804989319968,
          -0.3075307643053975,
          -0.2960003971476302,
          0.010037864059173021,
          0.07996396166111633,
          0.034511998219853145,
          0.8694593593732707,
          -0.1972111869185018,
          0.4490844896407365,
          1.0174200063203613,
          -0.4961080594340427,
          -0.10243900782820828,
          6.723910296897679,
          6.677863217732144,
          -0.2959260076820963,
          9.273906785937058,
          -0.38117633518404,
          -0.41085773193209896,
          -0.3009101018728731,
          -0.11523399590005322,
          -0.3388487292952041,
          0.2212295567101487,
          -0.20658425957578352,
          0.3620488149659773,
          -0.09135497746364495,
          -0.23641443525491046,
          0.5154398928970488,
          -0.14424588745830635,
          -0.3543217381262724,
          -0.15733843339228717,
          -0.051556613402964344,
          0.33482227058053976,
          0.9428073723897772,
          0.23967814416257646,
          -0.4917190809675378,
          -0.4881483866219065,
          0.38176202333248266,
          -0.43205872960928393,
          -0.10831577560539292,
          -0.46479009444423613,
          -0.5905082911966663,
          -0.29332237638840686,
          -0.13888984593985965,
          -0.5077872055228779,
          0.0072854538344156415,
          0.03287542997810554,
          4.573013290448115,
          0.38019984455626893,
          0.05162157529266905,
          -0.5678195042088017,
          -0.486437428914625,
          -0.5511562639291896,
          -0.30701003804665966,
          -0.39248353394520535,
          0.800500324823269,
          0.6515726148242363,
          -0.2606654010189886,
          1.5469986114567817,
          3.0168600609427383,
          -0.5850034707471515,
          1.6799325863660082,
          -0.3860116504437489,
          0.06144098474315478,
          -0.5849290812816176,
          -0.35997533750685506,
          -0.3060429749947179,
          0.9353684258363789,
          -0.301282049200543,
          -0.09938903974131502,
          -0.5294345399932668,
          -0.6012203742335597,
          -0.49848852233113017,
          -0.4389025604384103,
          -0.08949524082529539,
          -0.2767335255743289,
          -0.2937687131816108,
          -0.27576646252238707,
          0.31362127290335484,
          0.05444837498296046,
          -0.46054989490879916,
          -0.38705310296122464,
          -0.09529761913694601,
          -0.02581785832820651,
          -0.5800937660219088,
          -0.6518796002622016,
          -0.31697822642821327,
          -0.4937275965369552,
          -0.4086260479660795,
          1.8211981814150402,
          -0.75141270514667,
          0.06300316351936835,
          1.2064436382422106,
          0.2719631722043246,
          -0.4199332467272448,
          0.6355788797344303,
          -0.02708247924228422,
          -0.24913503386122138,
          0.3383929649261709,
          -0.4839825765520035,
          -0.23775344563452208,
          -0.45854137933938166,
          -0.1435763822685005,
          0.36606584610481224,
          -0.46166573689180884,
          -0.45177193797578924,
          -0.21327931147384196,
          -0.2594751695704449,
          -0.4882971655529746,
          -0.10898528079519869,
          -0.5083823212471497,
          0.26973148823830523,
          -0.37634101992433117,
          -0.21647805849180315,
          0.7803407796635597,
          -0.5607525049830733,
          0.5562797094752052,
          -0.6239091612214243,
          -0.00015349271898258967,
          -0.5428990332549176,
          -0.3969469018772443,
          0.4604660778674358,
          -0.24757285508500781,
          -0.4409854654733618,
          -0.08681722006607202,
          -0.09299154570539254,
          -0.23745588777238621,
          0.3706779929679192,
          -0.39129330249666167,
          -0.34948642286656356,
          -0.5124737418515188,
          -0.03623238350296407,
          -0.233810803961221,
          -0.6022618267510355,
          -0.6118580678049191,
          -0.4467878437850124,
          -0.06494671719908124,
          -0.016742343533060675,
          -0.22704136259762864,
          -0.056763875990343125,
          -0.2649799900199597,
          0.09744548606160224,
          -0.039728688383061234,
          -0.2195280265786965,
          -0.5899875649379284,
          -0.08860256723888757,
          -0.4117504055185068,
          -0.07632830542578055,
          -0.18166378862189947,
          -0.4672449468068575,
          0.17800927723490506,
          -0.3404109080714177,
          0.1484022699523801,
          0.09454429690577693,
          -0.2784444832816104,
          -0.2366376036515124,
          -0.5094981632301595,
          -0.02075937467189566,
          -0.4283392563325848,
          0.07564937266014538,
          2.2774287735349543,
          -0.36131434788646677,
          0.8513827192485129,
          0.20553337948247855,
          1.0208419217349247,
          -0.35499124331607823,
          -0.5047372374359848,
          0.14282306003733142,
          -0.32337572046413576,
          -0.22674380473549277,
          -0.19542583974568617,
          -0.2065098701102496,
          0.24860488002665426,
          0.5039839152048157,
          -0.38444947166753524,
          0.031833977460629784,
          1.0075262074043418,
          -0.08250263106510107,
          -0.541039296616568,
          -0.5444612120311312,
          0.21736130450238175,
          -0.4267770775563712,
          -0.4687327361175372,
          -0.36094240055879684,
          -0.170802926653938,
          -0.43109166655734216,
          -0.6948023218753094,
          -0.25806176972529926,
          -0.3079027116330675,
          -0.48971056539812025,
          -0.6447382115709394,
          -0.5405185703578301,
          -0.3176477316180191,
          0.07758349876402895,
          0.7604044029004526,
          -0.6648977567306485,
          -0.6115605099427832,
          -0.3707618100092825,
          -0.4692534623762751,
          -0.055945591869469326,
          -0.19051613502044334,
          -0.024106900620924885,
          1.0601939490024013,
          -0.5436429279102574,
          1.1513210442815298,
          -0.4197100783306429,
          -0.6268103503772496,
          -0.4187430152787011,
          0.34226121713393803,
          -0.3755971252689913,
          -0.054680970955391615,
          -0.05847483369762475,
          -0.603972784458317,
          -0.2898260715083097,
          -0.24534117111898834,
          -0.45251583263112904,
          -0.6605087782641437,
          -0.18724299853694815,
          -0.48375940815540164,
          0.5756953599795744,
          0.3138444412999568,
          -0.5327820659422959,
          -0.6329102865510362,
          -0.6242067190835602,
          1.179365872787841,
          -0.6600624414709397,
          0.9041248503121064,
          0.4868743381319996,
          -0.4470854016471484,
          0.3892009698858809,
          0.7863663263718124,
          -0.14811413966607342,
          -0.12073881634956798,
          -0.45437556926947864,
          -0.2739811153495715,
          0.325523587388792,
          -0.35543758010928217,
          -0.6136434149777348,
          0.25418408994170294,
          0.36390855160432684,
          2.06831998591893,
          -0.5349393604427815,
          -0.06397965414713941,
          -0.5338235184597718,
          0.08167491936839795,
          -0.3050759119427761,
          0.10815756909849568,
          0.1675947520601475,
          -0.5004970379005477,
          0.030123019753348163,
          -0.5889461124204527,
          -0.002236397753934103,
          -0.28156884083403766,
          -0.6230164876350165,
          0.05846540612179544,
          -0.6681708932141438,
          -0.6474162323301628,
          -0.03935674105539124,
          -0.3235244993952037,
          -0.23991074013500763,
          -0.5672987779500638,
          -0.4170320575714195,
          0.7063976509227814,
          0.45845756229801843,
          0.434429764930542,
          -0.4451512755432648,
          -0.3326744036558836,
          -0.5948972696631712,
          -0.2203463106995703,
          -0.22294994199325965,
          -0.48331307136219775,
          1.7144492983737758,
          -0.42982704564326446,
          -0.06561622238888701,
          0.014575621456745938,
          0.5543455833713216,
          -0.33825361357093225,
          -0.5938558171456955,
          -0.6557478524699687,
          -0.3052990803393781,
          0.2235356301417022,
          -0.18240768327723925,
          0.7780347062320063,
          -0.46962540970394495,
          0.42245306097957097,
          -0.6533673895728813,
          -0.018378911774808278,
          0.4101787991664638,
          0.34516240628976325,
          -0.18932590357189966,
          -0.3652569895597678,
          -0.4429939810427793,
          3.6984163441650844,
          -0.5231858248884123,
          -0.32583057282675715,
          -0.17801870481073429,
          -0.47483267229132375,
          -0.14000568792286933,
          -0.13717888823257804,
          1.1362199827781312,
          -0.21811462673355075,
          -0.4548962955282165,
          0.11343922115140838,
          -0.31125023758209663,
          0.35937079420675383,
          -0.3871274924267586,
          -0.03786895174471168,
          -0.48041188220637243,
          -0.21290736414617206,
          -0.5295833189243347,
          -0.6728574295427847,
          -0.3569253694199618,
          1.0880899985776447,
          -0.5647695361219084,
          -0.5761511243486077,
          -0.5000507011073437,
          -0.6559710208665707,
          -0.654483231555891,
          0.308414010315976,
          -0.5202102462670529,
          -0.3075307643053975,
          -0.6049398475102588,
          -0.5832181235743359,
          -0.42104908871025454,
          0.2459268592674308,
          -0.056763875990343125,
          1.637902538339308,
          -0.3557351379714181,
          -0.5938558171456955,
          -0.3232269415330678,
          0.8457291198679303,
          1.1038605652708489,
          -0.2630458639160761,
          -0.2077001015587933,
          -0.36771184192238926,
          -0.4239502778660798,
          -0.27412989428063944,
          0.060399532225679016,
          0.5257800286062723,
          -0.5277979717515192,
          -0.3122173006340384,
          -0.23440591968549296,
          -0.2764359677121929,
          -0.6343236863961819,
          0.047009428429562225,
          -0.23634004578937645,
          -0.14424588745830635,
          -0.5222187618364705,
          -0.4879252182253046,
          -0.025594689931604554,
          -0.08473431503112051,
          -0.21937924764762845,
          0.4859816645455918,
          0.33883930171937476,
          -0.018676469636944252,
          0.04812527041257189,
          -0.5527928321709372,
          0.29933849552083014,
          12.662793277803155,
          -0.3232269415330678,
          -0.1756382419136469,
          -0.39248353394520535,
          -0.33847678196753417,
          -0.00335223973694388,
          -0.4247685619869537,
          0.5702649289955939,
          -0.5591159367413258,
          0.2889983598116067,
          -0.20070749179859898,
          -0.3080514905641354,
          -0.5231114354228783,
          -0.055127307748595526,
          -0.6770232396126877,
          -0.1321947940418012,
          0.7060257035951115,
          -0.4185942363476331,
          0.15487415345383657,
          -0.35893388498937934,
          1.6275624026300846,
          -0.6392333911214246,
          -0.3058198065981159,
          -0.10839016507092683,
          -0.3836311875466615,
          0.5571723830616128,
          0.21929543060626525,
          1.157272201524248,
          -0.21402320612918174,
          0.13850847103636044,
          0.5168532927421945,
          0.0014830755227650129,
          0.4167250721334542,
          -0.5075640371262761,
          -0.27100553672821215,
          -0.12921921542044196,
          -0.4194869099340409,
          -0.4553426323214204,
          -0.003501018668011815,
          2.1113170969975714,
          -0.4050553536204483,
          0.3596683520688899,
          -0.035637267778692125,
          -0.09834758722383927,
          0.3934411694213178,
          -0.44954025400976977,
          -0.35856193766170935,
          0.36472683572520076,
          -0.37239837825103006,
          -0.03935674105539124,
          -0.24757285508500781,
          0.3286479449412192,
          -0.2829078512136494,
          -0.5820278921257922,
          -0.5121761839893829,
          -0.15778477018549109,
          -0.3483705808835538,
          -0.013692375446167426,
          -0.4089979952937494,
          -0.24340704501510477,
          -0.06368209628500353,
          -0.5559171897233646,
          -0.045903014022381755,
          -0.35923144285151526,
          -0.3759690725966613,
          0.17800927723490506,
          0.8877591678946302,
          -0.04597740348791567,
          -0.5928887540937537,
          0.23194163974704216,
          -0.018453301240342296,
          0.7059513141295775,
          -0.031322678777721165,
          -0.08041972603014956,
          -0.21923046871656052,
          -0.17340655794762744,
          -0.16857124268791857,
          -0.28186639869617364,
          1.3328313401844465,
          -0.4744607249636539,
          -0.5153005415418102,
          -0.5187968464219073,
          -0.22250360520005574,
          -0.38072999839083616,
          -0.5275004138893832,
          0.7830188004227833,
          -0.6746427767156002,
          -0.6834951231141442,
          0.15643633223005016,
          -0.3009844913384071,
          0.8378438365213282,
          0.040537544928105726,
          0.43264441775772655,
          0.17592637219995355,
          0.08212125616160186,
          -0.4162881629160797,
          -0.1865734933471423,
          -0.1269131419888885,
          0.06687141572713541,
          -0.39359937592821503,
          0.013311000542668226,
          -0.0859245464796642,
          -0.40758459544860376,
          0.3553537630679188,
          -0.5290625926655969,
          0.07460792014266962,
          -0.280081051523358,
          0.13121830341403015,
          -0.028347100156361934,
          -0.2649056005544257,
          -0.1838210831223849,
          0.6543250250489937,
          -0.32977321450005825,
          -0.360272895368991,
          -0.3657033263529717,
          -0.17660530496558863,
          -0.6324639497578323,
          -0.3191355209286988,
          -0.5224419302330725,
          0.4546636995557852,
          -0.5599342208621995,
          0.3610073624485016,
          0.07237623617665016,
          0.4868743381319996,
          -0.45668164270103206,
          -0.5507099271359858,
          -0.3050759119427761,
          -0.465459599634042,
          -0.24987892851656127,
          -0.20479891240296796,
          0.08703096088684467,
          -0.3951615547044287,
          -0.24043146639374544
         ],
         "y": [
          0.2842207558125956,
          -0.48659076414933644,
          0.008475664960479192,
          0.39266249926145996,
          -0.11806004221930581,
          -0.9524047723950785,
          -1.0049140285170437,
          -1.2333696559199956,
          -1.0913460367288692,
          -1.2333696559199956,
          1.9944379195689186,
          -0.5164956379553702,
          -0.8178521218994965,
          0.34735112044053207,
          -0.6637041945622283,
          0.5758208903087451,
          -1.2333696559199956,
          0.06302622396155806,
          -0.45246839122736937,
          0.7352739985428329,
          -1.2333696559199956,
          -1.2333696559199956,
          -0.7126874101319798,
          -0.164365166667316,
          -0.632274419522597,
          1.0911814968572044,
          -0.2394803923920219,
          -1.2333696559199956,
          -1.2333696559199956,
          1.337961791021444,
          -1.2333696559199956,
          1.0047674562116398,
          -0.7271226777671711,
          1.269823471457027,
          -0.26046256758871883,
          0.14363554373450027,
          0.06768510590544063,
          0.1517963446753125,
          0.11554720258692736,
          -0.18390922098302917,
          -0.7421407984198389,
          0.7020474018243826,
          -0.6733325202216413,
          -0.1255232826495651,
          0.13856852091183322,
          0.2924151890190008,
          -1.2333696559199956,
          -0.41489035180525563,
          -0.5668741697044416,
          0.41145304771186203,
          1.2884400688857727,
          -0.20583485604026378,
          -0.6989458648957938,
          -0.622350234010345,
          0.8327756278686739,
          -0.6113514423175631,
          0.380402595188041,
          0.413348944710794,
          2.2896598002055617,
          -1.2333696559199956,
          0.21020993042246502,
          -1.2333696559199956,
          1.1832976051546835,
          -0.21320123294350507,
          0.3923842687006437,
          -0.5717602808624771,
          -0.23415959883806056,
          -0.5982246844879825,
          0.3621266789486789,
          -0.35396169709801817,
          -1.2333696559199956,
          0.008164517714188683,
          -1.2333696559199956,
          0.17460305401725518,
          1.1928397359361254,
          0.044812368034335165,
          -0.4290812813561762,
          0.5714575429540113,
          -1.2333696559199956,
          -1.2333696559199956,
          0.428523731872607,
          0.6849434106617348,
          -0.503675434648771,
          0.05967386120950045,
          0.7182124868181587,
          -0.5653056180835848,
          -1.2333696559199956,
          0.7995284094322486,
          -0.17258301885943406,
          0.613752556415123,
          -1.2333696559199956,
          0.46071208689112053,
          0.08167847029077803,
          -0.6201199008848857,
          -1.2333696559199956,
          -0.3569106027684336,
          -1.2333696559199956,
          -1.2333696559199956,
          1.5059527458663207,
          7.003085017182588,
          -1.2333696559199956,
          0.7439171655365915,
          -0.7332524931931307,
          -1.2333696559199956,
          -1.2333696559199956,
          1.294484118781833,
          -1.2333696559199956,
          0.019001393141861268,
          -0.03860755528784055,
          -1.2200555468552396,
          -1.0368171402895747,
          0.6654573183356609,
          -0.5604103344894785,
          0.6372593633244039,
          -0.1229881774461482,
          0.043312121788474225,
          -1.2333696559199956,
          1.1624324598338127,
          0.9731155911241649,
          0.927268828268746,
          -0.5532573956199146,
          0.24994765569647082,
          -0.0019852706937639932,
          -0.3991819370328802,
          0.3073053053989261,
          -1.2333696559199956,
          0.0997261815249156,
          1.2387381506655888,
          -0.6015242504378052,
          0.11916888367468248,
          -0.523148126110798,
          0.6274066707713144,
          1.2790119755542049,
          -0.4033507116479831,
          -0.2508854384341836,
          0.3935136492866462,
          0.5165358580821218,
          -0.530704522062004,
          -0.8509073697058145,
          0.4907879192928582,
          -1.2333696559199956,
          -0.2662823806965782,
          0.24043427822526528,
          -0.8428300639543427,
          -0.8086509975711289,
          1.0897193715158648,
          -0.044881696718529415,
          -1.2333696559199956,
          -1.2333696559199956,
          -1.2333696559199956,
          -0.5421677252520194,
          -1.2333696559199956,
          1.7123482351707602,
          -0.009398940937597676,
          0.16719927178961122,
          0.045633268536308946,
          1.0798787137193222,
          1.8793689934797435,
          0.8179583705554105,
          -0.745880374584837,
          -1.2333696559199956,
          0.23882812612179172,
          0.6794772892908775,
          -1.2333696559199956,
          -0.4319387228768353,
          1.4040506891250335,
          -1.2333696559199956,
          -1.2333696559199956,
          0.5967102352481859,
          1.9490922579550165,
          -1.2333696559199956,
          -0.8213320725867723,
          -1.0695432472622461,
          -0.3704251790014192,
          -0.011951350169346835,
          1.0719639422339715,
          0.8573018762365834,
          -0.49934721577260627,
          0.137827179908545,
          0.9392476394608728,
          1.2499713924264517,
          -0.629772003320071,
          -0.3538541649219532,
          -1.2333696559199956,
          1.2904371879451748,
          1.3707691878956343,
          -1.2333696559199956,
          -1.2333696559199956,
          0.5750085117154613,
          1.1037144923251307,
          -0.7153307630915806,
          -0.3729014765296015,
          0.054006726877941336,
          1.8070697706815326,
          -1.2333696559199956,
          -0.42693076794035495,
          -0.04347597210111525,
          -0.27536998799697654,
          -0.7220583871595038,
          0.44680927591720615,
          3.180059590077345,
          -0.9792928384826772,
          -0.4125149510738529,
          0.28408759285772284,
          -0.5048955638044109,
          0.6013489508432601,
          0.8704284128868545,
          -1.2333696559199956,
          -0.21649504823128043,
          0.8141919471254021,
          1.3722930482854219,
          1.0997203843118029,
          1.0992597458733786,
          0.535970363586889,
          0.5588033542350209,
          -1.2088953372013225,
          -0.4742944955953243,
          -0.14494614371421427,
          0.04821111338865176,
          -0.2907660845737759,
          0.5440275355159216,
          0.7324360728436011,
          -0.2626239448118013,
          -0.06880223904207104,
          0.21762080339856088,
          -0.30782258723761696,
          2.88459681915155,
          1.4663140959124275,
          -1.2333696559199956,
          0.24141468804103883,
          0.020860535343771705,
          -0.757490076541034,
          -1.2333696559199956,
          -0.022706519357976747,
          0.04883926262766109,
          0.256842725512241,
          1.442321345049605,
          0.47560662685723626,
          -0.8404501420576425,
          0.5967585043798495,
          -0.43551649336637904,
          -1.2333696559199956,
          -1.2333696559199956,
          0.008459401775956412,
          -1.2333696559199956,
          -1.2333696559199956,
          0.050706796632785295,
          0.4936941503670858,
          2.2989058109232117,
          1.303623768272704,
          0.8527096733492443,
          0.9655961451281947,
          0.02483330605900573,
          -0.604178304572822,
          -1.2333696559199956,
          1.0218955819401194,
          -1.2333696559199956,
          3.3740425615848038,
          -0.7039026883801346,
          -0.6420707113517615,
          0.4604010046975681,
          0.4298262177946703,
          0.5659613672181558,
          0.05765664085402823,
          -0.20851359768938613,
          -0.35871093729510956,
          0.9549797334299135,
          0.05968049658878588,
          1.0824986476932101,
          3.7844723860119225,
          0.6478546979355437,
          0.26209553895489685,
          1.0412016733398946,
          0.9778043322748314,
          -0.10788969714611642,
          1.9457498482718867,
          -0.2937085500231204,
          -1.2333696559199956,
          -0.47531179031359555,
          0.8128502344022696,
          -1.0624873996042834,
          -0.19294205387795457,
          0.6744595764436835,
          -0.13962853774441938,
          -1.2333696559199956,
          0.27322183401433764,
          1.7025668404186187,
          -0.16565054371926136,
          0.8904161919290882,
          -0.17828931493932415,
          1.9657681370482851,
          2.7339015008357377,
          -0.4366428815264294,
          0.6055770535555023,
          -0.6184339941245123,
          -0.045697978476098765,
          -0.7102130641859402,
          -0.5933567815913388,
          -0.8478262768715975,
          -1.2333696559199956,
          0.0846675135005958,
          0.3526121955809258,
          -0.6544799114591002,
          0.23801366584088898,
          1.0017994900889637,
          1.0166169425604412,
          -1.2333696559199956,
          -0.40801772518412704,
          -1.2333696559199956,
          -0.09410326552064742,
          -1.2333696559199956,
          -0.013766907036736095,
          1.4965815086278438,
          -1.2333696559199956,
          0.16745083072781014,
          0.06620834369803064,
          -0.06640751764745519,
          -1.2333696559199956,
          -0.5086398693034683,
          -0.04083554651472849,
          0.08505282086831017,
          -1.2333696559199956,
          0.04630116499829199,
          -0.8512684124022211,
          1.7319972195530144,
          -0.3303297937733876,
          -1.2333696559199956,
          0.7981483806463803,
          -1.2333696559199956,
          -0.7063423612167715,
          -0.4232483926479603,
          -0.435176527757114,
          0.4929945081689143,
          1.1221075034930572,
          -0.44040618242500956,
          0.9641677171051866,
          -0.2724724739896532,
          0.7195320816103403,
          0.07972181403446861,
          -0.14840389190197958,
          -0.3856765982887036,
          -1.2333696559199956,
          -0.3099080479153469,
          0.3381522729579979,
          -1.0627768127307777,
          -1.2333696559199956,
          1.634276297447068,
          0.8378239155027709,
          2.307854010205881,
          -0.22170440644489137,
          -0.286321486349166,
          0.16621112069800478,
          -0.29649098573676025,
          0.7652964876993358,
          0.7762916364387843,
          -1.2333696559199956,
          0.09327034779673789,
          1.1044631192350851,
          0.6121793860498618,
          -0.9929741578939383,
          -0.7576640730996067,
          1.295839102263536,
          -1.2333696559199956,
          1.5824244512857053,
          0.671741412835278,
          1.1727854079428244,
          -1.1152262073231514,
          0.02571555129299958,
          -0.025333674185792795,
          -0.2073911126936212,
          2.1621812186398817,
          0.19769521477394236,
          -1.2333696559199956,
          0.8427816497254447,
          0.9592191553185837,
          0.1367579080525389,
          0.6735726474125473,
          0.522123888284162,
          1.1123475110917473,
          1.5744099539528607,
          -0.4503878745577342,
          -1.1679724928542627,
          -1.2333696559199956,
          1.0470769113806078,
          -1.2333696559199956,
          0.06018250856863611,
          -0.8367066171914422,
          -0.5188969947292715,
          -0.21771660854715844,
          2.261286853328839,
          -1.2333696559199956,
          1.1638457305688454,
          -1.2333696559199956,
          0.0018089302554095195,
          0.15630176721003772,
          -0.24974473867175317,
          -0.12254386724498482,
          -0.08242070449778839,
          -0.5991775379639006,
          -0.8301350741580215,
          -0.6995351581343412,
          -0.018565977631205453,
          -0.5212044153493689,
          -1.2333696559199956,
          -1.2333696559199956,
          3.11412662338696,
          0.6319418224073472,
          -0.33814848236457756,
          2.0750642831592407,
          -0.29482700174912363,
          0.8227693458009505,
          -0.6851905284791325,
          0.3754336068416771,
          2.04321153521654,
          -0.41178597009080214,
          1.0434060504228555,
          0.04714990807216892,
          2.2489181160245932,
          -0.6715046033340146,
          -0.2071214040414949,
          0.20003620260689495,
          -0.1776450976740063,
          -1.2333696559199956,
          -0.4375139376894715,
          0.2748810691520934,
          -0.4991400878545238,
          -0.19252584645964657,
          -1.2333696559199956,
          0.36984681264166064,
          0.15904712286296543,
          -1.2333696559199956,
          0.9690983893888147,
          -0.18845061768191892,
          -0.12354606972801896,
          0.34861503008890765,
          -1.1435022906728558,
          -0.10487983706010943,
          0.47666952354490943,
          -1.2164339841634675,
          0.4901600953175395,
          -0.9757350521942751,
          0.08471031820225972,
          -0.1901413383449111,
          -1.0202361341095383,
          0.028809979938525198,
          -0.13217199774618352,
          -0.16623152972315458,
          -0.7646899834874998,
          -0.837124776191893,
          -0.19051740822381674,
          -1.2333696559199956,
          -1.2333696559199956,
          -0.5839246875163783,
          -0.5773756332145156,
          -0.16954733283640477,
          0.19114284278243718,
          1.1531804642642578,
          -1.2333696559199956,
          -1.2333696559199956,
          -1.2333696559199956,
          0.10844389895652692,
          -1.2333696559199956,
          -0.36914942975471116,
          0.6965301490013854,
          -1.2333696559199956,
          0.1468505801564473,
          -1.011195006990506,
          -0.05012494740868604,
          0.2541044606077652,
          1.08373582066623,
          -1.2333696559199956,
          2.6474431592755328,
          -1.2333696559199956,
          -1.2333696559199956,
          1.776323895077455,
          -1.2333696559199956,
          0.4723723348248145,
          -0.776668436889567,
          1.2024832839362518,
          -0.7260962756655672,
          0.0569325388263343,
          0.2217454722572379,
          0.11973998166238596,
          -1.2333696559199956,
          1.1683436069859523,
          0.5303125968496151,
          2.7698758601584252,
          0.32087101308405136,
          1.1030549876663616,
          0.5035243997255342,
          1.178782880078411,
          0.43542732359706704,
          1.3687398677308769,
          -0.3570715432424713,
          0.03787657520451991,
          -0.499637025720803,
          0.9728466631048956,
          0.8529913517051793,
          0.12655015765494673,
          0.12964016271428216,
          -0.4722009683780709,
          -0.0643200403348444,
          -0.7163086358505686,
          -0.2699821901227812,
          -0.7894679664360009
         ],
         "z": [
          7.92,
          1.7,
          0.26,
          3.29,
          5.44,
          1.28,
          7.43,
          3.39,
          6.19,
          0.03,
          -1.72,
          5.75,
          12.07,
          11.01,
          2.1,
          13.66,
          1.79,
          8.28,
          5.66,
          1.57,
          1.77,
          2.84,
          2.37,
          38.35,
          14.13,
          1.65,
          4.68,
          22.27,
          22.27,
          5.31,
          6.16,
          2.68,
          3.91,
          1.24,
          2.9,
          -0.76,
          1.97,
          2.63,
          9.44,
          1.64,
          2.94,
          2.57,
          2.05,
          -5.9,
          2.11,
          6.13,
          2.99,
          14.36,
          4.66,
          -3.72,
          1.95,
          9.2,
          3.17,
          5.05,
          2.17,
          -0.21,
          2.54,
          9.08,
          4.76,
          -2.61,
          3.85,
          44.09,
          6.36,
          3.11,
          -0.31,
          0.85,
          1.55,
          1.29,
          2.74,
          4.65,
          9.76,
          3.81,
          11.94,
          30.3,
          1.92,
          13.47,
          0.55,
          2.93,
          0.07,
          -24.62,
          2.65,
          4.01,
          1.7,
          3.57,
          1.85,
          -0.92,
          0.74,
          2.89,
          3.45,
          4.04,
          3.97,
          3.58,
          1.26,
          2.27,
          1.69,
          2.81,
          3.58,
          3.23,
          1,
          1.16,
          1.84,
          -1.2,
          1.61,
          34.08,
          -6.44,
          4.85,
          0.8,
          8.2,
          2.92,
          7.2,
          -4.64,
          3.55,
          4.38,
          1.91,
          -3.1,
          3.27,
          -0.24,
          11.94,
          1.99,
          1.49,
          2.54,
          2.28,
          4.74,
          4.13,
          1.46,
          -11.04,
          -0.65,
          4.1,
          8.71,
          -0.78,
          6.09,
          -0.63,
          1.02,
          1.83,
          6.07,
          8.23,
          4.91,
          2.73,
          3.53,
          3.81,
          4.3,
          6.64,
          4.94,
          1.99,
          -6.89,
          2.19,
          5.41,
          1.96,
          1.96,
          3.06,
          4.43,
          3.77,
          4.91,
          5.15,
          1.59,
          4.54,
          4.82,
          3.12,
          0.88,
          -0.89,
          2.15,
          10.12,
          6.68,
          -1.07,
          4.14,
          3.96,
          2.88,
          3.07,
          2.35,
          -3.26,
          -0.48,
          -1.98,
          -2.69,
          4.04,
          1.77,
          1.63,
          6.27,
          3.35,
          23.71,
          2.96,
          1.23,
          1.81,
          2.36,
          5.39,
          2.92,
          1.88,
          6.51,
          5.39,
          2.01,
          3.5,
          11.07,
          1.72,
          2.85,
          -14.49,
          4.14,
          1.21,
          1.12,
          1.99,
          1.56,
          4.91,
          1.9,
          2.46,
          3.04,
          3,
          1.24,
          1.69,
          2.69,
          2.31,
          9.55,
          -0.72,
          1.34,
          2.77,
          6,
          4.6,
          9.95,
          1.58,
          8.61,
          4.74,
          10.02,
          -0.53,
          1.41,
          2.98,
          4.43,
          2.27,
          4.34,
          5.94,
          1.33,
          -1.2,
          3.1,
          -19.94,
          0.21,
          1.05,
          2.64,
          6.46,
          2.08,
          1.57,
          1.02,
          1.49,
          4.06,
          1,
          12.15,
          2.94,
          1,
          4.86,
          4.92,
          0.54,
          5.07,
          1.98,
          2.37,
          6.11,
          5.14,
          1.49,
          5.05,
          3.72,
          5.67,
          2.74,
          0.76,
          0.46,
          6.19,
          2.43,
          5.1,
          0.39,
          1.71,
          6.3,
          0.78,
          9.16,
          1.95,
          1.12,
          6.41,
          0.8,
          0.01,
          5.88,
          3.12,
          2.81,
          2.05,
          3.98,
          8.51,
          7.02,
          9.22,
          2.76,
          3.38,
          0.33,
          -0.2,
          9.24,
          1.5,
          6.83,
          1.93,
          3.46,
          12.25,
          8.69,
          3.43,
          1.98,
          -2.65,
          6.85,
          2.67,
          2.87,
          6.63,
          1.47,
          3.65,
          -3.06,
          3.73,
          6.36,
          22.74,
          2.89,
          1.4,
          0.63,
          14.24,
          1.92,
          3.31,
          0.66,
          4.36,
          2.97,
          2.86,
          12.48,
          9.27,
          1.91,
          5.09,
          1.19,
          1.35,
          3.09,
          -1.08,
          0.93,
          4.32,
          -6.4,
          1.01,
          1.81,
          1.25,
          1.17,
          -6.5,
          -1.18,
          -1.28,
          -1.28,
          11.39,
          1.39,
          2.51,
          1.02,
          -2.32,
          2.02,
          18.73,
          4.92,
          11.47,
          2.78,
          -2.23,
          4.1,
          2.57,
          10.73,
          -0.75,
          4.79,
          1.66,
          2.2,
          4.75,
          7.07,
          7.24,
          1.79,
          2.26,
          1.47,
          3.63,
          0.97,
          4.36,
          2.64,
          -28.01,
          3.51,
          2.78,
          4.48,
          9.93,
          3.95,
          -3.39,
          10.4,
          -1.19,
          6.31,
          2.79,
          4.32,
          42.66,
          4.5,
          5.6,
          2.73,
          3.06,
          9.73,
          1.75,
          6.81,
          1.44,
          6.77,
          -0.13,
          1.65,
          1.28,
          5.5,
          -2.79,
          4.12,
          6.95,
          1.12,
          1.68,
          1.43,
          7.74,
          1,
          1.77,
          2.41,
          2.32,
          6.35,
          4.8,
          9.38,
          2.83,
          7.53,
          7.95,
          0.27,
          0.62,
          4.16,
          -1.08,
          5.18,
          2.58,
          2.46,
          5.45,
          18.61,
          7.03,
          6.25,
          5.41,
          0.88,
          9.2,
          2.53,
          5.82,
          8.05,
          1.97,
          5.23,
          2.08,
          2.68,
          4.48,
          -0.17,
          2.41,
          0.87,
          2.08,
          4.75,
          2.09,
          4.71,
          4.71,
          0,
          3.6,
          1.14,
          3.73,
          5.33,
          7.52,
          3.66,
          0.85,
          7.31,
          5.7,
          5.6,
          3.55,
          6.62,
          3.46,
          4.5,
          3.16,
          3.3,
          7.92,
          0.81,
          1.59,
          1.59,
          4.79,
          3.52,
          1.08,
          6.52,
          0.45,
          0.45,
          13.52,
          7.05,
          10.71,
          5.62,
          15.72,
          5.7,
          7.14,
          4.38,
          2.55,
          9.24,
          2.69,
          1.86,
          3.43,
          3.45,
          7.36,
          1.04,
          4.68,
          2.8,
          4.33,
          3.1,
          4.39,
          3.78,
          2.66,
          0.19,
          3.79,
          4.07,
          2.81,
          1.29,
          0.51,
          2.77,
          0.77,
          4.51,
          -0.57,
          3.07,
          5.53,
          7.27,
          2.21,
          0.59,
          2.32,
          -2.24,
          1.83,
          4.07,
          9.01,
          2.6,
          1.65
         ]
        }
       ],
       "layout": {
        "legend": {
         "tracegroupgap": 0
        },
        "margin": {
         "t": 60
        },
        "scene": {
         "domain": {
          "x": [
           0,
           1
          ],
          "y": [
           0,
           1
          ]
         },
         "xaxis": {
          "title": {
           "text": "Price"
          }
         },
         "yaxis": {
          "title": {
           "text": "Dividend Yield"
          }
         },
         "zaxis": {
          "title": {
           "text": "Earnings/Share"
          }
         }
        },
        "template": {
         "data": {
          "bar": [
           {
            "error_x": {
             "color": "#2a3f5f"
            },
            "error_y": {
             "color": "#2a3f5f"
            },
            "marker": {
             "line": {
              "color": "#E5ECF6",
              "width": 0.5
             },
             "pattern": {
              "fillmode": "overlay",
              "size": 10,
              "solidity": 0.2
             }
            },
            "type": "bar"
           }
          ],
          "barpolar": [
           {
            "marker": {
             "line": {
              "color": "#E5ECF6",
              "width": 0.5
             },
             "pattern": {
              "fillmode": "overlay",
              "size": 10,
              "solidity": 0.2
             }
            },
            "type": "barpolar"
           }
          ],
          "carpet": [
           {
            "aaxis": {
             "endlinecolor": "#2a3f5f",
             "gridcolor": "white",
             "linecolor": "white",
             "minorgridcolor": "white",
             "startlinecolor": "#2a3f5f"
            },
            "baxis": {
             "endlinecolor": "#2a3f5f",
             "gridcolor": "white",
             "linecolor": "white",
             "minorgridcolor": "white",
             "startlinecolor": "#2a3f5f"
            },
            "type": "carpet"
           }
          ],
          "choropleth": [
           {
            "colorbar": {
             "outlinewidth": 0,
             "ticks": ""
            },
            "type": "choropleth"
           }
          ],
          "contour": [
           {
            "colorbar": {
             "outlinewidth": 0,
             "ticks": ""
            },
            "colorscale": [
             [
              0,
              "#0d0887"
             ],
             [
              0.1111111111111111,
              "#46039f"
             ],
             [
              0.2222222222222222,
              "#7201a8"
             ],
             [
              0.3333333333333333,
              "#9c179e"
             ],
             [
              0.4444444444444444,
              "#bd3786"
             ],
             [
              0.5555555555555556,
              "#d8576b"
             ],
             [
              0.6666666666666666,
              "#ed7953"
             ],
             [
              0.7777777777777778,
              "#fb9f3a"
             ],
             [
              0.8888888888888888,
              "#fdca26"
             ],
             [
              1,
              "#f0f921"
             ]
            ],
            "type": "contour"
           }
          ],
          "contourcarpet": [
           {
            "colorbar": {
             "outlinewidth": 0,
             "ticks": ""
            },
            "type": "contourcarpet"
           }
          ],
          "heatmap": [
           {
            "colorbar": {
             "outlinewidth": 0,
             "ticks": ""
            },
            "colorscale": [
             [
              0,
              "#0d0887"
             ],
             [
              0.1111111111111111,
              "#46039f"
             ],
             [
              0.2222222222222222,
              "#7201a8"
             ],
             [
              0.3333333333333333,
              "#9c179e"
             ],
             [
              0.4444444444444444,
              "#bd3786"
             ],
             [
              0.5555555555555556,
              "#d8576b"
             ],
             [
              0.6666666666666666,
              "#ed7953"
             ],
             [
              0.7777777777777778,
              "#fb9f3a"
             ],
             [
              0.8888888888888888,
              "#fdca26"
             ],
             [
              1,
              "#f0f921"
             ]
            ],
            "type": "heatmap"
           }
          ],
          "heatmapgl": [
           {
            "colorbar": {
             "outlinewidth": 0,
             "ticks": ""
            },
            "colorscale": [
             [
              0,
              "#0d0887"
             ],
             [
              0.1111111111111111,
              "#46039f"
             ],
             [
              0.2222222222222222,
              "#7201a8"
             ],
             [
              0.3333333333333333,
              "#9c179e"
             ],
             [
              0.4444444444444444,
              "#bd3786"
             ],
             [
              0.5555555555555556,
              "#d8576b"
             ],
             [
              0.6666666666666666,
              "#ed7953"
             ],
             [
              0.7777777777777778,
              "#fb9f3a"
             ],
             [
              0.8888888888888888,
              "#fdca26"
             ],
             [
              1,
              "#f0f921"
             ]
            ],
            "type": "heatmapgl"
           }
          ],
          "histogram": [
           {
            "marker": {
             "pattern": {
              "fillmode": "overlay",
              "size": 10,
              "solidity": 0.2
             }
            },
            "type": "histogram"
           }
          ],
          "histogram2d": [
           {
            "colorbar": {
             "outlinewidth": 0,
             "ticks": ""
            },
            "colorscale": [
             [
              0,
              "#0d0887"
             ],
             [
              0.1111111111111111,
              "#46039f"
             ],
             [
              0.2222222222222222,
              "#7201a8"
             ],
             [
              0.3333333333333333,
              "#9c179e"
             ],
             [
              0.4444444444444444,
              "#bd3786"
             ],
             [
              0.5555555555555556,
              "#d8576b"
             ],
             [
              0.6666666666666666,
              "#ed7953"
             ],
             [
              0.7777777777777778,
              "#fb9f3a"
             ],
             [
              0.8888888888888888,
              "#fdca26"
             ],
             [
              1,
              "#f0f921"
             ]
            ],
            "type": "histogram2d"
           }
          ],
          "histogram2dcontour": [
           {
            "colorbar": {
             "outlinewidth": 0,
             "ticks": ""
            },
            "colorscale": [
             [
              0,
              "#0d0887"
             ],
             [
              0.1111111111111111,
              "#46039f"
             ],
             [
              0.2222222222222222,
              "#7201a8"
             ],
             [
              0.3333333333333333,
              "#9c179e"
             ],
             [
              0.4444444444444444,
              "#bd3786"
             ],
             [
              0.5555555555555556,
              "#d8576b"
             ],
             [
              0.6666666666666666,
              "#ed7953"
             ],
             [
              0.7777777777777778,
              "#fb9f3a"
             ],
             [
              0.8888888888888888,
              "#fdca26"
             ],
             [
              1,
              "#f0f921"
             ]
            ],
            "type": "histogram2dcontour"
           }
          ],
          "mesh3d": [
           {
            "colorbar": {
             "outlinewidth": 0,
             "ticks": ""
            },
            "type": "mesh3d"
           }
          ],
          "parcoords": [
           {
            "line": {
             "colorbar": {
              "outlinewidth": 0,
              "ticks": ""
             }
            },
            "type": "parcoords"
           }
          ],
          "pie": [
           {
            "automargin": true,
            "type": "pie"
           }
          ],
          "scatter": [
           {
            "fillpattern": {
             "fillmode": "overlay",
             "size": 10,
             "solidity": 0.2
            },
            "type": "scatter"
           }
          ],
          "scatter3d": [
           {
            "line": {
             "colorbar": {
              "outlinewidth": 0,
              "ticks": ""
             }
            },
            "marker": {
             "colorbar": {
              "outlinewidth": 0,
              "ticks": ""
             }
            },
            "type": "scatter3d"
           }
          ],
          "scattercarpet": [
           {
            "marker": {
             "colorbar": {
              "outlinewidth": 0,
              "ticks": ""
             }
            },
            "type": "scattercarpet"
           }
          ],
          "scattergeo": [
           {
            "marker": {
             "colorbar": {
              "outlinewidth": 0,
              "ticks": ""
             }
            },
            "type": "scattergeo"
           }
          ],
          "scattergl": [
           {
            "marker": {
             "colorbar": {
              "outlinewidth": 0,
              "ticks": ""
             }
            },
            "type": "scattergl"
           }
          ],
          "scattermapbox": [
           {
            "marker": {
             "colorbar": {
              "outlinewidth": 0,
              "ticks": ""
             }
            },
            "type": "scattermapbox"
           }
          ],
          "scatterpolar": [
           {
            "marker": {
             "colorbar": {
              "outlinewidth": 0,
              "ticks": ""
             }
            },
            "type": "scatterpolar"
           }
          ],
          "scatterpolargl": [
           {
            "marker": {
             "colorbar": {
              "outlinewidth": 0,
              "ticks": ""
             }
            },
            "type": "scatterpolargl"
           }
          ],
          "scatterternary": [
           {
            "marker": {
             "colorbar": {
              "outlinewidth": 0,
              "ticks": ""
             }
            },
            "type": "scatterternary"
           }
          ],
          "surface": [
           {
            "colorbar": {
             "outlinewidth": 0,
             "ticks": ""
            },
            "colorscale": [
             [
              0,
              "#0d0887"
             ],
             [
              0.1111111111111111,
              "#46039f"
             ],
             [
              0.2222222222222222,
              "#7201a8"
             ],
             [
              0.3333333333333333,
              "#9c179e"
             ],
             [
              0.4444444444444444,
              "#bd3786"
             ],
             [
              0.5555555555555556,
              "#d8576b"
             ],
             [
              0.6666666666666666,
              "#ed7953"
             ],
             [
              0.7777777777777778,
              "#fb9f3a"
             ],
             [
              0.8888888888888888,
              "#fdca26"
             ],
             [
              1,
              "#f0f921"
             ]
            ],
            "type": "surface"
           }
          ],
          "table": [
           {
            "cells": {
             "fill": {
              "color": "#EBF0F8"
             },
             "line": {
              "color": "white"
             }
            },
            "header": {
             "fill": {
              "color": "#C8D4E3"
             },
             "line": {
              "color": "white"
             }
            },
            "type": "table"
           }
          ]
         },
         "layout": {
          "annotationdefaults": {
           "arrowcolor": "#2a3f5f",
           "arrowhead": 0,
           "arrowwidth": 1
          },
          "autotypenumbers": "strict",
          "coloraxis": {
           "colorbar": {
            "outlinewidth": 0,
            "ticks": ""
           }
          },
          "colorscale": {
           "diverging": [
            [
             0,
             "#8e0152"
            ],
            [
             0.1,
             "#c51b7d"
            ],
            [
             0.2,
             "#de77ae"
            ],
            [
             0.3,
             "#f1b6da"
            ],
            [
             0.4,
             "#fde0ef"
            ],
            [
             0.5,
             "#f7f7f7"
            ],
            [
             0.6,
             "#e6f5d0"
            ],
            [
             0.7,
             "#b8e186"
            ],
            [
             0.8,
             "#7fbc41"
            ],
            [
             0.9,
             "#4d9221"
            ],
            [
             1,
             "#276419"
            ]
           ],
           "sequential": [
            [
             0,
             "#0d0887"
            ],
            [
             0.1111111111111111,
             "#46039f"
            ],
            [
             0.2222222222222222,
             "#7201a8"
            ],
            [
             0.3333333333333333,
             "#9c179e"
            ],
            [
             0.4444444444444444,
             "#bd3786"
            ],
            [
             0.5555555555555556,
             "#d8576b"
            ],
            [
             0.6666666666666666,
             "#ed7953"
            ],
            [
             0.7777777777777778,
             "#fb9f3a"
            ],
            [
             0.8888888888888888,
             "#fdca26"
            ],
            [
             1,
             "#f0f921"
            ]
           ],
           "sequentialminus": [
            [
             0,
             "#0d0887"
            ],
            [
             0.1111111111111111,
             "#46039f"
            ],
            [
             0.2222222222222222,
             "#7201a8"
            ],
            [
             0.3333333333333333,
             "#9c179e"
            ],
            [
             0.4444444444444444,
             "#bd3786"
            ],
            [
             0.5555555555555556,
             "#d8576b"
            ],
            [
             0.6666666666666666,
             "#ed7953"
            ],
            [
             0.7777777777777778,
             "#fb9f3a"
            ],
            [
             0.8888888888888888,
             "#fdca26"
            ],
            [
             1,
             "#f0f921"
            ]
           ]
          },
          "colorway": [
           "#636efa",
           "#EF553B",
           "#00cc96",
           "#ab63fa",
           "#FFA15A",
           "#19d3f3",
           "#FF6692",
           "#B6E880",
           "#FF97FF",
           "#FECB52"
          ],
          "font": {
           "color": "#2a3f5f"
          },
          "geo": {
           "bgcolor": "white",
           "lakecolor": "white",
           "landcolor": "#E5ECF6",
           "showlakes": true,
           "showland": true,
           "subunitcolor": "white"
          },
          "hoverlabel": {
           "align": "left"
          },
          "hovermode": "closest",
          "mapbox": {
           "style": "light"
          },
          "paper_bgcolor": "white",
          "plot_bgcolor": "#E5ECF6",
          "polar": {
           "angularaxis": {
            "gridcolor": "white",
            "linecolor": "white",
            "ticks": ""
           },
           "bgcolor": "#E5ECF6",
           "radialaxis": {
            "gridcolor": "white",
            "linecolor": "white",
            "ticks": ""
           }
          },
          "scene": {
           "xaxis": {
            "backgroundcolor": "#E5ECF6",
            "gridcolor": "white",
            "gridwidth": 2,
            "linecolor": "white",
            "showbackground": true,
            "ticks": "",
            "zerolinecolor": "white"
           },
           "yaxis": {
            "backgroundcolor": "#E5ECF6",
            "gridcolor": "white",
            "gridwidth": 2,
            "linecolor": "white",
            "showbackground": true,
            "ticks": "",
            "zerolinecolor": "white"
           },
           "zaxis": {
            "backgroundcolor": "#E5ECF6",
            "gridcolor": "white",
            "gridwidth": 2,
            "linecolor": "white",
            "showbackground": true,
            "ticks": "",
            "zerolinecolor": "white"
           }
          },
          "shapedefaults": {
           "line": {
            "color": "#2a3f5f"
           }
          },
          "ternary": {
           "aaxis": {
            "gridcolor": "white",
            "linecolor": "white",
            "ticks": ""
           },
           "baxis": {
            "gridcolor": "white",
            "linecolor": "white",
            "ticks": ""
           },
           "bgcolor": "#E5ECF6",
           "caxis": {
            "gridcolor": "white",
            "linecolor": "white",
            "ticks": ""
           }
          },
          "title": {
           "x": 0.05
          },
          "xaxis": {
           "automargin": true,
           "gridcolor": "white",
           "linecolor": "white",
           "ticks": "",
           "title": {
            "standoff": 15
           },
           "zerolinecolor": "white",
           "zerolinewidth": 2
          },
          "yaxis": {
           "automargin": true,
           "gridcolor": "white",
           "linecolor": "white",
           "ticks": "",
           "title": {
            "standoff": 15
           },
           "zerolinecolor": "white",
           "zerolinewidth": 2
          }
         }
        }
       }
      }
     },
     "metadata": {},
     "output_type": "display_data"
    }
   ],
   "source": [
    "fig = px.scatter_3d(df, x = 'Price', y = 'Dividend Yield', z= 'Earnings/Share')\n",
    "fig.show()"
   ]
  },
  {
   "cell_type": "code",
   "execution_count": 42,
   "metadata": {},
   "outputs": [
    {
     "data": {
      "application/vnd.plotly.v1+json": {
       "config": {
        "plotlyServerURL": "https://plot.ly"
       },
       "data": [
        {
         "coloraxis": "coloraxis",
         "hovertemplate": "Price=%{x}<br>Dividend Yield=%{y}<br>count=%{z}<extra></extra>",
         "name": "",
         "type": "histogram2d",
         "x": [
          0.8856762628596787,
          -0.32426839405054353,
          -0.3538010118675345,
          0.03458638768538717,
          0.34724531132471476,
          -0.28268468281704745,
          0.3093066839023838,
          0.6050048093999635,
          0.043141176221795065,
          -0.6889255540981248,
          -0.6975547321000668,
          0.5517419520776322,
          0.5599991827519043,
          -0.15309823385685026,
          -0.2884870611286981,
          0.3642804989319968,
          -0.3075307643053975,
          -0.2960003971476302,
          0.010037864059173021,
          0.07996396166111633,
          0.034511998219853145,
          0.8694593593732707,
          -0.1972111869185018,
          0.4490844896407365,
          1.0174200063203613,
          -0.4961080594340427,
          -0.10243900782820828,
          6.723910296897679,
          6.677863217732144,
          -0.2959260076820963,
          9.273906785937058,
          -0.38117633518404,
          -0.41085773193209896,
          -0.3009101018728731,
          -0.11523399590005322,
          -0.3388487292952041,
          0.2212295567101487,
          -0.20658425957578352,
          0.3620488149659773,
          -0.09135497746364495,
          -0.23641443525491046,
          0.5154398928970488,
          -0.14424588745830635,
          -0.3543217381262724,
          -0.15733843339228717,
          -0.051556613402964344,
          0.33482227058053976,
          0.9428073723897772,
          0.23967814416257646,
          -0.4917190809675378,
          -0.4881483866219065,
          0.38176202333248266,
          -0.43205872960928393,
          -0.10831577560539292,
          -0.46479009444423613,
          -0.5905082911966663,
          -0.29332237638840686,
          -0.13888984593985965,
          -0.5077872055228779,
          0.0072854538344156415,
          0.03287542997810554,
          4.573013290448115,
          0.38019984455626893,
          0.05162157529266905,
          -0.5678195042088017,
          -0.486437428914625,
          -0.5511562639291896,
          -0.30701003804665966,
          -0.39248353394520535,
          0.800500324823269,
          0.6515726148242363,
          -0.2606654010189886,
          1.5469986114567817,
          3.0168600609427383,
          -0.5850034707471515,
          1.6799325863660082,
          -0.3860116504437489,
          0.06144098474315478,
          -0.5849290812816176,
          -0.35997533750685506,
          -0.3060429749947179,
          0.9353684258363789,
          -0.301282049200543,
          -0.09938903974131502,
          -0.5294345399932668,
          -0.6012203742335597,
          -0.49848852233113017,
          -0.4389025604384103,
          -0.08949524082529539,
          -0.2767335255743289,
          -0.2937687131816108,
          -0.27576646252238707,
          0.31362127290335484,
          0.05444837498296046,
          -0.46054989490879916,
          -0.38705310296122464,
          -0.09529761913694601,
          -0.02581785832820651,
          -0.5800937660219088,
          -0.6518796002622016,
          -0.31697822642821327,
          -0.4937275965369552,
          -0.4086260479660795,
          1.8211981814150402,
          -0.75141270514667,
          0.06300316351936835,
          1.2064436382422106,
          0.2719631722043246,
          -0.4199332467272448,
          0.6355788797344303,
          -0.02708247924228422,
          -0.24913503386122138,
          0.3383929649261709,
          -0.4839825765520035,
          -0.23775344563452208,
          -0.45854137933938166,
          -0.1435763822685005,
          0.36606584610481224,
          -0.46166573689180884,
          -0.45177193797578924,
          -0.21327931147384196,
          -0.2594751695704449,
          -0.4882971655529746,
          -0.10898528079519869,
          -0.5083823212471497,
          0.26973148823830523,
          -0.37634101992433117,
          -0.21647805849180315,
          0.7803407796635597,
          -0.5607525049830733,
          0.5562797094752052,
          -0.6239091612214243,
          -0.00015349271898258967,
          -0.5428990332549176,
          -0.3969469018772443,
          0.4604660778674358,
          -0.24757285508500781,
          -0.4409854654733618,
          -0.08681722006607202,
          -0.09299154570539254,
          -0.23745588777238621,
          0.3706779929679192,
          -0.39129330249666167,
          -0.34948642286656356,
          -0.5124737418515188,
          -0.03623238350296407,
          -0.233810803961221,
          -0.6022618267510355,
          -0.6118580678049191,
          -0.4467878437850124,
          -0.06494671719908124,
          -0.016742343533060675,
          -0.22704136259762864,
          -0.056763875990343125,
          -0.2649799900199597,
          0.09744548606160224,
          -0.039728688383061234,
          -0.2195280265786965,
          -0.5899875649379284,
          -0.08860256723888757,
          -0.4117504055185068,
          -0.07632830542578055,
          -0.18166378862189947,
          -0.4672449468068575,
          0.17800927723490506,
          -0.3404109080714177,
          0.1484022699523801,
          0.09454429690577693,
          -0.2784444832816104,
          -0.2366376036515124,
          -0.5094981632301595,
          -0.02075937467189566,
          -0.4283392563325848,
          0.07564937266014538,
          2.2774287735349543,
          -0.36131434788646677,
          0.8513827192485129,
          0.20553337948247855,
          1.0208419217349247,
          -0.35499124331607823,
          -0.5047372374359848,
          0.14282306003733142,
          -0.32337572046413576,
          -0.22674380473549277,
          -0.19542583974568617,
          -0.2065098701102496,
          0.24860488002665426,
          0.5039839152048157,
          -0.38444947166753524,
          0.031833977460629784,
          1.0075262074043418,
          -0.08250263106510107,
          -0.541039296616568,
          -0.5444612120311312,
          0.21736130450238175,
          -0.4267770775563712,
          -0.4687327361175372,
          -0.36094240055879684,
          -0.170802926653938,
          -0.43109166655734216,
          -0.6948023218753094,
          -0.25806176972529926,
          -0.3079027116330675,
          -0.48971056539812025,
          -0.6447382115709394,
          -0.5405185703578301,
          -0.3176477316180191,
          0.07758349876402895,
          0.7604044029004526,
          -0.6648977567306485,
          -0.6115605099427832,
          -0.3707618100092825,
          -0.4692534623762751,
          -0.055945591869469326,
          -0.19051613502044334,
          -0.024106900620924885,
          1.0601939490024013,
          -0.5436429279102574,
          1.1513210442815298,
          -0.4197100783306429,
          -0.6268103503772496,
          -0.4187430152787011,
          0.34226121713393803,
          -0.3755971252689913,
          -0.054680970955391615,
          -0.05847483369762475,
          -0.603972784458317,
          -0.2898260715083097,
          -0.24534117111898834,
          -0.45251583263112904,
          -0.6605087782641437,
          -0.18724299853694815,
          -0.48375940815540164,
          0.5756953599795744,
          0.3138444412999568,
          -0.5327820659422959,
          -0.6329102865510362,
          -0.6242067190835602,
          1.179365872787841,
          -0.6600624414709397,
          0.9041248503121064,
          0.4868743381319996,
          -0.4470854016471484,
          0.3892009698858809,
          0.7863663263718124,
          -0.14811413966607342,
          -0.12073881634956798,
          -0.45437556926947864,
          -0.2739811153495715,
          0.325523587388792,
          -0.35543758010928217,
          -0.6136434149777348,
          0.25418408994170294,
          0.36390855160432684,
          2.06831998591893,
          -0.5349393604427815,
          -0.06397965414713941,
          -0.5338235184597718,
          0.08167491936839795,
          -0.3050759119427761,
          0.10815756909849568,
          0.1675947520601475,
          -0.5004970379005477,
          0.030123019753348163,
          -0.5889461124204527,
          -0.002236397753934103,
          -0.28156884083403766,
          -0.6230164876350165,
          0.05846540612179544,
          -0.6681708932141438,
          -0.6474162323301628,
          -0.03935674105539124,
          -0.3235244993952037,
          -0.23991074013500763,
          -0.5672987779500638,
          -0.4170320575714195,
          0.7063976509227814,
          0.45845756229801843,
          0.434429764930542,
          -0.4451512755432648,
          -0.3326744036558836,
          -0.5948972696631712,
          -0.2203463106995703,
          -0.22294994199325965,
          -0.48331307136219775,
          1.7144492983737758,
          -0.42982704564326446,
          -0.06561622238888701,
          0.014575621456745938,
          0.5543455833713216,
          -0.33825361357093225,
          -0.5938558171456955,
          -0.6557478524699687,
          -0.3052990803393781,
          0.2235356301417022,
          -0.18240768327723925,
          0.7780347062320063,
          -0.46962540970394495,
          0.42245306097957097,
          -0.6533673895728813,
          -0.018378911774808278,
          0.4101787991664638,
          0.34516240628976325,
          -0.18932590357189966,
          -0.3652569895597678,
          -0.4429939810427793,
          3.6984163441650844,
          -0.5231858248884123,
          -0.32583057282675715,
          -0.17801870481073429,
          -0.47483267229132375,
          -0.14000568792286933,
          -0.13717888823257804,
          1.1362199827781312,
          -0.21811462673355075,
          -0.4548962955282165,
          0.11343922115140838,
          -0.31125023758209663,
          0.35937079420675383,
          -0.3871274924267586,
          -0.03786895174471168,
          -0.48041188220637243,
          -0.21290736414617206,
          -0.5295833189243347,
          -0.6728574295427847,
          -0.3569253694199618,
          1.0880899985776447,
          -0.5647695361219084,
          -0.5761511243486077,
          -0.5000507011073437,
          -0.6559710208665707,
          -0.654483231555891,
          0.308414010315976,
          -0.5202102462670529,
          -0.3075307643053975,
          -0.6049398475102588,
          -0.5832181235743359,
          -0.42104908871025454,
          0.2459268592674308,
          -0.056763875990343125,
          1.637902538339308,
          -0.3557351379714181,
          -0.5938558171456955,
          -0.3232269415330678,
          0.8457291198679303,
          1.1038605652708489,
          -0.2630458639160761,
          -0.2077001015587933,
          -0.36771184192238926,
          -0.4239502778660798,
          -0.27412989428063944,
          0.060399532225679016,
          0.5257800286062723,
          -0.5277979717515192,
          -0.3122173006340384,
          -0.23440591968549296,
          -0.2764359677121929,
          -0.6343236863961819,
          0.047009428429562225,
          -0.23634004578937645,
          -0.14424588745830635,
          -0.5222187618364705,
          -0.4879252182253046,
          -0.025594689931604554,
          -0.08473431503112051,
          -0.21937924764762845,
          0.4859816645455918,
          0.33883930171937476,
          -0.018676469636944252,
          0.04812527041257189,
          -0.5527928321709372,
          0.29933849552083014,
          12.662793277803155,
          -0.3232269415330678,
          -0.1756382419136469,
          -0.39248353394520535,
          -0.33847678196753417,
          -0.00335223973694388,
          -0.4247685619869537,
          0.5702649289955939,
          -0.5591159367413258,
          0.2889983598116067,
          -0.20070749179859898,
          -0.3080514905641354,
          -0.5231114354228783,
          -0.055127307748595526,
          -0.6770232396126877,
          -0.1321947940418012,
          0.7060257035951115,
          -0.4185942363476331,
          0.15487415345383657,
          -0.35893388498937934,
          1.6275624026300846,
          -0.6392333911214246,
          -0.3058198065981159,
          -0.10839016507092683,
          -0.3836311875466615,
          0.5571723830616128,
          0.21929543060626525,
          1.157272201524248,
          -0.21402320612918174,
          0.13850847103636044,
          0.5168532927421945,
          0.0014830755227650129,
          0.4167250721334542,
          -0.5075640371262761,
          -0.27100553672821215,
          -0.12921921542044196,
          -0.4194869099340409,
          -0.4553426323214204,
          -0.003501018668011815,
          2.1113170969975714,
          -0.4050553536204483,
          0.3596683520688899,
          -0.035637267778692125,
          -0.09834758722383927,
          0.3934411694213178,
          -0.44954025400976977,
          -0.35856193766170935,
          0.36472683572520076,
          -0.37239837825103006,
          -0.03935674105539124,
          -0.24757285508500781,
          0.3286479449412192,
          -0.2829078512136494,
          -0.5820278921257922,
          -0.5121761839893829,
          -0.15778477018549109,
          -0.3483705808835538,
          -0.013692375446167426,
          -0.4089979952937494,
          -0.24340704501510477,
          -0.06368209628500353,
          -0.5559171897233646,
          -0.045903014022381755,
          -0.35923144285151526,
          -0.3759690725966613,
          0.17800927723490506,
          0.8877591678946302,
          -0.04597740348791567,
          -0.5928887540937537,
          0.23194163974704216,
          -0.018453301240342296,
          0.7059513141295775,
          -0.031322678777721165,
          -0.08041972603014956,
          -0.21923046871656052,
          -0.17340655794762744,
          -0.16857124268791857,
          -0.28186639869617364,
          1.3328313401844465,
          -0.4744607249636539,
          -0.5153005415418102,
          -0.5187968464219073,
          -0.22250360520005574,
          -0.38072999839083616,
          -0.5275004138893832,
          0.7830188004227833,
          -0.6746427767156002,
          -0.6834951231141442,
          0.15643633223005016,
          -0.3009844913384071,
          0.8378438365213282,
          0.040537544928105726,
          0.43264441775772655,
          0.17592637219995355,
          0.08212125616160186,
          -0.4162881629160797,
          -0.1865734933471423,
          -0.1269131419888885,
          0.06687141572713541,
          -0.39359937592821503,
          0.013311000542668226,
          -0.0859245464796642,
          -0.40758459544860376,
          0.3553537630679188,
          -0.5290625926655969,
          0.07460792014266962,
          -0.280081051523358,
          0.13121830341403015,
          -0.028347100156361934,
          -0.2649056005544257,
          -0.1838210831223849,
          0.6543250250489937,
          -0.32977321450005825,
          -0.360272895368991,
          -0.3657033263529717,
          -0.17660530496558863,
          -0.6324639497578323,
          -0.3191355209286988,
          -0.5224419302330725,
          0.4546636995557852,
          -0.5599342208621995,
          0.3610073624485016,
          0.07237623617665016,
          0.4868743381319996,
          -0.45668164270103206,
          -0.5507099271359858,
          -0.3050759119427761,
          -0.465459599634042,
          -0.24987892851656127,
          -0.20479891240296796,
          0.08703096088684467,
          -0.3951615547044287,
          -0.24043146639374544
         ],
         "xaxis": "x",
         "xbingroup": "x",
         "y": [
          0.2842207558125956,
          -0.48659076414933644,
          0.008475664960479192,
          0.39266249926145996,
          -0.11806004221930581,
          -0.9524047723950785,
          -1.0049140285170437,
          -1.2333696559199956,
          -1.0913460367288692,
          -1.2333696559199956,
          1.9944379195689186,
          -0.5164956379553702,
          -0.8178521218994965,
          0.34735112044053207,
          -0.6637041945622283,
          0.5758208903087451,
          -1.2333696559199956,
          0.06302622396155806,
          -0.45246839122736937,
          0.7352739985428329,
          -1.2333696559199956,
          -1.2333696559199956,
          -0.7126874101319798,
          -0.164365166667316,
          -0.632274419522597,
          1.0911814968572044,
          -0.2394803923920219,
          -1.2333696559199956,
          -1.2333696559199956,
          1.337961791021444,
          -1.2333696559199956,
          1.0047674562116398,
          -0.7271226777671711,
          1.269823471457027,
          -0.26046256758871883,
          0.14363554373450027,
          0.06768510590544063,
          0.1517963446753125,
          0.11554720258692736,
          -0.18390922098302917,
          -0.7421407984198389,
          0.7020474018243826,
          -0.6733325202216413,
          -0.1255232826495651,
          0.13856852091183322,
          0.2924151890190008,
          -1.2333696559199956,
          -0.41489035180525563,
          -0.5668741697044416,
          0.41145304771186203,
          1.2884400688857727,
          -0.20583485604026378,
          -0.6989458648957938,
          -0.622350234010345,
          0.8327756278686739,
          -0.6113514423175631,
          0.380402595188041,
          0.413348944710794,
          2.2896598002055617,
          -1.2333696559199956,
          0.21020993042246502,
          -1.2333696559199956,
          1.1832976051546835,
          -0.21320123294350507,
          0.3923842687006437,
          -0.5717602808624771,
          -0.23415959883806056,
          -0.5982246844879825,
          0.3621266789486789,
          -0.35396169709801817,
          -1.2333696559199956,
          0.008164517714188683,
          -1.2333696559199956,
          0.17460305401725518,
          1.1928397359361254,
          0.044812368034335165,
          -0.4290812813561762,
          0.5714575429540113,
          -1.2333696559199956,
          -1.2333696559199956,
          0.428523731872607,
          0.6849434106617348,
          -0.503675434648771,
          0.05967386120950045,
          0.7182124868181587,
          -0.5653056180835848,
          -1.2333696559199956,
          0.7995284094322486,
          -0.17258301885943406,
          0.613752556415123,
          -1.2333696559199956,
          0.46071208689112053,
          0.08167847029077803,
          -0.6201199008848857,
          -1.2333696559199956,
          -0.3569106027684336,
          -1.2333696559199956,
          -1.2333696559199956,
          1.5059527458663207,
          7.003085017182588,
          -1.2333696559199956,
          0.7439171655365915,
          -0.7332524931931307,
          -1.2333696559199956,
          -1.2333696559199956,
          1.294484118781833,
          -1.2333696559199956,
          0.019001393141861268,
          -0.03860755528784055,
          -1.2200555468552396,
          -1.0368171402895747,
          0.6654573183356609,
          -0.5604103344894785,
          0.6372593633244039,
          -0.1229881774461482,
          0.043312121788474225,
          -1.2333696559199956,
          1.1624324598338127,
          0.9731155911241649,
          0.927268828268746,
          -0.5532573956199146,
          0.24994765569647082,
          -0.0019852706937639932,
          -0.3991819370328802,
          0.3073053053989261,
          -1.2333696559199956,
          0.0997261815249156,
          1.2387381506655888,
          -0.6015242504378052,
          0.11916888367468248,
          -0.523148126110798,
          0.6274066707713144,
          1.2790119755542049,
          -0.4033507116479831,
          -0.2508854384341836,
          0.3935136492866462,
          0.5165358580821218,
          -0.530704522062004,
          -0.8509073697058145,
          0.4907879192928582,
          -1.2333696559199956,
          -0.2662823806965782,
          0.24043427822526528,
          -0.8428300639543427,
          -0.8086509975711289,
          1.0897193715158648,
          -0.044881696718529415,
          -1.2333696559199956,
          -1.2333696559199956,
          -1.2333696559199956,
          -0.5421677252520194,
          -1.2333696559199956,
          1.7123482351707602,
          -0.009398940937597676,
          0.16719927178961122,
          0.045633268536308946,
          1.0798787137193222,
          1.8793689934797435,
          0.8179583705554105,
          -0.745880374584837,
          -1.2333696559199956,
          0.23882812612179172,
          0.6794772892908775,
          -1.2333696559199956,
          -0.4319387228768353,
          1.4040506891250335,
          -1.2333696559199956,
          -1.2333696559199956,
          0.5967102352481859,
          1.9490922579550165,
          -1.2333696559199956,
          -0.8213320725867723,
          -1.0695432472622461,
          -0.3704251790014192,
          -0.011951350169346835,
          1.0719639422339715,
          0.8573018762365834,
          -0.49934721577260627,
          0.137827179908545,
          0.9392476394608728,
          1.2499713924264517,
          -0.629772003320071,
          -0.3538541649219532,
          -1.2333696559199956,
          1.2904371879451748,
          1.3707691878956343,
          -1.2333696559199956,
          -1.2333696559199956,
          0.5750085117154613,
          1.1037144923251307,
          -0.7153307630915806,
          -0.3729014765296015,
          0.054006726877941336,
          1.8070697706815326,
          -1.2333696559199956,
          -0.42693076794035495,
          -0.04347597210111525,
          -0.27536998799697654,
          -0.7220583871595038,
          0.44680927591720615,
          3.180059590077345,
          -0.9792928384826772,
          -0.4125149510738529,
          0.28408759285772284,
          -0.5048955638044109,
          0.6013489508432601,
          0.8704284128868545,
          -1.2333696559199956,
          -0.21649504823128043,
          0.8141919471254021,
          1.3722930482854219,
          1.0997203843118029,
          1.0992597458733786,
          0.535970363586889,
          0.5588033542350209,
          -1.2088953372013225,
          -0.4742944955953243,
          -0.14494614371421427,
          0.04821111338865176,
          -0.2907660845737759,
          0.5440275355159216,
          0.7324360728436011,
          -0.2626239448118013,
          -0.06880223904207104,
          0.21762080339856088,
          -0.30782258723761696,
          2.88459681915155,
          1.4663140959124275,
          -1.2333696559199956,
          0.24141468804103883,
          0.020860535343771705,
          -0.757490076541034,
          -1.2333696559199956,
          -0.022706519357976747,
          0.04883926262766109,
          0.256842725512241,
          1.442321345049605,
          0.47560662685723626,
          -0.8404501420576425,
          0.5967585043798495,
          -0.43551649336637904,
          -1.2333696559199956,
          -1.2333696559199956,
          0.008459401775956412,
          -1.2333696559199956,
          -1.2333696559199956,
          0.050706796632785295,
          0.4936941503670858,
          2.2989058109232117,
          1.303623768272704,
          0.8527096733492443,
          0.9655961451281947,
          0.02483330605900573,
          -0.604178304572822,
          -1.2333696559199956,
          1.0218955819401194,
          -1.2333696559199956,
          3.3740425615848038,
          -0.7039026883801346,
          -0.6420707113517615,
          0.4604010046975681,
          0.4298262177946703,
          0.5659613672181558,
          0.05765664085402823,
          -0.20851359768938613,
          -0.35871093729510956,
          0.9549797334299135,
          0.05968049658878588,
          1.0824986476932101,
          3.7844723860119225,
          0.6478546979355437,
          0.26209553895489685,
          1.0412016733398946,
          0.9778043322748314,
          -0.10788969714611642,
          1.9457498482718867,
          -0.2937085500231204,
          -1.2333696559199956,
          -0.47531179031359555,
          0.8128502344022696,
          -1.0624873996042834,
          -0.19294205387795457,
          0.6744595764436835,
          -0.13962853774441938,
          -1.2333696559199956,
          0.27322183401433764,
          1.7025668404186187,
          -0.16565054371926136,
          0.8904161919290882,
          -0.17828931493932415,
          1.9657681370482851,
          2.7339015008357377,
          -0.4366428815264294,
          0.6055770535555023,
          -0.6184339941245123,
          -0.045697978476098765,
          -0.7102130641859402,
          -0.5933567815913388,
          -0.8478262768715975,
          -1.2333696559199956,
          0.0846675135005958,
          0.3526121955809258,
          -0.6544799114591002,
          0.23801366584088898,
          1.0017994900889637,
          1.0166169425604412,
          -1.2333696559199956,
          -0.40801772518412704,
          -1.2333696559199956,
          -0.09410326552064742,
          -1.2333696559199956,
          -0.013766907036736095,
          1.4965815086278438,
          -1.2333696559199956,
          0.16745083072781014,
          0.06620834369803064,
          -0.06640751764745519,
          -1.2333696559199956,
          -0.5086398693034683,
          -0.04083554651472849,
          0.08505282086831017,
          -1.2333696559199956,
          0.04630116499829199,
          -0.8512684124022211,
          1.7319972195530144,
          -0.3303297937733876,
          -1.2333696559199956,
          0.7981483806463803,
          -1.2333696559199956,
          -0.7063423612167715,
          -0.4232483926479603,
          -0.435176527757114,
          0.4929945081689143,
          1.1221075034930572,
          -0.44040618242500956,
          0.9641677171051866,
          -0.2724724739896532,
          0.7195320816103403,
          0.07972181403446861,
          -0.14840389190197958,
          -0.3856765982887036,
          -1.2333696559199956,
          -0.3099080479153469,
          0.3381522729579979,
          -1.0627768127307777,
          -1.2333696559199956,
          1.634276297447068,
          0.8378239155027709,
          2.307854010205881,
          -0.22170440644489137,
          -0.286321486349166,
          0.16621112069800478,
          -0.29649098573676025,
          0.7652964876993358,
          0.7762916364387843,
          -1.2333696559199956,
          0.09327034779673789,
          1.1044631192350851,
          0.6121793860498618,
          -0.9929741578939383,
          -0.7576640730996067,
          1.295839102263536,
          -1.2333696559199956,
          1.5824244512857053,
          0.671741412835278,
          1.1727854079428244,
          -1.1152262073231514,
          0.02571555129299958,
          -0.025333674185792795,
          -0.2073911126936212,
          2.1621812186398817,
          0.19769521477394236,
          -1.2333696559199956,
          0.8427816497254447,
          0.9592191553185837,
          0.1367579080525389,
          0.6735726474125473,
          0.522123888284162,
          1.1123475110917473,
          1.5744099539528607,
          -0.4503878745577342,
          -1.1679724928542627,
          -1.2333696559199956,
          1.0470769113806078,
          -1.2333696559199956,
          0.06018250856863611,
          -0.8367066171914422,
          -0.5188969947292715,
          -0.21771660854715844,
          2.261286853328839,
          -1.2333696559199956,
          1.1638457305688454,
          -1.2333696559199956,
          0.0018089302554095195,
          0.15630176721003772,
          -0.24974473867175317,
          -0.12254386724498482,
          -0.08242070449778839,
          -0.5991775379639006,
          -0.8301350741580215,
          -0.6995351581343412,
          -0.018565977631205453,
          -0.5212044153493689,
          -1.2333696559199956,
          -1.2333696559199956,
          3.11412662338696,
          0.6319418224073472,
          -0.33814848236457756,
          2.0750642831592407,
          -0.29482700174912363,
          0.8227693458009505,
          -0.6851905284791325,
          0.3754336068416771,
          2.04321153521654,
          -0.41178597009080214,
          1.0434060504228555,
          0.04714990807216892,
          2.2489181160245932,
          -0.6715046033340146,
          -0.2071214040414949,
          0.20003620260689495,
          -0.1776450976740063,
          -1.2333696559199956,
          -0.4375139376894715,
          0.2748810691520934,
          -0.4991400878545238,
          -0.19252584645964657,
          -1.2333696559199956,
          0.36984681264166064,
          0.15904712286296543,
          -1.2333696559199956,
          0.9690983893888147,
          -0.18845061768191892,
          -0.12354606972801896,
          0.34861503008890765,
          -1.1435022906728558,
          -0.10487983706010943,
          0.47666952354490943,
          -1.2164339841634675,
          0.4901600953175395,
          -0.9757350521942751,
          0.08471031820225972,
          -0.1901413383449111,
          -1.0202361341095383,
          0.028809979938525198,
          -0.13217199774618352,
          -0.16623152972315458,
          -0.7646899834874998,
          -0.837124776191893,
          -0.19051740822381674,
          -1.2333696559199956,
          -1.2333696559199956,
          -0.5839246875163783,
          -0.5773756332145156,
          -0.16954733283640477,
          0.19114284278243718,
          1.1531804642642578,
          -1.2333696559199956,
          -1.2333696559199956,
          -1.2333696559199956,
          0.10844389895652692,
          -1.2333696559199956,
          -0.36914942975471116,
          0.6965301490013854,
          -1.2333696559199956,
          0.1468505801564473,
          -1.011195006990506,
          -0.05012494740868604,
          0.2541044606077652,
          1.08373582066623,
          -1.2333696559199956,
          2.6474431592755328,
          -1.2333696559199956,
          -1.2333696559199956,
          1.776323895077455,
          -1.2333696559199956,
          0.4723723348248145,
          -0.776668436889567,
          1.2024832839362518,
          -0.7260962756655672,
          0.0569325388263343,
          0.2217454722572379,
          0.11973998166238596,
          -1.2333696559199956,
          1.1683436069859523,
          0.5303125968496151,
          2.7698758601584252,
          0.32087101308405136,
          1.1030549876663616,
          0.5035243997255342,
          1.178782880078411,
          0.43542732359706704,
          1.3687398677308769,
          -0.3570715432424713,
          0.03787657520451991,
          -0.499637025720803,
          0.9728466631048956,
          0.8529913517051793,
          0.12655015765494673,
          0.12964016271428216,
          -0.4722009683780709,
          -0.0643200403348444,
          -0.7163086358505686,
          -0.2699821901227812,
          -0.7894679664360009
         ],
         "yaxis": "y",
         "ybingroup": "y"
        }
       ],
       "layout": {
        "coloraxis": {
         "colorbar": {
          "title": {
           "text": "count"
          }
         },
         "colorscale": [
          [
           0,
           "#0d0887"
          ],
          [
           0.1111111111111111,
           "#46039f"
          ],
          [
           0.2222222222222222,
           "#7201a8"
          ],
          [
           0.3333333333333333,
           "#9c179e"
          ],
          [
           0.4444444444444444,
           "#bd3786"
          ],
          [
           0.5555555555555556,
           "#d8576b"
          ],
          [
           0.6666666666666666,
           "#ed7953"
          ],
          [
           0.7777777777777778,
           "#fb9f3a"
          ],
          [
           0.8888888888888888,
           "#fdca26"
          ],
          [
           1,
           "#f0f921"
          ]
         ]
        },
        "legend": {
         "tracegroupgap": 0
        },
        "margin": {
         "t": 60
        },
        "template": {
         "data": {
          "bar": [
           {
            "error_x": {
             "color": "#2a3f5f"
            },
            "error_y": {
             "color": "#2a3f5f"
            },
            "marker": {
             "line": {
              "color": "#E5ECF6",
              "width": 0.5
             },
             "pattern": {
              "fillmode": "overlay",
              "size": 10,
              "solidity": 0.2
             }
            },
            "type": "bar"
           }
          ],
          "barpolar": [
           {
            "marker": {
             "line": {
              "color": "#E5ECF6",
              "width": 0.5
             },
             "pattern": {
              "fillmode": "overlay",
              "size": 10,
              "solidity": 0.2
             }
            },
            "type": "barpolar"
           }
          ],
          "carpet": [
           {
            "aaxis": {
             "endlinecolor": "#2a3f5f",
             "gridcolor": "white",
             "linecolor": "white",
             "minorgridcolor": "white",
             "startlinecolor": "#2a3f5f"
            },
            "baxis": {
             "endlinecolor": "#2a3f5f",
             "gridcolor": "white",
             "linecolor": "white",
             "minorgridcolor": "white",
             "startlinecolor": "#2a3f5f"
            },
            "type": "carpet"
           }
          ],
          "choropleth": [
           {
            "colorbar": {
             "outlinewidth": 0,
             "ticks": ""
            },
            "type": "choropleth"
           }
          ],
          "contour": [
           {
            "colorbar": {
             "outlinewidth": 0,
             "ticks": ""
            },
            "colorscale": [
             [
              0,
              "#0d0887"
             ],
             [
              0.1111111111111111,
              "#46039f"
             ],
             [
              0.2222222222222222,
              "#7201a8"
             ],
             [
              0.3333333333333333,
              "#9c179e"
             ],
             [
              0.4444444444444444,
              "#bd3786"
             ],
             [
              0.5555555555555556,
              "#d8576b"
             ],
             [
              0.6666666666666666,
              "#ed7953"
             ],
             [
              0.7777777777777778,
              "#fb9f3a"
             ],
             [
              0.8888888888888888,
              "#fdca26"
             ],
             [
              1,
              "#f0f921"
             ]
            ],
            "type": "contour"
           }
          ],
          "contourcarpet": [
           {
            "colorbar": {
             "outlinewidth": 0,
             "ticks": ""
            },
            "type": "contourcarpet"
           }
          ],
          "heatmap": [
           {
            "colorbar": {
             "outlinewidth": 0,
             "ticks": ""
            },
            "colorscale": [
             [
              0,
              "#0d0887"
             ],
             [
              0.1111111111111111,
              "#46039f"
             ],
             [
              0.2222222222222222,
              "#7201a8"
             ],
             [
              0.3333333333333333,
              "#9c179e"
             ],
             [
              0.4444444444444444,
              "#bd3786"
             ],
             [
              0.5555555555555556,
              "#d8576b"
             ],
             [
              0.6666666666666666,
              "#ed7953"
             ],
             [
              0.7777777777777778,
              "#fb9f3a"
             ],
             [
              0.8888888888888888,
              "#fdca26"
             ],
             [
              1,
              "#f0f921"
             ]
            ],
            "type": "heatmap"
           }
          ],
          "heatmapgl": [
           {
            "colorbar": {
             "outlinewidth": 0,
             "ticks": ""
            },
            "colorscale": [
             [
              0,
              "#0d0887"
             ],
             [
              0.1111111111111111,
              "#46039f"
             ],
             [
              0.2222222222222222,
              "#7201a8"
             ],
             [
              0.3333333333333333,
              "#9c179e"
             ],
             [
              0.4444444444444444,
              "#bd3786"
             ],
             [
              0.5555555555555556,
              "#d8576b"
             ],
             [
              0.6666666666666666,
              "#ed7953"
             ],
             [
              0.7777777777777778,
              "#fb9f3a"
             ],
             [
              0.8888888888888888,
              "#fdca26"
             ],
             [
              1,
              "#f0f921"
             ]
            ],
            "type": "heatmapgl"
           }
          ],
          "histogram": [
           {
            "marker": {
             "pattern": {
              "fillmode": "overlay",
              "size": 10,
              "solidity": 0.2
             }
            },
            "type": "histogram"
           }
          ],
          "histogram2d": [
           {
            "colorbar": {
             "outlinewidth": 0,
             "ticks": ""
            },
            "colorscale": [
             [
              0,
              "#0d0887"
             ],
             [
              0.1111111111111111,
              "#46039f"
             ],
             [
              0.2222222222222222,
              "#7201a8"
             ],
             [
              0.3333333333333333,
              "#9c179e"
             ],
             [
              0.4444444444444444,
              "#bd3786"
             ],
             [
              0.5555555555555556,
              "#d8576b"
             ],
             [
              0.6666666666666666,
              "#ed7953"
             ],
             [
              0.7777777777777778,
              "#fb9f3a"
             ],
             [
              0.8888888888888888,
              "#fdca26"
             ],
             [
              1,
              "#f0f921"
             ]
            ],
            "type": "histogram2d"
           }
          ],
          "histogram2dcontour": [
           {
            "colorbar": {
             "outlinewidth": 0,
             "ticks": ""
            },
            "colorscale": [
             [
              0,
              "#0d0887"
             ],
             [
              0.1111111111111111,
              "#46039f"
             ],
             [
              0.2222222222222222,
              "#7201a8"
             ],
             [
              0.3333333333333333,
              "#9c179e"
             ],
             [
              0.4444444444444444,
              "#bd3786"
             ],
             [
              0.5555555555555556,
              "#d8576b"
             ],
             [
              0.6666666666666666,
              "#ed7953"
             ],
             [
              0.7777777777777778,
              "#fb9f3a"
             ],
             [
              0.8888888888888888,
              "#fdca26"
             ],
             [
              1,
              "#f0f921"
             ]
            ],
            "type": "histogram2dcontour"
           }
          ],
          "mesh3d": [
           {
            "colorbar": {
             "outlinewidth": 0,
             "ticks": ""
            },
            "type": "mesh3d"
           }
          ],
          "parcoords": [
           {
            "line": {
             "colorbar": {
              "outlinewidth": 0,
              "ticks": ""
             }
            },
            "type": "parcoords"
           }
          ],
          "pie": [
           {
            "automargin": true,
            "type": "pie"
           }
          ],
          "scatter": [
           {
            "fillpattern": {
             "fillmode": "overlay",
             "size": 10,
             "solidity": 0.2
            },
            "type": "scatter"
           }
          ],
          "scatter3d": [
           {
            "line": {
             "colorbar": {
              "outlinewidth": 0,
              "ticks": ""
             }
            },
            "marker": {
             "colorbar": {
              "outlinewidth": 0,
              "ticks": ""
             }
            },
            "type": "scatter3d"
           }
          ],
          "scattercarpet": [
           {
            "marker": {
             "colorbar": {
              "outlinewidth": 0,
              "ticks": ""
             }
            },
            "type": "scattercarpet"
           }
          ],
          "scattergeo": [
           {
            "marker": {
             "colorbar": {
              "outlinewidth": 0,
              "ticks": ""
             }
            },
            "type": "scattergeo"
           }
          ],
          "scattergl": [
           {
            "marker": {
             "colorbar": {
              "outlinewidth": 0,
              "ticks": ""
             }
            },
            "type": "scattergl"
           }
          ],
          "scattermapbox": [
           {
            "marker": {
             "colorbar": {
              "outlinewidth": 0,
              "ticks": ""
             }
            },
            "type": "scattermapbox"
           }
          ],
          "scatterpolar": [
           {
            "marker": {
             "colorbar": {
              "outlinewidth": 0,
              "ticks": ""
             }
            },
            "type": "scatterpolar"
           }
          ],
          "scatterpolargl": [
           {
            "marker": {
             "colorbar": {
              "outlinewidth": 0,
              "ticks": ""
             }
            },
            "type": "scatterpolargl"
           }
          ],
          "scatterternary": [
           {
            "marker": {
             "colorbar": {
              "outlinewidth": 0,
              "ticks": ""
             }
            },
            "type": "scatterternary"
           }
          ],
          "surface": [
           {
            "colorbar": {
             "outlinewidth": 0,
             "ticks": ""
            },
            "colorscale": [
             [
              0,
              "#0d0887"
             ],
             [
              0.1111111111111111,
              "#46039f"
             ],
             [
              0.2222222222222222,
              "#7201a8"
             ],
             [
              0.3333333333333333,
              "#9c179e"
             ],
             [
              0.4444444444444444,
              "#bd3786"
             ],
             [
              0.5555555555555556,
              "#d8576b"
             ],
             [
              0.6666666666666666,
              "#ed7953"
             ],
             [
              0.7777777777777778,
              "#fb9f3a"
             ],
             [
              0.8888888888888888,
              "#fdca26"
             ],
             [
              1,
              "#f0f921"
             ]
            ],
            "type": "surface"
           }
          ],
          "table": [
           {
            "cells": {
             "fill": {
              "color": "#EBF0F8"
             },
             "line": {
              "color": "white"
             }
            },
            "header": {
             "fill": {
              "color": "#C8D4E3"
             },
             "line": {
              "color": "white"
             }
            },
            "type": "table"
           }
          ]
         },
         "layout": {
          "annotationdefaults": {
           "arrowcolor": "#2a3f5f",
           "arrowhead": 0,
           "arrowwidth": 1
          },
          "autotypenumbers": "strict",
          "coloraxis": {
           "colorbar": {
            "outlinewidth": 0,
            "ticks": ""
           }
          },
          "colorscale": {
           "diverging": [
            [
             0,
             "#8e0152"
            ],
            [
             0.1,
             "#c51b7d"
            ],
            [
             0.2,
             "#de77ae"
            ],
            [
             0.3,
             "#f1b6da"
            ],
            [
             0.4,
             "#fde0ef"
            ],
            [
             0.5,
             "#f7f7f7"
            ],
            [
             0.6,
             "#e6f5d0"
            ],
            [
             0.7,
             "#b8e186"
            ],
            [
             0.8,
             "#7fbc41"
            ],
            [
             0.9,
             "#4d9221"
            ],
            [
             1,
             "#276419"
            ]
           ],
           "sequential": [
            [
             0,
             "#0d0887"
            ],
            [
             0.1111111111111111,
             "#46039f"
            ],
            [
             0.2222222222222222,
             "#7201a8"
            ],
            [
             0.3333333333333333,
             "#9c179e"
            ],
            [
             0.4444444444444444,
             "#bd3786"
            ],
            [
             0.5555555555555556,
             "#d8576b"
            ],
            [
             0.6666666666666666,
             "#ed7953"
            ],
            [
             0.7777777777777778,
             "#fb9f3a"
            ],
            [
             0.8888888888888888,
             "#fdca26"
            ],
            [
             1,
             "#f0f921"
            ]
           ],
           "sequentialminus": [
            [
             0,
             "#0d0887"
            ],
            [
             0.1111111111111111,
             "#46039f"
            ],
            [
             0.2222222222222222,
             "#7201a8"
            ],
            [
             0.3333333333333333,
             "#9c179e"
            ],
            [
             0.4444444444444444,
             "#bd3786"
            ],
            [
             0.5555555555555556,
             "#d8576b"
            ],
            [
             0.6666666666666666,
             "#ed7953"
            ],
            [
             0.7777777777777778,
             "#fb9f3a"
            ],
            [
             0.8888888888888888,
             "#fdca26"
            ],
            [
             1,
             "#f0f921"
            ]
           ]
          },
          "colorway": [
           "#636efa",
           "#EF553B",
           "#00cc96",
           "#ab63fa",
           "#FFA15A",
           "#19d3f3",
           "#FF6692",
           "#B6E880",
           "#FF97FF",
           "#FECB52"
          ],
          "font": {
           "color": "#2a3f5f"
          },
          "geo": {
           "bgcolor": "white",
           "lakecolor": "white",
           "landcolor": "#E5ECF6",
           "showlakes": true,
           "showland": true,
           "subunitcolor": "white"
          },
          "hoverlabel": {
           "align": "left"
          },
          "hovermode": "closest",
          "mapbox": {
           "style": "light"
          },
          "paper_bgcolor": "white",
          "plot_bgcolor": "#E5ECF6",
          "polar": {
           "angularaxis": {
            "gridcolor": "white",
            "linecolor": "white",
            "ticks": ""
           },
           "bgcolor": "#E5ECF6",
           "radialaxis": {
            "gridcolor": "white",
            "linecolor": "white",
            "ticks": ""
           }
          },
          "scene": {
           "xaxis": {
            "backgroundcolor": "#E5ECF6",
            "gridcolor": "white",
            "gridwidth": 2,
            "linecolor": "white",
            "showbackground": true,
            "ticks": "",
            "zerolinecolor": "white"
           },
           "yaxis": {
            "backgroundcolor": "#E5ECF6",
            "gridcolor": "white",
            "gridwidth": 2,
            "linecolor": "white",
            "showbackground": true,
            "ticks": "",
            "zerolinecolor": "white"
           },
           "zaxis": {
            "backgroundcolor": "#E5ECF6",
            "gridcolor": "white",
            "gridwidth": 2,
            "linecolor": "white",
            "showbackground": true,
            "ticks": "",
            "zerolinecolor": "white"
           }
          },
          "shapedefaults": {
           "line": {
            "color": "#2a3f5f"
           }
          },
          "ternary": {
           "aaxis": {
            "gridcolor": "white",
            "linecolor": "white",
            "ticks": ""
           },
           "baxis": {
            "gridcolor": "white",
            "linecolor": "white",
            "ticks": ""
           },
           "bgcolor": "#E5ECF6",
           "caxis": {
            "gridcolor": "white",
            "linecolor": "white",
            "ticks": ""
           }
          },
          "title": {
           "x": 0.05
          },
          "xaxis": {
           "automargin": true,
           "gridcolor": "white",
           "linecolor": "white",
           "ticks": "",
           "title": {
            "standoff": 15
           },
           "zerolinecolor": "white",
           "zerolinewidth": 2
          },
          "yaxis": {
           "automargin": true,
           "gridcolor": "white",
           "linecolor": "white",
           "ticks": "",
           "title": {
            "standoff": 15
           },
           "zerolinecolor": "white",
           "zerolinewidth": 2
          }
         }
        },
        "xaxis": {
         "anchor": "y",
         "domain": [
          0,
          1
         ],
         "title": {
          "text": "Price"
         }
        },
        "yaxis": {
         "anchor": "x",
         "domain": [
          0,
          1
         ],
         "title": {
          "text": "Dividend Yield"
         }
        }
       }
      }
     },
     "metadata": {},
     "output_type": "display_data"
    }
   ],
   "source": [
    "fig = px.density_heatmap(df, x = 'Price', y = 'Dividend Yield')\n",
    "fig.show()"
   ]
  },
  {
   "cell_type": "code",
   "execution_count": null,
   "metadata": {},
   "outputs": [],
   "source": []
  }
 ],
 "metadata": {
  "kernelspec": {
   "display_name": "base",
   "language": "python",
   "name": "python3"
  },
  "language_info": {
   "codemirror_mode": {
    "name": "ipython",
    "version": 3
   },
   "file_extension": ".py",
   "mimetype": "text/x-python",
   "name": "python",
   "nbconvert_exporter": "python",
   "pygments_lexer": "ipython3",
   "version": "3.9.12"
  },
  "orig_nbformat": 4,
  "vscode": {
   "interpreter": {
    "hash": "7be3598efc1fac84fc9604a56d543229b2c0cbced44a9b9668ebecb9445aa070"
   }
  }
 },
 "nbformat": 4,
 "nbformat_minor": 2
}
